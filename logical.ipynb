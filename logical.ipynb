{
 "cells": [
  {
   "cell_type": "markdown",
   "id": "da6c81d7-737d-453b-84e2-8b04c7f0ecb5",
   "metadata": {},
   "source": [
    "# logical Operator"
   ]
  },
  {
   "cell_type": "code",
   "execution_count": 4,
   "id": "78235a68-de2a-4c91-9b9c-0f88663183de",
   "metadata": {},
   "outputs": [],
   "source": [
    "ram ,shyam =30,36"
   ]
  },
  {
   "cell_type": "code",
   "execution_count": 5,
   "id": "61c15337-3f1b-46b6-8ceb-7c12185ed06d",
   "metadata": {},
   "outputs": [
    {
     "data": {
      "text/plain": [
       "False"
      ]
     },
     "execution_count": 5,
     "metadata": {},
     "output_type": "execute_result"
    }
   ],
   "source": [
    "ram>shyam"
   ]
  },
  {
   "cell_type": "code",
   "execution_count": 6,
   "id": "ab5977ee-43eb-40be-9ae0-33c82970a74c",
   "metadata": {},
   "outputs": [
    {
     "data": {
      "text/plain": [
       "True"
      ]
     },
     "execution_count": 6,
     "metadata": {},
     "output_type": "execute_result"
    }
   ],
   "source": [
    "ram<shyam"
   ]
  },
  {
   "cell_type": "code",
   "execution_count": 7,
   "id": "c31ac793-a41b-4d14-9ca6-b60bc2096147",
   "metadata": {},
   "outputs": [
    {
     "data": {
      "text/plain": [
       "False"
      ]
     },
     "execution_count": 7,
     "metadata": {},
     "output_type": "execute_result"
    }
   ],
   "source": [
    "ram == shyam"
   ]
  },
  {
   "cell_type": "code",
   "execution_count": 8,
   "id": "942fb134-a83b-4cda-aa61-626e5455752c",
   "metadata": {},
   "outputs": [
    {
     "data": {
      "text/plain": [
       "True"
      ]
     },
     "execution_count": 8,
     "metadata": {},
     "output_type": "execute_result"
    }
   ],
   "source": [
    "ram!=shyam"
   ]
  },
  {
   "cell_type": "code",
   "execution_count": 9,
   "id": "63f70334-5b72-4cd6-9c72-1809aeb34db0",
   "metadata": {},
   "outputs": [
    {
     "data": {
      "text/plain": [
       "True"
      ]
     },
     "execution_count": 9,
     "metadata": {},
     "output_type": "execute_result"
    }
   ],
   "source": [
    "ram<shyam"
   ]
  },
  {
   "cell_type": "code",
   "execution_count": 10,
   "id": "ca1c90ae-4efc-4e5b-8d65-7a1712ac8a69",
   "metadata": {},
   "outputs": [
    {
     "data": {
      "text/plain": [
       "[21, 32, ['Python', 'Sql'], 65, 89]"
      ]
     },
     "execution_count": 10,
     "metadata": {},
     "output_type": "execute_result"
    }
   ],
   "source": [
    "list1 =[21,32,[\"Python\", \"Sql\"], 65,89]\n",
    "list1"
   ]
  },
  {
   "cell_type": "code",
   "execution_count": 11,
   "id": "c2047ed2-f33e-4246-a518-f11cc507fdd1",
   "metadata": {},
   "outputs": [
    {
     "name": "stdout",
     "output_type": "stream",
     "text": [
      "['Python', 'Sql']\n",
      "Python\n",
      "Sql\n"
     ]
    }
   ],
   "source": [
    "print(list1[2])\n",
    "print(list1[2][0])\n",
    "print(list1[2][1])"
   ]
  },
  {
   "cell_type": "code",
   "execution_count": 12,
   "id": "dac1e55c-32f6-4ce9-99be-9ded5dd8487d",
   "metadata": {},
   "outputs": [
    {
     "data": {
      "text/plain": [
       "[21, 32, ['Pandas', 'Sql'], 65, 89]"
      ]
     },
     "execution_count": 12,
     "metadata": {},
     "output_type": "execute_result"
    }
   ],
   "source": [
    "list1[2][0]= \"Pandas\"\n",
    "list1"
   ]
  },
  {
   "cell_type": "code",
   "execution_count": 14,
   "id": "00b1ecd1-9d6a-4a82-928c-a489b6303e33",
   "metadata": {},
   "outputs": [
    {
     "data": {
      "text/plain": [
       "[21, 32, ['Pandas', 'Sql'], ['Numpy', 'Imarticus'], 89]"
      ]
     },
     "execution_count": 14,
     "metadata": {},
     "output_type": "execute_result"
    }
   ],
   "source": [
    "list1[3]=[\"Numpy\",\"Imarticus\"]\n",
    "list1"
   ]
  },
  {
   "cell_type": "code",
   "execution_count": 15,
   "id": "6fd4881d-ef09-44bc-9da4-ab1200ba6e26",
   "metadata": {},
   "outputs": [
    {
     "name": "stdout",
     "output_type": "stream",
     "text": [
      "21\n",
      "32\n",
      "['Pandas', 'Sql']\n",
      "['Numpy', 'Imarticus']\n",
      "89\n"
     ]
    }
   ],
   "source": [
    "for i in list1:\n",
    "    print(i)"
   ]
  },
  {
   "cell_type": "code",
   "execution_count": 16,
   "id": "bbc04182-f3e7-4427-993a-7f4f3bb9fa24",
   "metadata": {},
   "outputs": [
    {
     "data": {
      "text/plain": [
       "[21, 32, ['Pandas', 'Sql'], ['Numpy', 'Imarticus'], 89, 23, 54, 74]"
      ]
     },
     "execution_count": 16,
     "metadata": {},
     "output_type": "execute_result"
    }
   ],
   "source": [
    "list1.extend([23,54,74])\n",
    "list1"
   ]
  },
  {
   "cell_type": "markdown",
   "id": "7d35e6fb-118e-43e7-b061-14aa49aa86a7",
   "metadata": {},
   "source": [
    "list1.extend((20,30))\n",
    "list1"
   ]
  },
  {
   "cell_type": "markdown",
   "id": "89df1cff-8e03-4ddd-a46d-37a78edfab3c",
   "metadata": {},
   "source": [
    "####  the difference between append and extend \n",
    "####  append add list [2,30] as single element at the end of the existing list\n",
    "#### but extend() add the element of the of list[20,30] individually  just remember it seperate the lsit on the basis of comma(,)\n",
    "#### list2.extend(20,[30,50],\"Seaborn\")\n",
    "#### list3.append(50,[30,50],\"Matplotlib\")"
   ]
  },
  {
   "cell_type": "code",
   "execution_count": 32,
   "id": "8c81df15-9cf1-44d1-867f-09fe750f8694",
   "metadata": {},
   "outputs": [
    {
     "name": "stdout",
     "output_type": "stream",
     "text": [
      " Using extend\n",
      " [20, 20, [30, 50], 'Seaborn']\n",
      "using appned \n",
      " [25, [50, [30, 50], 'Matplotlib']]\n"
     ]
    }
   ],
   "source": [
    "list2=[20]\n",
    "list3=[25]\n",
    "list2.extend([20,[30,50],\"Seaborn\"])\n",
    "list3.append([50,[30,50],\"Matplotlib\"])\n",
    "print(\" Using extend\\n\",list2)\n",
    "print(\"using appned \\n\",list3)"
   ]
  }
 ],
 "metadata": {
  "kernelspec": {
   "display_name": "Python 3 (ipykernel)",
   "language": "python",
   "name": "python3"
  },
  "language_info": {
   "codemirror_mode": {
    "name": "ipython",
    "version": 3
   },
   "file_extension": ".py",
   "mimetype": "text/x-python",
   "name": "python",
   "nbconvert_exporter": "python",
   "pygments_lexer": "ipython3",
   "version": "3.12.2"
  }
 },
 "nbformat": 4,
 "nbformat_minor": 5
}
