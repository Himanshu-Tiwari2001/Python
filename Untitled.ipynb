{
 "cells": [
  {
   "cell_type": "code",
   "execution_count": null,
   "id": "b3c61e4c-696c-4d81-8790-0488ad307d3e",
   "metadata": {},
   "outputs": [],
   "source": [
    "even = 0\n",
    "odd = 0\n",
    "\n",
    "for i in range(50):  \n",
    "    if i % 2 == 0:\n",
    "        even += 1  \n",
    "    else:\n",
    "        odd += 1 \n",
    "\n",
    "print(\"The count of even numbers is\", even)\n",
    "print(\"The count of odd numbers is\", odd)"
   ]
  },
  {
   "cell_type": "code",
   "execution_count": null,
   "id": "ddc358e0-56eb-430e-aa54-b80ffe1fc22c",
   "metadata": {},
   "outputs": [],
   "source": [
    "i=0\n",
    "for i in range(50):\n",
    "    sum=i+i+1\n",
    "    print(sum,end=\" \")\n"
   ]
  },
  {
   "cell_type": "code",
   "execution_count": null,
   "id": "f6a0332f-3321-4fa2-b4c1-8ab3c7eadd34",
   "metadata": {},
   "outputs": [],
   "source": [
    "# n=int(input(\"Enter the range\"))\n",
    "i=0\n",
    "\n",
    "while i<=n:\n",
    "    sum=n*(n-1)/2\n",
    "    \n",
    "print(sum)\n",
    "    "
   ]
  },
  {
   "cell_type": "code",
   "execution_count": 3,
   "id": "21b00f47-d9ba-45de-8fc9-dcd15c5981d9",
   "metadata": {},
   "outputs": [
    {
     "name": "stdin",
     "output_type": "stream",
     "text": [
      "Enter the string hlw\n"
     ]
    },
    {
     "name": "stdout",
     "output_type": "stream",
     "text": [
      "h -1\n",
      "l -1\n",
      "w -1\n"
     ]
    }
   ],
   "source": [
    "str1=input(\"Enter the string\")\n",
    "for i in str1:\n",
    "    print(i)"
   ]
  },
  {
   "cell_type": "code",
   "execution_count": 14,
   "id": "f44edd5e-12cf-40fb-935d-9db532e082ad",
   "metadata": {},
   "outputs": [
    {
     "name": "stdin",
     "output_type": "stream",
     "text": [
      "Enter the heights 10 20 30\n"
     ]
    },
    {
     "name": "stdout",
     "output_type": "stream",
     "text": [
      "The heights of persons are  ['10', '20', '30']\n",
      "The length of string is  3\n",
      "[10, 20, 30]\n",
      "The average height is  20.0\n"
     ]
    }
   ],
   "source": [
    "height=input(\"Enter the heights\")\n",
    "height_list=height.split(\" \")\n",
    "print(\"The heights of persons are \",height_list)\n",
    "count=0\n",
    "total=0\n",
    "for i in height_list:\n",
    "    count+=1\n",
    "print(\"The length of string is \",count)\n",
    "\n",
    "for i in range(count):\n",
    "    height_list[i]=int(height_list[i])\n",
    "print(height_list)\n",
    "\n",
    "for person in height_list:\n",
    "    total=total+person\n",
    "average=total/count\n",
    "print(\"The average height is \",average)"
   ]
  },
  {
   "cell_type": "code",
   "execution_count": 22,
   "id": "781d950f-ccaf-41ff-b1c8-0d654db85f1d",
   "metadata": {},
   "outputs": [
    {
     "name": "stdin",
     "output_type": "stream",
     "text": [
      "Enter the number 20 3245\n"
     ]
    },
    {
     "name": "stdout",
     "output_type": "stream",
     "text": [
      "['20', '3245']\n",
      "the maximum number is 3245\n"
     ]
    }
   ],
   "source": [
    "\n",
    "numbers_list=input(\"Enter the number\")\n",
    "number_list=numbers_list.split(\" \")\n",
    "print(number_list)\n",
    "\n",
    "for i in range(len(number_list)):\n",
    "    number_list[i]=int(number_list[i])\n",
    "\n",
    "\n",
    "max_number=number_list[0]\n",
    "\n",
    "for number in number_list:\n",
    "    if number>number_list[0]:\n",
    "        max_number=number\n",
    "\n",
    "print(f\"the maximum number is {max_number}\")\n",
    "\n"
   ]
  },
  {
   "cell_type": "code",
   "execution_count": 29,
   "id": "98060eb1-1870-476b-8f65-433cae9bdc3c",
   "metadata": {},
   "outputs": [
    {
     "name": "stdout",
     "output_type": "stream",
     "text": [
      "fizz 3\n",
      "buzz 5\n",
      "fizz 6\n",
      "fizz 9\n",
      "buzz 10\n",
      "fizz 12\n",
      "FIZZBUZZ 15\n",
      "buzz 15\n",
      "fizz 18\n",
      "buzz 20\n",
      "fizz 21\n",
      "fizz 24\n",
      "buzz 25\n",
      "fizz 27\n",
      "FIZZBUZZ 30\n",
      "buzz 30\n"
     ]
    }
   ],
   "source": [
    "# print number divisible by  -- 3 - fizz\n",
    "# print  number divisible by  --5 - buzz\n",
    "# print  number divisible by  3 and 5 fizzbuzz\n",
    "\n",
    "\n",
    "\n",
    "for number in range (1,31):\n",
    "    if number%3==0:\n",
    "        if number%5==0:\n",
    "            print(\"FIZZBUZZ\",number)\n",
    "        else:\n",
    "           print(\"fizz\",number)\n",
    "    if number%5==0:\n",
    "       print(\"buzz\",number)\n",
    "    \n",
    "            "
   ]
  },
  {
   "cell_type": "code",
   "execution_count": null,
   "id": "298ae21c-db27-4787-9e18-221fd47f90ce",
   "metadata": {},
   "outputs": [],
   "source": []
  }
 ],
 "metadata": {
  "kernelspec": {
   "display_name": "Python 3 (ipykernel)",
   "language": "python",
   "name": "python3"
  },
  "language_info": {
   "codemirror_mode": {
    "name": "ipython",
    "version": 3
   },
   "file_extension": ".py",
   "mimetype": "text/x-python",
   "name": "python",
   "nbconvert_exporter": "python",
   "pygments_lexer": "ipython3",
   "version": "3.12.2"
  }
 },
 "nbformat": 4,
 "nbformat_minor": 5
}
