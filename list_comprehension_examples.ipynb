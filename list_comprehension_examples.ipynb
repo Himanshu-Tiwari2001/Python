{
 "cells": [
  {
   "cell_type": "markdown",
   "id": "c83e84f3",
   "metadata": {},
   "source": [
    "### 1. Generate a list of squares from 1 to 20"
   ]
  },
  {
   "cell_type": "code",
   "execution_count": null,
   "id": "faa9671d",
   "metadata": {},
   "outputs": [],
   "source": [
    "[x**2 for x in range(1, 21)]"
   ]
  },
  {
   "cell_type": "markdown",
   "id": "7eeaa046",
   "metadata": {},
   "source": [
    "### 2. Generate a list of cubes from 1 to 10"
   ]
  },
  {
   "cell_type": "code",
   "execution_count": null,
   "id": "850bef84",
   "metadata": {},
   "outputs": [],
   "source": [
    "[x**3 for x in range(1, 11)]"
   ]
  },
  {
   "cell_type": "markdown",
   "id": "5e21e2dd",
   "metadata": {},
   "source": [
    "### 3. Extract even numbers from 1 to 50"
   ]
  },
  {
   "cell_type": "code",
   "execution_count": null,
   "id": "132fbf16",
   "metadata": {},
   "outputs": [],
   "source": [
    "[x for x in range(1, 51) if x % 2 == 0]"
   ]
  },
  {
   "cell_type": "markdown",
   "id": "eaedc709",
   "metadata": {},
   "source": [
    "### 4. Extract odd numbers from 1 to 50"
   ]
  },
  {
   "cell_type": "code",
   "execution_count": null,
   "id": "e6f451a1",
   "metadata": {},
   "outputs": [],
   "source": [
    "[x for x in range(1, 51) if x % 2 != 0]"
   ]
  },
  {
   "cell_type": "markdown",
   "id": "b2ba6c6d",
   "metadata": {},
   "source": [
    "### 5. Convert a list of Celsius temperatures to Fahrenheit"
   ]
  },
  {
   "cell_type": "code",
   "execution_count": null,
   "id": "8cf126bf",
   "metadata": {},
   "outputs": [],
   "source": [
    "[(c * 9/5) + 32 for c in range(0, 101, 10)]"
   ]
  },
  {
   "cell_type": "markdown",
   "id": "4be61ca7",
   "metadata": {},
   "source": [
    "### 6. Get the length of each word in a sentence"
   ]
  },
  {
   "cell_type": "code",
   "execution_count": null,
   "id": "5f719af6",
   "metadata": {},
   "outputs": [],
   "source": [
    "[len(word) for word in 'Python is awesome'.split()]"
   ]
  },
  {
   "cell_type": "markdown",
   "id": "d7fbd4ef",
   "metadata": {},
   "source": [
    "### 7. Create a list of first 10 multiples of 5"
   ]
  },
  {
   "cell_type": "code",
   "execution_count": null,
   "id": "1f6e0447",
   "metadata": {},
   "outputs": [],
   "source": [
    "[x * 5 for x in range(1, 11)]"
   ]
  },
  {
   "cell_type": "markdown",
   "id": "26d4f701",
   "metadata": {},
   "source": [
    "### 8. Reverse each word in a sentence"
   ]
  },
  {
   "cell_type": "code",
   "execution_count": null,
   "id": "28b3cdb8",
   "metadata": {},
   "outputs": [],
   "source": [
    "[word[::-1] for word in 'Hello World Python'.split()]"
   ]
  },
  {
   "cell_type": "markdown",
   "id": "2a06175c",
   "metadata": {},
   "source": [
    "### 9. Extract vowels from a string"
   ]
  },
  {
   "cell_type": "code",
   "execution_count": null,
   "id": "1943f775",
   "metadata": {},
   "outputs": [],
   "source": [
    "[ch for ch in 'List Comprehension in Python' if ch.lower() in 'aeiou']"
   ]
  },
  {
   "cell_type": "markdown",
   "id": "6e30e03e",
   "metadata": {},
   "source": [
    "### 10. Flatten a nested list"
   ]
  },
  {
   "cell_type": "code",
   "execution_count": null,
   "id": "ea5aa9fc",
   "metadata": {},
   "outputs": [],
   "source": [
    "[num for sublist in [[1,2,3], [4,5,6], [7,8,9]] for num in sublist]"
   ]
  },
  {
   "cell_type": "markdown",
   "id": "ba9c60dc",
   "metadata": {},
   "source": [
    "### 11. Create a list of squares of only even numbers"
   ]
  },
  {
   "cell_type": "code",
   "execution_count": null,
   "id": "472209e6",
   "metadata": {},
   "outputs": [],
   "source": [
    "[x**2 for x in range(1, 21) if x % 2 == 0]"
   ]
  },
  {
   "cell_type": "markdown",
   "id": "156ddd2f",
   "metadata": {},
   "source": [
    "### 12. Convert a list of strings to uppercase"
   ]
  },
  {
   "cell_type": "code",
   "execution_count": null,
   "id": "e53006fe",
   "metadata": {},
   "outputs": [],
   "source": [
    "[word.upper() for word in ['python', 'java', 'c++']]"
   ]
  },
  {
   "cell_type": "markdown",
   "id": "7eb2d4da",
   "metadata": {},
   "source": [
    "### 13. Generate a list of numbers divisible by 3 and 5"
   ]
  },
  {
   "cell_type": "code",
   "execution_count": null,
   "id": "65e16537",
   "metadata": {},
   "outputs": [],
   "source": [
    "[x for x in range(1, 101) if x % 3 == 0 and x % 5 == 0]"
   ]
  },
  {
   "cell_type": "markdown",
   "id": "27ae908c",
   "metadata": {},
   "source": [
    "### 14. Generate a list of factorials from 1 to 5"
   ]
  },
  {
   "cell_type": "code",
   "execution_count": null,
   "id": "5c629835",
   "metadata": {},
   "outputs": [],
   "source": [
    "[1 if x == 0 else x * (x-1) for x in range(1, 6)]"
   ]
  },
  {
   "cell_type": "markdown",
   "id": "cc2c052e",
   "metadata": {},
   "source": [
    "### 15. Create a list of tuples with numbers and their squares"
   ]
  },
  {
   "cell_type": "code",
   "execution_count": null,
   "id": "1a4b2965",
   "metadata": {},
   "outputs": [],
   "source": [
    "[(x, x**2) for x in range(1, 11)]"
   ]
  },
  {
   "cell_type": "markdown",
   "id": "e43280af",
   "metadata": {},
   "source": [
    "### 16. Replace even numbers with 'Even' and odd with 'Odd'"
   ]
  },
  {
   "cell_type": "code",
   "execution_count": null,
   "id": "b4f712f0",
   "metadata": {},
   "outputs": [],
   "source": [
    "['Even' if x % 2 == 0 else 'Odd' for x in range(1, 21)]"
   ]
  },
  {
   "cell_type": "markdown",
   "id": "3d3f1896",
   "metadata": {},
   "source": [
    "### 17. Generate a list of prime numbers up to 50"
   ]
  },
  {
   "cell_type": "code",
   "execution_count": null,
   "id": "294be303",
   "metadata": {},
   "outputs": [],
   "source": [
    "[x for x in range(2, 51) if all(x % i != 0 for i in range(2, int(x**0.5) + 1))]"
   ]
  },
  {
   "cell_type": "markdown",
   "id": "498ff57f",
   "metadata": {},
   "source": [
    "### 18. Find common elements in two lists"
   ]
  },
  {
   "cell_type": "code",
   "execution_count": null,
   "id": "c27bf1e6",
   "metadata": {},
   "outputs": [],
   "source": [
    "[x for x in [1, 2, 3, 4, 5] if x in [3, 4, 5, 6, 7]]"
   ]
  },
  {
   "cell_type": "markdown",
   "id": "3df38db2",
   "metadata": {},
   "source": [
    "### 19. Generate a list of random integers"
   ]
  },
  {
   "cell_type": "code",
   "execution_count": null,
   "id": "d3d9c82c",
   "metadata": {},
   "outputs": [],
   "source": [
    "[(x * 3) % 50 for x in range(1, 21)]"
   ]
  },
  {
   "cell_type": "markdown",
   "id": "5f42a1e2",
   "metadata": {},
   "source": [
    "### 20. Count occurrences of each letter in a string"
   ]
  },
  {
   "cell_type": "code",
   "execution_count": null,
   "id": "8e184db5",
   "metadata": {},
   "outputs": [],
   "source": [
    "{ch: 'hello world'.count(ch) for ch in set('hello world')}"
   ]
  },
  {
   "cell_type": "markdown",
   "id": "8c3209fb",
   "metadata": {},
   "source": [
    "### 21. Generate a list of words starting with 'P'"
   ]
  },
  {
   "cell_type": "code",
   "execution_count": null,
   "id": "d8251541",
   "metadata": {},
   "outputs": [],
   "source": [
    "[word for word in ['Python', 'Java', 'PHP', 'C++'] if word.startswith('P')]"
   ]
  },
  {
   "cell_type": "markdown",
   "id": "04af81e4",
   "metadata": {},
   "source": [
    "### 22. Remove duplicates from a list"
   ]
  },
  {
   "cell_type": "code",
   "execution_count": null,
   "id": "235fb543",
   "metadata": {},
   "outputs": [],
   "source": [
    "list({x for x in [1, 2, 2, 3, 4, 4, 5]})"
   ]
  },
  {
   "cell_type": "markdown",
   "id": "96c3f514",
   "metadata": {},
   "source": [
    "### 23. Create a dictionary of numbers and their squares"
   ]
  },
  {
   "cell_type": "code",
   "execution_count": null,
   "id": "51aa10e2",
   "metadata": {},
   "outputs": [],
   "source": [
    "{x: x**2 for x in range(1, 11)}"
   ]
  },
  {
   "cell_type": "markdown",
   "id": "354100be",
   "metadata": {},
   "source": [
    "### 24. Extract digits from a string"
   ]
  },
  {
   "cell_type": "code",
   "execution_count": null,
   "id": "31e57284",
   "metadata": {},
   "outputs": [],
   "source": [
    "[int(ch) for ch in 'a1b2c3d4' if ch.isdigit()]"
   ]
  },
  {
   "cell_type": "markdown",
   "id": "f8cb4f6f",
   "metadata": {},
   "source": [
    "### 25. Convert a list of numbers to strings"
   ]
  },
  {
   "cell_type": "code",
   "execution_count": null,
   "id": "53aa73f4",
   "metadata": {},
   "outputs": [],
   "source": [
    "[str(x) for x in range(10)]"
   ]
  },
  {
   "cell_type": "markdown",
   "id": "26e65fae",
   "metadata": {},
   "source": [
    "### 26. Get ASCII values of characters in a string"
   ]
  },
  {
   "cell_type": "code",
   "execution_count": null,
   "id": "03d2f8ff",
   "metadata": {},
   "outputs": [],
   "source": [
    "[ord(ch) for ch in 'Hello']"
   ]
  },
  {
   "cell_type": "markdown",
   "id": "08f95d2f",
   "metadata": {},
   "source": [
    "### 27. Create a list of booleans indicating if a number is even"
   ]
  },
  {
   "cell_type": "code",
   "execution_count": null,
   "id": "3eb4bfe1",
   "metadata": {},
   "outputs": [],
   "source": [
    "[x % 2 == 0 for x in range(1, 11)]"
   ]
  },
  {
   "cell_type": "markdown",
   "id": "85923bc9",
   "metadata": {},
   "source": [
    "### 28. Create a matrix using list comprehension"
   ]
  },
  {
   "cell_type": "code",
   "execution_count": null,
   "id": "a218686e",
   "metadata": {},
   "outputs": [],
   "source": [
    "[[x+y for y in range(3)] for x in range(3)]"
   ]
  },
  {
   "cell_type": "markdown",
   "id": "2ec1e10c",
   "metadata": {},
   "source": [
    "### 29. Extract uppercase letters from a string"
   ]
  },
  {
   "cell_type": "code",
   "execution_count": null,
   "id": "1037c290",
   "metadata": {},
   "outputs": [],
   "source": [
    "[ch for ch in 'Hello Python' if ch.isupper()]"
   ]
  },
  {
   "cell_type": "markdown",
   "id": "71ae34f1",
   "metadata": {},
   "source": [
    "### 30. Generate Fibonacci series up to 10 terms"
   ]
  },
  {
   "cell_type": "code",
   "execution_count": null,
   "id": "441398ba",
   "metadata": {},
   "outputs": [],
   "source": [
    "[(lambda n: (n if n <= 1 else (lambda a, b: [a] + b(a + b, b))[0])(n))(i) for i in range(10)]"
   ]
  },
  {
   "cell_type": "markdown",
   "id": "e552f9f0",
   "metadata": {},
   "source": [
    "### 31. Generate a list of words with more than 3 letters"
   ]
  },
  {
   "cell_type": "code",
   "execution_count": null,
   "id": "df0cc171",
   "metadata": {},
   "outputs": [],
   "source": [
    "[word for word in 'The quick brown fox'.split() if len(word) > 3]"
   ]
  },
  {
   "cell_type": "markdown",
   "id": "251bedc0",
   "metadata": {},
   "source": [
    "### 32. Check if numbers are perfect squares"
   ]
  },
  {
   "cell_type": "code",
   "execution_count": null,
   "id": "acb4f7d3",
   "metadata": {},
   "outputs": [],
   "source": [
    "[x if (x**0.5).is_integer() else None for x in range(1, 51)]"
   ]
  },
  {
   "cell_type": "markdown",
   "id": "2cfa91fa",
   "metadata": {},
   "source": [
    "### 33. Generate list of alternating 0s and 1s"
   ]
  },
  {
   "cell_type": "code",
   "execution_count": null,
   "id": "0e68b96e",
   "metadata": {},
   "outputs": [],
   "source": [
    "[0 if x % 2 == 0 else 1 for x in range(10)]"
   ]
  },
  {
   "cell_type": "markdown",
   "id": "b9e9ab16",
   "metadata": {},
   "source": [
    "### 34. Filter palindromes from a list"
   ]
  },
  {
   "cell_type": "code",
   "execution_count": null,
   "id": "bad4f1a9",
   "metadata": {},
   "outputs": [],
   "source": [
    "[word for word in ['madam', 'racecar', 'python'] if word == word[::-1]]"
   ]
  },
  {
   "cell_type": "markdown",
   "id": "368e84ca",
   "metadata": {},
   "source": [
    "### 35. Find all substrings of a string"
   ]
  },
  {
   "cell_type": "code",
   "execution_count": null,
   "id": "8689682e",
   "metadata": {},
   "outputs": [],
   "source": [
    "[string[i:j] for i in range(len(string := 'abc')) for j in range(i+1, len(string)+1)]"
   ]
  },
  {
   "cell_type": "markdown",
   "id": "473551ae",
   "metadata": {},
   "source": [
    "### 36. Create a 3x3 identity matrix"
   ]
  },
  {
   "cell_type": "code",
   "execution_count": null,
   "id": "061acf38",
   "metadata": {},
   "outputs": [],
   "source": [
    "[[1 if i == j else 0 for j in range(3)] for i in range(3)]"
   ]
  },
  {
   "cell_type": "markdown",
   "id": "dad05942",
   "metadata": {},
   "source": [
    "### 37. Find perfect numbers up to 100"
   ]
  },
  {
   "cell_type": "code",
   "execution_count": null,
   "id": "6beb98b8",
   "metadata": {},
   "outputs": [],
   "source": [
    "[x for x in range(1, 101) if sum([i for i in range(1, x) if x % i == 0]) == x]"
   ]
  },
  {
   "cell_type": "markdown",
   "id": "df18a6ba",
   "metadata": {},
   "source": [
    "### 38. Find factorial using list comprehension"
   ]
  },
  {
   "cell_type": "code",
   "execution_count": null,
   "id": "6106cd3a",
   "metadata": {},
   "outputs": [],
   "source": [
    "[1 if x == 0 else x * [1 if y == 0 else y for y in range(1, x+1)][-1] for x in range(6)]"
   ]
  },
  {
   "cell_type": "markdown",
   "id": "ce8e1e05",
   "metadata": {},
   "source": [
    "### 39. Count the frequency of each word in a sentence"
   ]
  },
  {
   "cell_type": "code",
   "execution_count": null,
   "id": "d2ee0ac4",
   "metadata": {},
   "outputs": [],
   "source": [
    "{word: 'hello world hello'.split().count(word) for word in set('hello world hello'.split())}"
   ]
  },
  {
   "cell_type": "markdown",
   "id": "b167cdfc",
   "metadata": {},
   "source": [
    "### 40. Create a list of alternating signs"
   ]
  },
  {
   "cell_type": "code",
   "execution_count": null,
   "id": "eddd87e5",
   "metadata": {},
   "outputs": [],
   "source": [
    "[x if x % 2 == 0 else -x for x in range(1, 11)]"
   ]
  }
 ],
 "metadata": {
  "kernelspec": {
   "display_name": "Python 3 (ipykernel)",
   "language": "python",
   "name": "python3"
  },
  "language_info": {
   "codemirror_mode": {
    "name": "ipython",
    "version": 3
   },
   "file_extension": ".py",
   "mimetype": "text/x-python",
   "name": "python",
   "nbconvert_exporter": "python",
   "pygments_lexer": "ipython3",
   "version": "3.12.2"
  }
 },
 "nbformat": 4,
 "nbformat_minor": 5
}
