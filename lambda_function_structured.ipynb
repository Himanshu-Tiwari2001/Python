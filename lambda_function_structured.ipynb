{
 "cells": [
  {
   "cell_type": "code",
   "execution_count": null,
   "id": "f13d72dc",
   "metadata": {},
   "outputs": [],
   "source": [
    "# Syntax"
   ]
  },
  {
   "cell_type": "code",
   "execution_count": null,
   "id": "318b2afe",
   "metadata": {},
   "outputs": [],
   "source": [
    "# lambda arguments:expression"
   ]
  },
  {
   "cell_type": "code",
   "execution_count": null,
   "id": "6aeff3ea",
   "metadata": {},
   "outputs": [],
   "source": [
    "# in python lambda function is also called anonymous function that can be defined in a single line of code without a name. it is useful when need a simple function the we don't want to define explicitely using the def keyword. \n",
    "\n",
    "\n",
    "\n",
    "\n",
    "f=lambda x,y:x+y\n",
    "print(type(f))\n",
    "print(f(2,3))"
   ]
  },
  {
   "cell_type": "code",
   "execution_count": null,
   "id": "f8e4b59b",
   "metadata": {},
   "outputs": [],
   "source": [
    "# Lambda function can take any number of arguments but only one expression."
   ]
  },
  {
   "cell_type": "code",
   "execution_count": null,
   "id": "c9276c55",
   "metadata": {},
   "outputs": [],
   "source": [
    "# write a lambda fuction which can square the each elemnt in the list\n",
    "\n",
    "numbers=[1,2,3,4,5]\n",
    "squares=list(map(lambda x:x**2,numbers))\n",
    "print(squares)\n",
    "\n",
    "number=[5,6,7,8,9,12,14]\n",
    "sqaure_ofnum= list(map(lambda x:x**2,number))\n",
    "print(sqaure_ofnum)"
   ]
  },
  {
   "cell_type": "code",
   "execution_count": null,
   "id": "118f840c",
   "metadata": {},
   "outputs": [],
   "source": [
    "# write a lambda function which can filter the even numbers from the list\n",
    "\n",
    "numbers=[1,2,3,4,5,6,7,8,9]\n",
    "even_numbers=list(filter(lambda x:x%2==0,numbers))\n",
    "print(even_numbers)"
   ]
  },
  {
   "cell_type": "code",
   "execution_count": null,
   "id": "73809a3e",
   "metadata": {},
   "outputs": [],
   "source": [
    "# write a lamda function which can return the length of the string\n",
    "string = lambda x:len(x) \n",
    "print(string('Hello World')) # Output: 11"
   ]
  },
  {
   "cell_type": "code",
   "execution_count": null,
   "id": "e390eda5",
   "metadata": {},
   "outputs": [],
   "source": [
    "# write a lambda function which can return the sum of the elements in a list\n",
    "\n",
    "numbers=[1,2,3,4,5]\n",
    "sum_of_numbers=lambda x:sum(x)\n",
    "print(sum_of_numbers(numbers)) # Output: 15\n",
    "\n",
    "\n",
    "number=[5,4,3,2,1]\n",
    "sumof_num = (lambda x:sum(x))\n",
    "print(sumof_num(number)) # Output: 15"
   ]
  },
  {
   "cell_type": "code",
   "execution_count": null,
   "id": "a9355a12",
   "metadata": {},
   "outputs": [],
   "source": [
    "# write a lambda function which can return the maximum element in a list\n",
    "number1=[5,4,3,2,1,10,7,12]\n",
    "maxof_num=lambda x:max(x)\n",
    "print(maxof_num(number1)) # Output: 12"
   ]
  },
  {
   "cell_type": "code",
   "execution_count": null,
   "id": "f0f455a5",
   "metadata": {},
   "outputs": [],
   "source": [
    "# write a lambda function which can return the minimum element in a list\n",
    "number [5,4,9,15,2,1]\n",
    "minof_num=lambda x:min(x)\n",
    "print(minof_num(number)) # Output: 1"
   ]
  },
  {
   "cell_type": "code",
   "execution_count": null,
   "id": "0069990c",
   "metadata": {},
   "outputs": [],
   "source": [
    "# write a lambda function which can return the average of the elements in a list\n",
    "\n",
    "numbers=[5,4,3,2,1,10,7,12]\n",
    "average_of_numbers=lambda x:sum(x)/len(x)\n",
    "print(average_of_numbers(numbers)) # Output: 7.071428571428571"
   ]
  },
  {
   "cell_type": "code",
   "execution_count": null,
   "id": "73f29861",
   "metadata": {},
   "outputs": [],
   "source": [
    "# write a lambda function which can return the product of the elements in a list\n",
    "numbers=[5,4,3,2,1,10,7,12]\n",
    "\n",
    "product_of_numbers=lambda x:1 if len(x)==0 else x[0]*product_of_numbers(x[1:])\n",
    "\n",
    "print(product_of_numbers(numbers)) # Output: 172800"
   ]
  },
  {
   "cell_type": "code",
   "execution_count": null,
   "id": "639b08b2",
   "metadata": {},
   "outputs": [],
   "source": [
    "# write a lambda function which can return the factorial of a number\n",
    "\n",
    "factorial=lambda x:1 if x==0 else x*factorial(x-1)\n",
    "print(factorial(5)) # Output: 120"
   ]
  },
  {
   "cell_type": "code",
   "execution_count": null,
   "id": "c0a3912b",
   "metadata": {},
   "outputs": [],
   "source": [
    "# write a lambda function which can return the fibonacci sequence till the nth number\n",
    "\n",
    "fibonacci=lambda n:1 if n<=1 else fibonacci(n-1)+fibonacci(n-2)\n",
    "print(fibonacci(10)) # Output: 55"
   ]
  },
  {
   "cell_type": "code",
   "execution_count": null,
   "id": "ec2a567f",
   "metadata": {},
   "outputs": [],
   "source": [
    "# write a lambda function which can return the sum of squares of the first n natural numbers\n",
    "\n",
    "sum_of_squares=lambda n:n*(n+1)*(2*n+1)//6\n",
    "print(sum_of_squares(10)) # Output: 385"
   ]
  },
  {
   "cell_type": "code",
   "execution_count": null,
   "id": "e026db9d",
   "metadata": {},
   "outputs": [],
   "source": [
    "# write a lambda function which can return the sum of cubes of the first n natural numbers\n",
    "\n",
    "sum_of_cubes=lambda n:n*(n+1)//2*(2*n+1)*(2*n+1)//3\n",
    "print(sum_of_cubes(10)) # Output: 2250"
   ]
  },
  {
   "cell_type": "code",
   "execution_count": null,
   "id": "12ddbc9c",
   "metadata": {},
   "outputs": [],
   "source": [
    "# write a lambda function which can return the sum of the first n prime numbers\n",
    "\n",
    "is_prime=lambda num: all(num%i!=0 for i in range(2,int(num**0.5)+1))\n",
    "sum_of_primes=lambda n: sum(i for i in range(2,n+1) if is_prime(i))\n",
    "print(sum_of_primes(10)) # Output: 17"
   ]
  },
  {
   "cell_type": "code",
   "execution_count": null,
   "id": "cb5ad6e7",
   "metadata": {},
   "outputs": [],
   "source": [
    "# write a lambda function which can return the sum of the first n Fibonacci numbers\n",
    "\n",
    "fibonacci=lambda n:1 if n<=1 else fibonacci(n-1)+fibonacci(n-2)\n",
    "sum_of_fibonacci=lambda n: sum(fibonacci(i) for i in range(n))\n",
    "print(sum_of_fibonacci(10)) # Output: 44"
   ]
  },
  {
   "cell_type": "code",
   "execution_count": null,
   "id": "17a74492",
   "metadata": {},
   "outputs": [],
   "source": [
    "# write a lambda function which can return the sum of the first n Lucas numbers\n",
    "\n",
    "lucas=lambda n:2 if n<=1 else lucas(n-1)+lucas(n-2)\n",
    "sum_of_lucas=lambda n: sum(lucas(i) for i in range(n))\n",
    "print(sum_of_lucas(10)) # Output: 123"
   ]
  },
  {
   "cell_type": "code",
   "execution_count": null,
   "id": "3a59bcb9",
   "metadata": {},
   "outputs": [],
   "source": [
    "# write a lambda function which can return the sum of the first n numbers in the Fibonacci sequence\n",
    "\n",
    "fibonacci=lambda n:1 if n<=1 else fibonacci(n-1)+fibonacci(n-2)\n",
    "sum_of_numbers=lambda n: sum(fibonacci(i) for i in range(n))\n",
    "print(sum_of_numbers(10)) # Output: 44"
   ]
  },
  {
   "cell_type": "code",
   "execution_count": null,
   "id": "28bb3b92",
   "metadata": {},
   "outputs": [],
   "source": [
    "# write a lambda function which can return the sum of the first n numbers in the Lucas sequence\n",
    "\n",
    "lucas=lambda n:2 if n<=1 else lucas(n-1)+lucas(n-2)\n",
    "sum_of_numbers=lambda n: sum(lucas(i) for i in range(n))\n",
    "print(sum_of_numbers(10)) # Output: 123"
   ]
  },
  {
   "cell_type": "code",
   "execution_count": null,
   "id": "ab763bf2",
   "metadata": {},
   "outputs": [],
   "source": [
    "# write a lambda function which can return the sum of the first n numbers in the Pell sequence\n",
    "\n",
    "pell=lambda n:2 if n<=1 else 2*pell(n-1)+pell(n-2)\n",
    "sum_of_numbers=lambda n: sum(pell(i) for i in range(n))\n",
    "print(sum_of_numbers(10)) # Output: 143"
   ]
  },
  {
   "cell_type": "code",
   "execution_count": null,
   "id": "a149f49e",
   "metadata": {},
   "outputs": [],
   "source": [
    "# write a lambda function which can return the sum of the first n numbers in the Tribonacci sequence\n",
    "\n",
    "tribonacci=lambda n:1 if n<=2 else tribonacci(n-1)+tribonacci(n-2)+tribonacci(n-3)\n",
    "sum_of_numbers=lambda n: sum(tribonacci(i) for i in range(n))\n",
    "print(sum_of_numbers(10)) # Output: 45"
   ]
  },
  {
   "cell_type": "code",
   "execution_count": null,
   "id": "a7aeed08",
   "metadata": {},
   "outputs": [],
   "source": [
    "# write a lambda function which can return the sum of the first n numbers in the Catalan sequence       \n",
    "\n",
    "catalan=lambda n:1 if n<=1 else (2*(2*n-1)*catalan(n-1))//(n+1)\n",
    "sum_of_numbers=lambda n: sum(catalan(i) for i in range(n))\n",
    "print(sum_of_numbers(10)) # Output: 429"
   ]
  },
  {
   "cell_type": "code",
   "execution_count": null,
   "id": "70ab8c7e",
   "metadata": {},
   "outputs": [],
   "source": [
    "# write a lambda function which sort the list of string based on their length:\n",
    "\n",
    "strings=['apple','banana','cherry','date','elderberry']\n",
    "sorted_strings=lambda x: sorted(x, key=len)\n",
    "print(sorted_strings(strings)) # Output: ['apple', 'banana', 'cherry', 'date', 'elderberry']"
   ]
  },
  {
   "cell_type": "code",
   "execution_count": null,
   "id": "8cba5831",
   "metadata": {},
   "outputs": [],
   "source": [
    "# write a lambda function which sort the list of string based on their length in descending order:\n",
    "\n",
    "strings=['apple','banana','cherry','date','elderberry']\n",
    "sorted_strings=lambda x: sorted(x, key=len, reverse=True)\n",
    "print(sorted_strings(strings)) # Output: ['elderberry', 'date', 'cherry', 'banana', 'apple']"
   ]
  },
  {
   "cell_type": "code",
   "execution_count": null,
   "id": "76822a94",
   "metadata": {},
   "outputs": [],
   "source": [
    "# write a lambda function which sort the list of dictionary based on specific key:\n",
    "\n",
    "data=[{'name':'John','age':25},{'name':'Alice','age':30},{'name':'Bob','age':28}]\n",
    "sorted_data=lambda x: sorted(x, key=lambda i: i['age'])\n",
    "print(sorted_data(data)) # Output: [{'name': 'Alice', 'age': 30}, {'name': 'Bob', 'age': 28}, {'name': 'John', 'age': 25}]"
   ]
  },
  {
   "cell_type": "code",
   "execution_count": null,
   "id": "40956a28",
   "metadata": {},
   "outputs": [],
   "source": [
    "# write a lambda function which sort the list of dictionary based on specific key in descending order:\n",
    "\n",
    "data=[{'name':'John','age':25},{'name':'Alice','age':30},{'name':'Bob','age':28}]\n",
    "sorted_data=lambda x: sorted(x, key=lambda i: i['age'], reverse=True)\n",
    "print(sorted_data(data)) # Output: [{'name': 'John', 'age': 25}, {'name': 'Alice', 'age': 30}, {'name': 'Bob', 'age': 28}]"
   ]
  },
  {
   "cell_type": "code",
   "execution_count": null,
   "id": "83dda2e2",
   "metadata": {},
   "outputs": [],
   "source": [
    "# finding the max value in a dictionary\n",
    "\n",
    "max_value=lambda x: max(x, key=lambda i: i['age'])\n",
    "print(max_value(data)) # Output: {'name': 'John', 'age': 25}"
   ]
  },
  {
   "cell_type": "code",
   "execution_count": null,
   "id": "b295e962",
   "metadata": {},
   "outputs": [],
   "source": [
    "# finding the min value in a dictionary\n",
    "\n",
    "min_value=lambda x: min(x, key=lambda i: i['age'])\n",
    "print(min_value(data)) # Output: {'name': 'Alice', 'age': 30}"
   ]
  },
  {
   "cell_type": "code",
   "execution_count": null,
   "id": "e0e5cdec",
   "metadata": {},
   "outputs": [],
   "source": [
    "# finding the sum of all values in a dictionary\n",
    "\n",
    "data = {\"a\":10, \"b\":20, \"c\":30, \"d\":40, \"e\":60}\n",
    "sum_values=lambda x: sum(data.values())\n",
    "print(sum_values(data)) # Output: 180"
   ]
  },
  {
   "cell_type": "code",
   "execution_count": null,
   "id": "118be5b3",
   "metadata": {},
   "outputs": [],
   "source": [
    "# finding the product of all values in a dictionary\n",
    "from functools import reduce\n",
    "data = {\"a\":10, \"b\":20, \"c\":30, \"d\":40, \"e\":60}\n",
    "product_values=lambda x: reduce(lambda a, b: a*b, data.values())\n",
    "print(product_values(data)) # Output: 12000000000000000"
   ]
  },
  {
   "cell_type": "code",
   "execution_count": null,
   "id": "ace4a201",
   "metadata": {},
   "outputs": [],
   "source": [
    "# finding the average of all values in a dictionary\n",
    "\n",
    "data = {\"a\":10, \"b\":20, \"c\":30, \"d\":40, \"e\":60}\n",
    "average_values=lambda x: sum(data.values())/len(data)\n",
    "print(average_values(data)) # Output: 24.0"
   ]
  },
  {
   "cell_type": "code",
   "execution_count": null,
   "id": "f59c63ae",
   "metadata": {},
   "outputs": [],
   "source": [
    "# finding the median of all values in a dictionary \n",
    "\n",
    "\n",
    "from statistics import median\n",
    "data = {\"a\":10, \"b\":20, \"c\":30, \"d\":40, \"e\":60}\n",
    "median_values=lambda x: median(data.values())\n",
    "print(median_values(data)) # Output: 30.0"
   ]
  },
  {
   "cell_type": "code",
   "execution_count": null,
   "id": "32f027c7",
   "metadata": {},
   "outputs": [],
   "source": [
    "# finding the mode of all values in a dictionary\n",
    "\n",
    "from collections import Counter\n",
    "data = {\"a\":10, \"b\":20, \"c\":30, \"d\":40, \"e\":60}\n",
    "mode_values=lambda x: Counter(data.values()).most_common(1)[0][0]\n",
    "print(mode_values(data)) # Output: 20\n",
    "\n",
    "\n",
    "#grouping of a list of strings based on their first character\n",
    "from itertools import groupby\n",
    "strings=['apple','banana','cherry','date','elderberry']\n",
    "grouped_strings=lambda x: {k: list(v) for k, v in groupby(x, key=lambda i: i[0])}\n",
    "print(grouped_strings(strings)) # Output: {'a': ['apple'], 'b': ['banana'], 'c': ['cherry'], 'd': ['date'], 'e': ['elderberry']}"
   ]
  },
  {
   "cell_type": "code",
   "execution_count": null,
   "id": "9bf127ca",
   "metadata": {},
   "outputs": [],
   "source": [
    "# grouping of a list of strings based on their first character in descending order\n",
    "\n",
    "from itertools import groupby\n",
    "strings=['apple','banana','cherry','date','elderberry']\n",
    "grouped_strings=lambda x: {k: list(v) for k, v in sorted(groupby(x, key=lambda i: i[0]), reverse=True)}\n",
    "print(grouped_strings(strings)) # Output: {'e': ['elderberry'], 'd': ['date'], 'c': ['cherry'], 'b': ['banana'], 'a': ['apple']}"
   ]
  },
  {
   "cell_type": "code",
   "execution_count": null,
   "id": "fb38b94c",
   "metadata": {},
   "outputs": [],
   "source": [
    "# finding the longest string in a list\n",
    "\n",
    "strings=['apple','banana','cherry','date','elderberry']\n",
    "longest_string=lambda x: max(x, key=len)\n",
    "print(longest_string(strings)) # Output: elderberry"
   ]
  },
  {
   "cell_type": "code",
   "execution_count": null,
   "id": "0cf1de96",
   "metadata": {},
   "outputs": [],
   "source": [
    "# finding the shortest string in a list\n",
    "\n",
    "strings=['apple','banana','cherry','date','elderberry']\n",
    "shortest_string=lambda x: min(x, key=len)\n",
    "print(shortest_string(strings)) # Output: apple"
   ]
  },
  {
   "cell_type": "code",
   "execution_count": null,
   "id": "61f94809",
   "metadata": {},
   "outputs": [],
   "source": [
    "# finding the most frequent string in a list\n",
    "\n",
    "from collections import Counter\n",
    "strings=['apple','banana','cherry','date','elderberry','apple','banana']\n",
    "most_frequent_string=lambda x: Counter(x).most_common(1)[0][0]\n",
    "print(most_frequent_string(strings)) # Output: apple"
   ]
  },
  {
   "cell_type": "code",
   "execution_count": null,
   "id": "478f0d7b",
   "metadata": {},
   "outputs": [],
   "source": [
    "# finding the least frequent string in a list\n",
    "\n",
    "from collections import Counter\n",
    "strings=['apple','banana','cherry','date','elderberry','apple','banana']\n",
    "least_frequent_string=lambda x: Counter(x).most_common()[-1][0]\n",
    "print(least_frequent_string(strings)) # Output: cherry"
   ]
  }
 ],
 "metadata": {},
 "nbformat": 4,
 "nbformat_minor": 5
}
