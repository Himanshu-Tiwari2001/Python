{
 "cells": [
  {
   "cell_type": "markdown",
   "id": "17b09dc1",
   "metadata": {
    "id": "17b09dc1"
   },
   "source": [
    "### Conditional Statements"
   ]
  },
  {
   "cell_type": "markdown",
   "id": "a75d0f76",
   "metadata": {
    "id": "a75d0f76"
   },
   "source": [
    "1) Conditional Statements are used to check one or multiple conditions.<br>\n",
    "2) For conditional statements, for and while loop, functions, class etc, we use indentation(1 tab space)"
   ]
  },
  {
   "cell_type": "markdown",
   "id": "b1c7c599",
   "metadata": {
    "id": "b1c7c599"
   },
   "source": [
    "#### a) if"
   ]
  },
  {
   "cell_type": "code",
   "execution_count": null,
   "id": "607c4da0-3df8-46f0-a3e4-5bc3a1c96025",
   "metadata": {
    "id": "607c4da0-3df8-46f0-a3e4-5bc3a1c96025",
    "outputId": "6aa41b64-017a-4c9a-a386-23ff92ba18d4"
   },
   "outputs": [
    {
     "name": "stdout",
     "output_type": "stream",
     "text": [
      "good sales\n"
     ]
    }
   ],
   "source": [
    "sales = 14000\n",
    "if(sales>= 14000):\n",
    "    print(\"good sales\")\n",
    "else:\n",
    "    print(\"bad sales\")\n"
   ]
  },
  {
   "cell_type": "code",
   "execution_count": null,
   "id": "2d0f0bc8-1450-4448-ab65-3b859771a87d",
   "metadata": {
    "id": "2d0f0bc8-1450-4448-ab65-3b859771a87d",
    "outputId": "2be6f995-b04b-4560-d43f-e2c763217201"
   },
   "outputs": [
    {
     "name": "stdout",
     "output_type": "stream",
     "text": [
      "num3 is not greater\n"
     ]
    }
   ],
   "source": []
  },
  {
   "cell_type": "code",
   "execution_count": null,
   "id": "cdf9f34b",
   "metadata": {
    "id": "cdf9f34b",
    "outputId": "676968b2-bf77-4e50-9054-d5deb91b6aac"
   },
   "outputs": [
    {
     "name": "stdout",
     "output_type": "stream",
     "text": [
      "20 is div by 5\n"
     ]
    }
   ],
   "source": [
    "n = int(input(\"enter the number\"))\n",
    "if n%5==0 :\n",
    "    print(n,'is div by 5')\n",
    "else:\n",
    "    print(n, 'not div by 5')"
   ]
  },
  {
   "cell_type": "code",
   "execution_count": null,
   "id": "c19953f1-f8bf-4505-96bb-b149971fea14",
   "metadata": {
    "id": "c19953f1-f8bf-4505-96bb-b149971fea14"
   },
   "outputs": [],
   "source": [
    "# even & odd program"
   ]
  },
  {
   "cell_type": "code",
   "execution_count": null,
   "id": "caeca2a0-9080-4e4f-a085-ca42e065ff2b",
   "metadata": {
    "id": "caeca2a0-9080-4e4f-a085-ca42e065ff2b",
    "outputId": "3e467ff5-b198-4ea6-f996-da8761db041b"
   },
   "outputs": [
    {
     "name": "stdout",
     "output_type": "stream",
     "text": [
      "enter the value 137\n"
     ]
    },
    {
     "name": "stdout",
     "output_type": "stream",
     "text": [
      "odd value\n"
     ]
    }
   ],
   "source": [
    "num = int(input(\"enter the value\"))\n",
    "if num%2==0:\n",
    "    print(\"even value\")\n",
    "else:\n",
    "    print(\"odd value\")"
   ]
  },
  {
   "cell_type": "code",
   "execution_count": null,
   "id": "e1df1dee-058d-4a82-90ef-c6073c664d7d",
   "metadata": {
    "id": "e1df1dee-058d-4a82-90ef-c6073c664d7d"
   },
   "outputs": [],
   "source": []
  },
  {
   "cell_type": "code",
   "execution_count": null,
   "id": "afe1f9ee-1512-4bc6-b8df-603631ea5447",
   "metadata": {
    "id": "afe1f9ee-1512-4bc6-b8df-603631ea5447"
   },
   "outputs": [],
   "source": []
  },
  {
   "cell_type": "code",
   "execution_count": null,
   "id": "65b351ed",
   "metadata": {
    "id": "65b351ed"
   },
   "outputs": [],
   "source": [
    "# ; => semicolon\n",
    "# : => colon"
   ]
  },
  {
   "cell_type": "code",
   "execution_count": null,
   "id": "02f9f577-a864-4553-b270-35628d047b4e",
   "metadata": {
    "id": "02f9f577-a864-4553-b270-35628d047b4e",
    "outputId": "90df5412-ede0-4bbe-d80d-6497b75bc7b6"
   },
   "outputs": [
    {
     "name": "stdout",
     "output_type": "stream",
     "text": [
      "enter your age :-  17\n"
     ]
    },
    {
     "name": "stdout",
     "output_type": "stream",
     "text": [
      "you can't vote\n"
     ]
    }
   ],
   "source": [
    "age = int(input(\"enter your age :- \"))\n",
    "if(age >=18):\n",
    "    print(\"you can vote\")\n",
    "else:\n",
    "    print(\"you can't vote\")"
   ]
  },
  {
   "cell_type": "code",
   "execution_count": null,
   "id": "a5af42a2-0ef8-427e-aa59-7c23a1582cae",
   "metadata": {
    "id": "a5af42a2-0ef8-427e-aa59-7c23a1582cae"
   },
   "outputs": [],
   "source": [
    "# person will be graduate\n",
    "# person will be greater then 17y"
   ]
  },
  {
   "cell_type": "code",
   "execution_count": null,
   "id": "eeb8a58d-313b-43c8-9c9c-97c18bba5223",
   "metadata": {
    "id": "eeb8a58d-313b-43c8-9c9c-97c18bba5223",
    "outputId": "0f49c254-79a8-4a8a-ff5c-dbea1a3f386e"
   },
   "outputs": [
    {
     "name": "stdout",
     "output_type": "stream",
     "text": [
      "enter your age:-  17\n",
      "enter your education  grad\n"
     ]
    },
    {
     "name": "stdout",
     "output_type": "stream",
     "text": [
      "you can vote\n"
     ]
    }
   ],
   "source": [
    "age = int(input(\"enter your age:- \"))\n",
    "edu = input(\"enter your education \")\n",
    "if(age>17 or edu == \"grad\"):\n",
    "    print(\"you can vote\")\n",
    "else:\n",
    "    print(\"you can't vote\")"
   ]
  },
  {
   "cell_type": "code",
   "execution_count": null,
   "id": "80a9e814-bad7-494b-8940-61d1bec6a00a",
   "metadata": {
    "id": "80a9e814-bad7-494b-8940-61d1bec6a00a",
    "outputId": "66d7b3b9-fa2a-4ddd-b485-8e1d9a6c3657"
   },
   "outputs": [
    {
     "name": "stdout",
     "output_type": "stream",
     "text": [
      "enter your age:-  70\n",
      "enter your education:-  grad\n"
     ]
    },
    {
     "name": "stdout",
     "output_type": "stream",
     "text": [
      "you can't vote\n"
     ]
    }
   ],
   "source": [
    "age = int(input(\"enter your age:- \"))\n",
    "edu = input(\"enter your education:- \")\n",
    "if(age>17 and age<65 and edu == \"grad\"):\n",
    "    print(\"you can vote\")\n",
    "else:\n",
    "    print(\"you can't vote\")"
   ]
  },
  {
   "cell_type": "code",
   "execution_count": null,
   "id": "5c89044f-e913-4138-8a6b-4dae6c00bbf6",
   "metadata": {
    "id": "5c89044f-e913-4138-8a6b-4dae6c00bbf6"
   },
   "outputs": [],
   "source": [
    "\n",
    "'''\n",
    "Create the program using If & else with input function to check all the details.\n",
    "company = imarticus\n",
    "id = 121\n",
    "password = 2323\n",
    "dept = IT\n",
    " print(\"login\")\n",
    "else print(\"check your password\")\n",
    "'''"
   ]
  },
  {
   "cell_type": "code",
   "execution_count": null,
   "id": "0bb0aec8-6ccc-4981-91b5-1973780c89a3",
   "metadata": {
    "id": "0bb0aec8-6ccc-4981-91b5-1973780c89a3"
   },
   "outputs": [],
   "source": []
  },
  {
   "cell_type": "markdown",
   "id": "00a65752",
   "metadata": {
    "id": "00a65752"
   },
   "source": [
    "#### b) if-else\n",
    "Used to check 2 conditions"
   ]
  },
  {
   "cell_type": "markdown",
   "id": "3a7d4bde",
   "metadata": {
    "id": "3a7d4bde"
   },
   "source": [
    "#### c) if-elif\n",
    "Used to check multiple conditions"
   ]
  },
  {
   "cell_type": "code",
   "execution_count": 2,
   "id": "89f45c2f-0d53-4f5f-9272-e10b5b2e45f2",
   "metadata": {
    "id": "89f45c2f-0d53-4f5f-9272-e10b5b2e45f2",
    "outputId": "f266fa38-3f30-42c1-dae6-f875b5c596d1"
   },
   "outputs": [
    {
     "name": "stdout",
     "output_type": "stream",
     "text": [
      "bus fare is 30\n"
     ]
    }
   ],
   "source": [
    "age = int(input(\"enter your age :- \"))\n",
    "if( 0< age <=3):\n",
    "    print(\"no fare\")\n",
    "elif(3< age <5):\n",
    "    print(\"bus fare is 15\")\n",
    "else:\n",
    "    print(\"bus fare is 30\")"
   ]
  },
  {
   "cell_type": "code",
   "execution_count": 5,
   "id": "60579b5a-7341-4ed2-98fd-1cc8e57ac788",
   "metadata": {
    "id": "60579b5a-7341-4ed2-98fd-1cc8e57ac788",
    "outputId": "1dd7b4ba-9f5f-4412-8796-b25455f654c4"
   },
   "outputs": [
    {
     "name": "stdout",
     "output_type": "stream",
     "text": [
      "below avg sales\n"
     ]
    }
   ],
   "source": [
    "sales = int(input(\"enter the sales\"))\n",
    "if sales>15000:\n",
    "    print(\"good sales\")\n",
    "elif sales>12000:\n",
    "    print(\"avg sales\")\n",
    "elif sales>8000:\n",
    "    print(\"below avg sales\")\n",
    "else:\n",
    "    print(\"bad sales\")"
   ]
  },
  {
   "cell_type": "code",
   "execution_count": null,
   "id": "4834a329-5ab8-4f3d-9bba-10f75b799752",
   "metadata": {
    "id": "4834a329-5ab8-4f3d-9bba-10f75b799752"
   },
   "outputs": [],
   "source": [
    "# user name :- prachi\n",
    "# password 122\n",
    "# password 53545 second password login\n",
    "# password 89979 third password login\n",
    "# password 12312 4th password login\n",
    "# login\n",
    "# not login\n",
    "\n"
   ]
  },
  {
   "cell_type": "code",
   "execution_count": null,
   "id": "7e9c1fbe-6d74-4d67-a157-ec0a004b1d43",
   "metadata": {
    "id": "7e9c1fbe-6d74-4d67-a157-ec0a004b1d43",
    "outputId": "618a107c-596b-4794-e305-e53572f5d155"
   },
   "outputs": [
    {
     "name": "stdout",
     "output_type": "stream",
     "text": [
      "enter user name :-  prachi\n",
      "enter password:-  122\n"
     ]
    },
    {
     "name": "stdout",
     "output_type": "stream",
     "text": [
      "login\n"
     ]
    }
   ],
   "source": [
    "user_name = input(\"enter user name :- \")\n",
    "password = int(input(\"enter password:- \"))\n",
    "if (user_name == \"prachi\" and password == 122):\n",
    "    print(\"login\")\n",
    "elif (user_name == \"prachi\" and password == 53545):\n",
    "    print(\"login\")\n",
    "elif (user_name == \"prachi\" and password == 89979):\n",
    "    print(\"login\")\n",
    "elif (user_name == \"prachi\"and password == 12312):\n",
    "    print(\"login\")\n",
    "else:\n",
    "    print(\"not login\")"
   ]
  },
  {
   "cell_type": "code",
   "execution_count": null,
   "id": "3d860842-d508-4a00-942d-3d1f5d2dfde4",
   "metadata": {
    "id": "3d860842-d508-4a00-942d-3d1f5d2dfde4"
   },
   "outputs": [],
   "source": []
  },
  {
   "cell_type": "code",
   "execution_count": null,
   "id": "56c3f8f1-78df-42f0-b40a-97593aa2833e",
   "metadata": {
    "id": "56c3f8f1-78df-42f0-b40a-97593aa2833e"
   },
   "outputs": [],
   "source": []
  },
  {
   "cell_type": "code",
   "execution_count": null,
   "id": "8430189e-977e-4ae4-a734-19d505761933",
   "metadata": {
    "id": "8430189e-977e-4ae4-a734-19d505761933"
   },
   "outputs": [],
   "source": []
  },
  {
   "cell_type": "code",
   "execution_count": null,
   "id": "5d6f6c73",
   "metadata": {
    "id": "5d6f6c73",
    "outputId": "b82a4bb5-dbed-4806-aa73-5bb85f7d38a1"
   },
   "outputs": [
    {
     "name": "stdout",
     "output_type": "stream",
     "text": [
      "enter the course name -  Java\n"
     ]
    },
    {
     "name": "stdout",
     "output_type": "stream",
     "text": [
      "Java\n"
     ]
    }
   ],
   "source": [
    "sub = input(\"enter the course name - \")\n",
    "if sub == \"Java\":\n",
    "    print('Java')\n",
    "elif sub == \"C++\":\n",
    "    print('C++')\n",
    "elif sub == \"Python\":\n",
    "    print('Python')\n",
    "elif sub == \"Ruby\":\n",
    "    print('Ruby')\n",
    "elif sub == \"Python\":\n",
    "    print('Data Science')"
   ]
  },
  {
   "cell_type": "markdown",
   "id": "d7a341c1",
   "metadata": {
    "id": "d7a341c1"
   },
   "source": [
    "#### d) if-elif-else"
   ]
  },
  {
   "cell_type": "code",
   "execution_count": null,
   "id": "95dd7d67",
   "metadata": {
    "id": "95dd7d67",
    "outputId": "9706383e-0970-4161-b410-91631981ec4f"
   },
   "outputs": [
    {
     "name": "stdout",
     "output_type": "stream",
     "text": [
      " Java\n"
     ]
    },
    {
     "name": "stdout",
     "output_type": "stream",
     "text": [
      "Java\n"
     ]
    }
   ],
   "source": [
    "sub = input()\n",
    "if sub == \"Java\":\n",
    "    print('Java')\n",
    "elif sub == \"Python\":\n",
    "    print('Python')\n",
    "elif sub == \"Rust\":\n",
    "    print('Rust')\n",
    "elif sub == \"Ruby\":\n",
    "    print('Ruby')\n",
    "else:\n",
    "    print('None')"
   ]
  },
  {
   "cell_type": "code",
   "execution_count": null,
   "id": "8e8dca46",
   "metadata": {
    "id": "8e8dca46",
    "outputId": "03bdabca-a55d-4831-f75d-1c52f88f641a"
   },
   "outputs": [
    {
     "name": "stdout",
     "output_type": "stream",
     "text": [
      "enter account no:-  768455432342\n"
     ]
    },
    {
     "name": "stdout",
     "output_type": "stream",
     "text": [
      "Acc 1 valid\n"
     ]
    }
   ],
   "source": [
    "acc = int(input(\"enter account no:- \"))\n",
    "if acc == 768455432342:\n",
    "    print('Acc 1 valid')\n",
    "elif acc ==577982143546:\n",
    "    print('Acc 2 valid')\n",
    "elif acc == 587698436536:\n",
    "    print('Acc 3 valid')\n",
    "elif acc == 325436323524:\n",
    "    print('Acc 4 valid')\n",
    "else:\n",
    "    print('None')"
   ]
  },
  {
   "cell_type": "markdown",
   "id": "2a346e8d",
   "metadata": {
    "id": "2a346e8d"
   },
   "source": [
    "#### Ternary Operator\n",
    "One liner if - else"
   ]
  },
  {
   "cell_type": "code",
   "execution_count": null,
   "id": "a0695f06",
   "metadata": {
    "id": "a0695f06",
    "outputId": "9013e097-7ef6-4b86-b096-110f90eb3928"
   },
   "outputs": [
    {
     "name": "stdout",
     "output_type": "stream",
     "text": [
      "enter the value -  34\n"
     ]
    },
    {
     "name": "stdout",
     "output_type": "stream",
     "text": [
      "Even\n"
     ]
    }
   ],
   "source": [
    "x = int(input(\"enter the value - \"))\n",
    "res = \"Even\" if x%2==0 else \"Odd\"\n",
    "print(res)"
   ]
  },
  {
   "cell_type": "code",
   "execution_count": null,
   "id": "bfaa63e6",
   "metadata": {
    "id": "bfaa63e6",
    "outputId": "9e6b8411-7e3e-42ac-9ed8-d1dd7e3ea499"
   },
   "outputs": [
    {
     "name": "stdout",
     "output_type": "stream",
     "text": [
      " 45\n"
     ]
    },
    {
     "name": "stdout",
     "output_type": "stream",
     "text": [
      "Div by 3\n"
     ]
    }
   ],
   "source": [
    "n = int(input())\n",
    "n2 = \"Div by 3\" if n%3==0 else ('Div by 5' if n%5==0 else \"Not div by 5\")\n",
    "print(n2)"
   ]
  },
  {
   "cell_type": "markdown",
   "id": "978886a2",
   "metadata": {
    "id": "978886a2"
   },
   "source": [
    "#### Nested - if\n",
    "if-elif-else inside another if-elif-else statement"
   ]
  },
  {
   "cell_type": "code",
   "execution_count": null,
   "id": "be2f9998-cb1f-4895-af49-11d497d7d8ad",
   "metadata": {
    "id": "be2f9998-cb1f-4895-af49-11d497d7d8ad",
    "outputId": "524de852-2180-41e5-f777-e839d81161c2"
   },
   "outputs": [
    {
     "name": "stdout",
     "output_type": "stream",
     "text": [
      "num3 is not greater\n"
     ]
    }
   ],
   "source": [
    "#num1 = int(input(\"enter num1 value \"))\n",
    "#num2 = int(input(\"enter num2 value \"))\n",
    "#num3 = int(input(\"enter num3 value \"))\n",
    "\n",
    "if(25>27):\n",
    "    print(\"num1 is greater: \",num1)\n",
    "else:\n",
    "    if(9>26):\n",
    "        print(\"num3 is greater \", num3)\n",
    "    else:\n",
    "        print(\"num3 is not greater\")\n"
   ]
  },
  {
   "cell_type": "code",
   "execution_count": null,
   "id": "4998413b",
   "metadata": {
    "id": "4998413b",
    "outputId": "75c966c7-0f33-44bf-9eb9-de6a08870365"
   },
   "outputs": [
    {
     "name": "stdout",
     "output_type": "stream",
     "text": [
      " 15\n"
     ]
    },
    {
     "name": "stdout",
     "output_type": "stream",
     "text": [
      "15 is div by both 3 and 5\n"
     ]
    }
   ],
   "source": [
    "m = int(input())\n",
    "if m%3==0 :\n",
    "    if m%5==0 :\n",
    "        print(m,'is div by both 3 and 5')\n",
    "    else:\n",
    "        print(m,'is not div by 5 but div by 3')\n",
    "else:\n",
    "    print(m,'is not div by 3')"
   ]
  },
  {
   "cell_type": "code",
   "execution_count": null,
   "id": "d4bd98bc-0b01-4b3d-8a07-18924e97a0d5",
   "metadata": {
    "id": "d4bd98bc-0b01-4b3d-8a07-18924e97a0d5",
    "outputId": "dfe1b2fc-92f5-444b-d8b2-360ec4ebcdbb"
   },
   "outputs": [
    {
     "name": "stdout",
     "output_type": "stream",
     "text": [
      "enter domain pga\n",
      " enter user name imarticus\n",
      " enter your password 12345\n"
     ]
    },
    {
     "name": "stdout",
     "output_type": "stream",
     "text": [
      "login:- Username:-  imarticus Password :-  12345\n"
     ]
    }
   ],
   "source": [
    "domain = input(\"enter domain\")\n",
    "un = input(\" enter user name\")\n",
    "pwd = int(input(\" enter your password\"))\n",
    "if(domain == \"non it\"):\n",
    "    print(\"user name is : \",un)\n",
    "else:\n",
    "    if(un == \"imarticus\") and (pwd == 12345):\n",
    "        print(\"login:-\",\"Username:- \",un,\"Password :- \",pwd)\n",
    "    else:\n",
    "        print(\"the user name and password is incorrect\")"
   ]
  },
  {
   "cell_type": "code",
   "execution_count": null,
   "id": "c14c7bbc-7647-42a4-b4e2-a08f60959f52",
   "metadata": {
    "id": "c14c7bbc-7647-42a4-b4e2-a08f60959f52",
    "outputId": "e90f0007-44fe-4d10-aeb0-913cd2451711"
   },
   "outputs": [
    {
     "name": "stdout",
     "output_type": "stream",
     "text": [
      " enter user name imar\n",
      " enter your password 343\n"
     ]
    },
    {
     "name": "stdout",
     "output_type": "stream",
     "text": [
      "user name incorrect\n"
     ]
    }
   ],
   "source": [
    "un = input(\" enter user name\")\n",
    "pwd = int(input(\" enter your password\"))\n",
    "if(un==\"imarticus\"):\n",
    "    if(pwd==12345):\n",
    "        print(\"you can login\")\n",
    "    else:\n",
    "        print(\"incorrect password\")\n",
    "else:\n",
    "    print(\"user name incorrect\")"
   ]
  },
  {
   "cell_type": "markdown",
   "id": "1caa2de1-3f62-4e7d-8c57-fad2e689700b",
   "metadata": {
    "id": "1caa2de1-3f62-4e7d-8c57-fad2e689700b"
   },
   "source": [
    "# List Comprehension"
   ]
  },
  {
   "cell_type": "code",
   "execution_count": null,
   "id": "4ae335be-cd9b-406a-9e66-e4128a0efaa5",
   "metadata": {
    "id": "4ae335be-cd9b-406a-9e66-e4128a0efaa5",
    "outputId": "255dd0e6-208a-4af6-ca8e-22ed5ad14ed1"
   },
   "outputs": [
    {
     "name": "stdout",
     "output_type": "stream",
     "text": [
      "enter the vowels i\n"
     ]
    },
    {
     "name": "stdout",
     "output_type": "stream",
     "text": [
      "['kiwi']\n"
     ]
    }
   ],
   "source": [
    "fruits = [\"apple\", \"banana\", \"cherry\", \"kiwi\", \"mango\"]\n",
    "vow = input(\"enter the vowels\")\n",
    "newlist = [x for x in fruits if vow in x]\n",
    "\n",
    "print(newlist)"
   ]
  },
  {
   "cell_type": "markdown",
   "id": "44b664a8-0816-4c2f-81d2-c9b5ce71a05c",
   "metadata": {
    "id": "44b664a8-0816-4c2f-81d2-c9b5ce71a05c"
   },
   "source": [
    "### Only accept items that are not \"apple\":"
   ]
  },
  {
   "cell_type": "code",
   "execution_count": null,
   "id": "fc381b6d-0df3-47ae-ae82-13c8495affec",
   "metadata": {
    "id": "fc381b6d-0df3-47ae-ae82-13c8495affec",
    "outputId": "47d38c29-65ea-468a-9568-8d86f19949bf"
   },
   "outputs": [
    {
     "data": {
      "text/plain": [
       "['banana', 'cherry', 'kiwi', 'mango']"
      ]
     },
     "execution_count": 29,
     "metadata": {},
     "output_type": "execute_result"
    }
   ],
   "source": [
    "newlist1 = [x for x in fruits if x != \"apple\"]\n",
    "newlist1"
   ]
  },
  {
   "cell_type": "code",
   "execution_count": null,
   "id": "3fbb0897-ecae-468d-aa6d-03af5cd4375d",
   "metadata": {
    "id": "3fbb0897-ecae-468d-aa6d-03af5cd4375d"
   },
   "outputs": [],
   "source": [
    "lts = list(range(2,21,2))"
   ]
  },
  {
   "cell_type": "code",
   "execution_count": null,
   "id": "ec7709cf-6261-4c7d-b9a9-cff991b56313",
   "metadata": {
    "id": "ec7709cf-6261-4c7d-b9a9-cff991b56313",
    "outputId": "4dd3e265-c508-446a-e913-40473640b8bf"
   },
   "outputs": [
    {
     "data": {
      "text/plain": [
       "[2, 4, 6, 8, 10, 12, 14, 16, 18, 20]"
      ]
     },
     "execution_count": 18,
     "metadata": {},
     "output_type": "execute_result"
    }
   ],
   "source": [
    "lts"
   ]
  },
  {
   "cell_type": "code",
   "execution_count": null,
   "id": "ad44fe37-799c-46c7-89b4-f97446f0a7c1",
   "metadata": {
    "id": "ad44fe37-799c-46c7-89b4-f97446f0a7c1",
    "outputId": "5099d3ca-2275-4dc6-a606-04afde3fe751"
   },
   "outputs": [
    {
     "data": {
      "text/plain": [
       "[2, 4, 6, 8, 10, 12, 14, 16, 18, 20]"
      ]
     },
     "execution_count": 23,
     "metadata": {},
     "output_type": "execute_result"
    }
   ],
   "source": [
    "newlts = [x for x in range(2,21,2)]\n",
    "newlts"
   ]
  },
  {
   "cell_type": "code",
   "execution_count": null,
   "id": "b0830c2e-8eaa-4e49-8db1-73b45bd4b42c",
   "metadata": {
    "id": "b0830c2e-8eaa-4e49-8db1-73b45bd4b42c",
    "outputId": "0bc6c2d2-fbbb-4ef4-bca3-7fef837178b3"
   },
   "outputs": [
    {
     "data": {
      "text/plain": [
       "[4, 8, 12, 16, 20, 24, 28, 32, 36, 40]"
      ]
     },
     "execution_count": 28,
     "metadata": {},
     "output_type": "execute_result"
    }
   ],
   "source": [
    "square_numbers = [num *2 for num in newlts]\n",
    "square_numbers"
   ]
  },
  {
   "cell_type": "markdown",
   "id": "5642483d-de88-4549-bdbf-f00de4cbe480",
   "metadata": {
    "id": "5642483d-de88-4549-bdbf-f00de4cbe480"
   },
   "source": [
    "# Square the all elements of the list"
   ]
  },
  {
   "cell_type": "code",
   "execution_count": 7,
   "id": "66a53bd6-ce2f-4c5f-804c-232bc9dcd3c4",
   "metadata": {
    "id": "66a53bd6-ce2f-4c5f-804c-232bc9dcd3c4",
    "outputId": "251c4fbf-a7b0-4614-b21a-a0fdcaddeb75"
   },
   "outputs": [
    {
     "name": "stdout",
     "output_type": "stream",
     "text": [
      "[1, 4, 9, 16, 25]\n"
     ]
    }
   ],
   "source": [
    "numbers = [1, 2, 3, 4, 5]\n",
    "\n",
    "# create a new list using list comprehension\n",
    "square_numbers = [num **2 for num in numbers]\n",
    "\n",
    "print(square_numbers)\n",
    "\n",
    "# Output: [1, 4, 9, 16, 25]"
   ]
  },
  {
   "cell_type": "markdown",
   "id": "ef1cc07e-1935-4f00-88be-94dcc538da39",
   "metadata": {
    "id": "ef1cc07e-1935-4f00-88be-94dcc538da39"
   },
   "source": [
    "# Find the Even & Odd Values from list using list comprehension"
   ]
  },
  {
   "cell_type": "code",
   "execution_count": null,
   "id": "33149dee-3719-4704-a87f-c14b1677dbce",
   "metadata": {
    "id": "33149dee-3719-4704-a87f-c14b1677dbce",
    "outputId": "68b0af7a-3493-48ca-e876-0f52e756763d"
   },
   "outputs": [
    {
     "name": "stdout",
     "output_type": "stream",
     "text": [
      "even number:-  [2, 4, 6, 8]\n",
      "odd number:-  [1, 3, 5, 7, 9]\n"
     ]
    }
   ],
   "source": [
    "# filtering even numbers from a list\n",
    "even_numbers = [num for num in range(1, 10) if num % 2 == 0 ]\n",
    "odd_numbers = [num for num in range(1, 10) if num % 2 != 0 ]\n",
    "\n",
    "print('even number:- ',even_numbers)\n",
    "print('odd number:- ',odd_numbers)\n",
    "\n",
    "# Output: [2, 4, 6, 8]"
   ]
  },
  {
   "cell_type": "markdown",
   "id": "44837b47-f07b-47d8-a00b-2520e66306fb",
   "metadata": {
    "id": "44837b47-f07b-47d8-a00b-2520e66306fb"
   },
   "source": [
    "# Find the Vowels from string using list comprehension"
   ]
  },
  {
   "cell_type": "code",
   "execution_count": null,
   "id": "8ac5c66a-65fd-4928-aabb-e935c1c3083f",
   "metadata": {
    "id": "8ac5c66a-65fd-4928-aabb-e935c1c3083f",
    "outputId": "af22b052-929a-4a39-e37f-705231efbaf5"
   },
   "outputs": [
    {
     "name": "stdout",
     "output_type": "stream",
     "text": [
      "['i', 'o']\n"
     ]
    }
   ],
   "source": [
    "word = \"iPython\"\n",
    "vowels = \"aeiou\"\n",
    "\n",
    "# find vowel in the string \"Python\"\n",
    "result = [x for x in word if x in vowels]\n",
    "\n",
    "print(result)\n",
    "\n",
    "# Output: ['o']"
   ]
  },
  {
   "cell_type": "markdown",
   "id": "48f99adc-8c8c-4f82-bde0-03149958209e",
   "metadata": {
    "id": "48f99adc-8c8c-4f82-bde0-03149958209e"
   },
   "source": [
    "#### Populate an empty list"
   ]
  },
  {
   "cell_type": "markdown",
   "id": "b976c9e4-7bc6-4552-a084-a4d24e3bc2b8",
   "metadata": {
    "id": "b976c9e4-7bc6-4552-a084-a4d24e3bc2b8"
   },
   "source": [
    "#### Generate a list containing all even numbers between 30 and 50 (both inclusive)"
   ]
  },
  {
   "cell_type": "code",
   "execution_count": null,
   "id": "900b04e8-7b5b-4cb4-a281-2b1ea2ed686f",
   "metadata": {
    "id": "900b04e8-7b5b-4cb4-a281-2b1ea2ed686f",
    "outputId": "1cc787ce-678c-4829-bcd7-8ea9e7a677df"
   },
   "outputs": [
    {
     "name": "stdout",
     "output_type": "stream",
     "text": [
      "[3, 6, 9, 12, 15, 18, 21, 24, 27, 30]\n"
     ]
    }
   ],
   "source": [
    "t = [] # empty list\n",
    "for i in range(3,31,3):  # start=31,end=51,step=+2\n",
    "    t.append(i)\n",
    "print(t)"
   ]
  },
  {
   "cell_type": "code",
   "execution_count": null,
   "id": "7228f3a7-4bbf-4395-b55b-7b65c56e61a0",
   "metadata": {
    "id": "7228f3a7-4bbf-4395-b55b-7b65c56e61a0",
    "outputId": "9730b22a-bd40-4599-86db-fcec2ae22761"
   },
   "outputs": [
    {
     "data": {
      "text/plain": [
       "[]"
      ]
     },
     "execution_count": 69,
     "metadata": {},
     "output_type": "execute_result"
    }
   ],
   "source": [
    "t"
   ]
  },
  {
   "cell_type": "code",
   "execution_count": null,
   "id": "4e533aa9-3afe-4c85-96bf-be81d1ecdda9",
   "metadata": {
    "id": "4e533aa9-3afe-4c85-96bf-be81d1ecdda9",
    "outputId": "cf1b3669-f0f4-419e-bea7-518b5809080e"
   },
   "outputs": [
    {
     "data": {
      "text/plain": [
       "[3, 6, 9, 12, 15, 18, 21, 24, 27, 30]"
      ]
     },
     "execution_count": 73,
     "metadata": {},
     "output_type": "execute_result"
    }
   ],
   "source": [
    "t"
   ]
  },
  {
   "cell_type": "markdown",
   "id": "d02fb5e3-5cbb-4779-adeb-6f8f6a4467cc",
   "metadata": {
    "id": "d02fb5e3-5cbb-4779-adeb-6f8f6a4467cc"
   },
   "source": [
    "# Assignment"
   ]
  },
  {
   "cell_type": "markdown",
   "id": "40d5c6a3-3619-4871-b8f7-9229c6b990f4",
   "metadata": {
    "id": "40d5c6a3-3619-4871-b8f7-9229c6b990f4"
   },
   "source": [
    "#### Q1) Seperate even and odd numbers from the below list. Store result in separate list.\n",
    "num = [7,12,5,15,8,10,18,3,20]\n",
    "\n",
    "#### Q2) Accept a list of Fruits from user(in lower case) and print even index fruits in upper case and odd index fruits in lower case.\n",
    "\n",
    "\n",
    "#### Q3) For the given list, find all the even elements present at the odd index. Store result in a list\n",
    "\n",
    "w = [24,57,78,25,83,95,24,80,21,20,24,27]\n",
    "\n",
    "#### Q4) Find all pair of 2 numbers whose sum when add becomes 20 from the given list\n",
    "w = [8,2,11,10,9,12,6,21,5,4]"
   ]
  },
  {
   "cell_type": "code",
   "execution_count": null,
   "id": "02ba56cc-af40-4d43-887e-aca08f5914d7",
   "metadata": {
    "id": "02ba56cc-af40-4d43-887e-aca08f5914d7",
    "outputId": "9e2d009c-e3b0-47f0-a715-11e83eb0e4c6"
   },
   "outputs": [
    {
     "name": "stdout",
     "output_type": "stream",
     "text": [
      "Even [12, 8, 10, 18, 20]\n",
      "Odd [7, 5, 15, 3]\n"
     ]
    }
   ],
   "source": [
    "# Q1\n",
    "num = [7,12,5,15,8,10,18,3,20]\n",
    "even, odd = [],[]\n",
    "for i in num:\n",
    "    if i%2==0 :\n",
    "        even.append(i)\n",
    "    else:\n",
    "        odd.append(i)\n",
    "print('Even',even)\n",
    "print('Odd',odd)"
   ]
  },
  {
   "cell_type": "code",
   "execution_count": null,
   "id": "1e923154-ffa4-4901-a1fb-d2f0cc7f4cac",
   "metadata": {
    "id": "1e923154-ffa4-4901-a1fb-d2f0cc7f4cac",
    "outputId": "967a6fee-ca8b-43e2-a866-a12457678110"
   },
   "outputs": [
    {
     "name": "stdout",
     "output_type": "stream",
     "text": [
      "MANGO\n",
      "apple\n",
      "AVACADO\n",
      "orange\n",
      "WATERMELON\n",
      "grapes\n"
     ]
    }
   ],
   "source": [
    "# Q2)\n",
    "fruits = ['mango','apple','avacado','orange','watermelon','grapes']\n",
    "for i in range(len(fruits)):\n",
    "    if i%2==0:\n",
    "        print(fruits[i].upper())\n",
    "    else:\n",
    "        print(fruits[i].lower())"
   ]
  },
  {
   "cell_type": "code",
   "execution_count": null,
   "id": "945c2651-9af5-4f2a-9d53-cf4377abd6c3",
   "metadata": {
    "id": "945c2651-9af5-4f2a-9d53-cf4377abd6c3",
    "outputId": "e6f41d0f-6bda-4bdf-ca4f-ecfb5fcf3122"
   },
   "outputs": [
    {
     "data": {
      "text/plain": [
       "['odd', 'Even', 'odd', 'Even', 'odd', 'Even', 'odd', 'Even', 'odd']"
      ]
     },
     "execution_count": 84,
     "metadata": {},
     "output_type": "execute_result"
    }
   ],
   "source": [
    "numbers = [1,2,3,4,5,6,7,8,9]\n",
    "res = ['Even' if num %2 ==0 else \"odd\" for num in numbers]\n",
    "res"
   ]
  },
  {
   "cell_type": "code",
   "execution_count": 32,
   "id": "3e93c4bc-9ae0-4a10-aca0-ebdf97dceb82",
   "metadata": {
    "id": "3e93c4bc-9ae0-4a10-aca0-ebdf97dceb82",
    "outputId": "68a9f0b8-284d-4c2c-a936-162c50625c46"
   },
   "outputs": [
    {
     "name": "stdout",
     "output_type": "stream",
     "text": [
      "[(80, 'at index 7'), (20, 'at index 9')]\n"
     ]
    }
   ],
   "source": [
    "# Q3) # find even elements at odd index and  its index position\n",
    "w = [24,57,78,25,83,95,24,80,21,20,24,27]\n",
    "res =  []\n",
    "for i in range(len(w)):\n",
    "    if i%2!=0 :         # odd index\n",
    "        if w[i]%2==0 :  # even element/num\n",
    "            res.append((w[i],f\"at index {i}\"))\n",
    "print(res)"
   ]
  },
  {
   "cell_type": "code",
   "execution_count": null,
   "id": "55b906a0-ef5c-479c-bed7-0ddd04911a4c",
   "metadata": {
    "id": "55b906a0-ef5c-479c-bed7-0ddd04911a4c",
    "outputId": "cc857ed7-40d6-4449-b699-1849707de5f4"
   },
   "outputs": [
    {
     "name": "stdout",
     "output_type": "stream",
     "text": [
      "i 1 j 1\n",
      "i 1 j 2\n",
      "i 1 j 3\n",
      "i 2 j 1\n",
      "i 2 j 2\n",
      "i 2 j 3\n",
      "i 3 j 1\n",
      "i 3 j 2\n",
      "i 3 j 3\n"
     ]
    }
   ],
   "source": [
    "for i in range(1,4):      # i = 1,2,3\n",
    "    for j in range(1,4):  # j =1,2,3\n",
    "        print('i',i,'j',j)"
   ]
  },
  {
   "cell_type": "code",
   "execution_count": 2,
   "id": "9c99c057-e7ba-48b1-ba9c-d5bc01fc456c",
   "metadata": {
    "id": "9c99c057-e7ba-48b1-ba9c-d5bc01fc456c",
    "outputId": "27982360-6696-4eb2-e89b-d0b68e6f2846"
   },
   "outputs": [
    {
     "name": "stdout",
     "output_type": "stream",
     "text": [
      "[(8, 12), (11, 9), (10, 10), (9, 11), (12, 8)]\n"
     ]
    }
   ],
   "source": [
    "#Q4) find the pair having sum 20\n",
    "w = [8,2,11,10,9,12,6,21,5,4]\n",
    "sum20  = []\n",
    "for i in w:\n",
    "    for j in w:\n",
    "        if i+j == 20:\n",
    "            sum20.append((i,j))\n",
    "print(sum20)"
   ]
  },
  {
   "cell_type": "code",
   "execution_count": null,
   "id": "9efb23d1-5b6a-4917-8025-670cd33527d8",
   "metadata": {
    "id": "9efb23d1-5b6a-4917-8025-670cd33527d8",
    "outputId": "b2c42180-b8b4-4a20-c68e-c60dc8b7a7d3"
   },
   "outputs": [
    {
     "name": "stdout",
     "output_type": "stream",
     "text": [
      "[(8, 12), (11, 9), (10, 10), (9, 11), (12, 8)]\n"
     ]
    }
   ],
   "source": [
    "w = [8,2,11,10,9,12,6,21,5,4]\n",
    "result = [(w[x],w[y]) for x in range(0,len(w)) for y in range(0,len(w)) if w[x]+w[y] == 20]\n",
    "print(result)"
   ]
  },
  {
   "cell_type": "code",
   "execution_count": 24,
   "id": "42d7a56f-1f5e-4ff8-8044-04804e0dba59",
   "metadata": {
    "id": "a4ee44f4-6dc4-4111-8b8a-1f10bae92419"
   },
   "outputs": [
    {
     "name": "stdout",
     "output_type": "stream",
     "text": [
      "[(7, 3), (7, 3), (3, 7), (8, 2), (6, 4), (4, 6), (9, 1), (1, 9), (2, 8), (3, 7)]\n"
     ]
    }
   ],
   "source": [
    "list1=[7,3,8,6,5,4,9,1,2,3]\n",
    "sum10=[]\n",
    "for i in list1:\n",
    "    for j in list1:\n",
    "        if i+j==10:\n",
    "            sum10.append((i,j))\n",
    "print(sum10)           \n",
    "            "
   ]
  },
  {
   "cell_type": "code",
   "execution_count": null,
   "id": "85a261fc-b540-4766-81d7-dc31457db23e",
   "metadata": {},
   "outputs": [],
   "source": []
  }
 ],
 "metadata": {
  "colab": {
   "provenance": []
  },
  "kernelspec": {
   "display_name": "Python 3 (ipykernel)",
   "language": "python",
   "name": "python3"
  },
  "language_info": {
   "codemirror_mode": {
    "name": "ipython",
    "version": 3
   },
   "file_extension": ".py",
   "mimetype": "text/x-python",
   "name": "python",
   "nbconvert_exporter": "python",
   "pygments_lexer": "ipython3",
   "version": "3.12.2"
  }
 },
 "nbformat": 4,
 "nbformat_minor": 5
}
