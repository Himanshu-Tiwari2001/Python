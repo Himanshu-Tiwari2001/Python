{
 "cells": [
  {
   "cell_type": "markdown",
   "id": "c2508dd7-4b24-40e1-be08-d4cb4191e904",
   "metadata": {},
   "source": [
    "# For Loop\n",
    "\n",
    "1) A for loop is a control flow statement that executes code for a predefined number of iterations. The keyword used in this control flow statement is \"for\". When the number of iterations is already known, the for loop is used.\n",
    "\n",
    "2) The for loop is divided into two parts −\n",
    "\n",
    "3) Header − This part specifies the iteration of the loop. In the header part, the loop variable is also declared, which tells the body which iteration is being executed.\n",
    "\n",
    "5) Body − The body part contains the statement executed per iteration."
   ]
  },
  {
   "cell_type": "code",
   "execution_count": null,
   "id": "47e22536-8dc2-4066-b814-845f10edcc23",
   "metadata": {},
   "outputs": [
    {
     "name": "stdout",
     "output_type": "stream",
     "text": [
      "1 4 9 16 25 36 49 64 81 100 121 144 169 196 225 256 289 324 361 "
     ]
    }
   ],
   "source": [
    "for i in range(1,20):\n",
    "    print(i**2,end = ' ')\n"
   ]
  },
  {
   "cell_type": "markdown",
   "id": "061a86b2-8559-4e2b-a737-a8c20c3d264c",
   "metadata": {},
   "source": [
    "### Loop  => for, while\n",
    "\n",
    "start, end, step => traverse => Iteration\n",
    "\n",
    "Iteration = Traversing(move) over elemnets of a specified range."
   ]
  },
  {
   "cell_type": "code",
   "execution_count": null,
   "id": "00646823-38ed-4d54-ba43-a43d18a5b6ed",
   "metadata": {},
   "outputs": [
    {
     "name": "stdout",
     "output_type": "stream",
     "text": [
      "1\n",
      "2\n",
      "3\n",
      "4\n",
      "5\n",
      "6\n",
      "7\n",
      "8\n",
      "9\n"
     ]
    }
   ],
   "source": [
    "# start= 1,end=10,step=+1\n",
    "print(1)\n",
    "print(2)\n",
    "print(3)\n",
    "print(4)\n",
    "print(5)\n",
    "print(6)\n",
    "print(7)\n",
    "print(8)\n",
    "print(9)"
   ]
  },
  {
   "cell_type": "markdown",
   "id": "b573155f-4534-4b4a-8e91-c51a3f774205",
   "metadata": {},
   "source": [
    "### For Loops\n",
    "\n",
    "In range(start,end,step) method\n",
    "1) In ascending order, iteration proceeds from start till <b>end-1</b>, step size is positive<br>\n",
    "2) In descending order, iteration proceeds from start till <b>end+1</b>, step size is negative<br>\n",
    "3) Default step value = +1<br>\n",
    "4) range() works only on int<br>\n",
    "5) Default start value is 0.<br>\n",
    "6) If only one values is present in range(), then it is end"
   ]
  },
  {
   "cell_type": "code",
   "execution_count": null,
   "id": "df7f07a3-8085-452a-9bde-6b70dff45927",
   "metadata": {},
   "outputs": [
    {
     "name": "stdout",
     "output_type": "stream",
     "text": [
      "1 2 3 4 5 "
     ]
    }
   ],
   "source": [
    "# print numbers from 1 to 5 using for loop\n",
    "for abc in range(1,6):  # start=1,end=6,step=+1\n",
    "    print(abc,end = ' ')"
   ]
  },
  {
   "cell_type": "code",
   "execution_count": null,
   "id": "9a832e88-7bf3-4a2e-a423-10af7801f7ed",
   "metadata": {},
   "outputs": [
    {
     "name": "stdout",
     "output_type": "stream",
     "text": [
      "0 1 2 3 4 "
     ]
    }
   ],
   "source": [
    "for i in range(5):   # start=0,end=5,step=+1 => end-1\n",
    "    print(i,end=' ')"
   ]
  },
  {
   "cell_type": "code",
   "execution_count": null,
   "id": "747c925c-62bc-488e-bcb7-c2f0e2d393f6",
   "metadata": {},
   "outputs": [
    {
     "name": "stdout",
     "output_type": "stream",
     "text": [
      "20 23 26 29 32 35 38 41 44 47 "
     ]
    }
   ],
   "source": [
    "for i in range(20,50,3):  # start=20,end=50,step=+3\n",
    "    print(i,end = ' ')"
   ]
  },
  {
   "cell_type": "code",
   "execution_count": null,
   "id": "3a21aa5d-9fba-4ad5-b957-c3f2d3683e3f",
   "metadata": {},
   "outputs": [
    {
     "name": "stdout",
     "output_type": "stream",
     "text": [
      "10 9 8 7 6 5 4 "
     ]
    }
   ],
   "source": [
    "for i in range(10,3,-1):  # start=10,end=3,step=-1  => desc order => end+1\n",
    "    print(i,end=' ')"
   ]
  },
  {
   "cell_type": "code",
   "execution_count": null,
   "id": "49ee44e5-45a3-4442-95a1-37d0a1bf2a8d",
   "metadata": {},
   "outputs": [
    {
     "name": "stdout",
     "output_type": "stream",
     "text": [
      "vikas kumar atray"
     ]
    }
   ],
   "source": [
    "str = \"vikas kumar atray\"\n",
    "for i in str:\n",
    "    print(i,end ='')"
   ]
  },
  {
   "cell_type": "code",
   "execution_count": null,
   "id": "d0261c95-3f8d-4edc-a98b-f5fe6576c75a",
   "metadata": {},
   "outputs": [
    {
     "name": "stdout",
     "output_type": "stream",
     "text": [
      "amit\n",
      "raju\n",
      "22.5\n",
      "56\n",
      "10\n",
      "vikas\n"
     ]
    }
   ],
   "source": [
    "lts = {\"vikas\",\"amit\",10,56,22.5,\"raju\"}\n",
    "for i in lts:\n",
    "    print(i)"
   ]
  },
  {
   "cell_type": "code",
   "execution_count": null,
   "id": "c58c7679-6dd8-40a5-833d-9cdbf0da7dbf",
   "metadata": {},
   "outputs": [
    {
     "name": "stdout",
     "output_type": "stream",
     "text": [
      "10 16 22 12 14 24 "
     ]
    }
   ],
   "source": [
    "lts = [10,16,22,12,14,65,24,63,87]\n",
    "for i in lts:\n",
    "    if i%2==0:\n",
    "        print(i,end = ' ')"
   ]
  },
  {
   "cell_type": "code",
   "execution_count": null,
   "id": "846bd9cb-cf56-4769-abf7-40b8ca835595",
   "metadata": {},
   "outputs": [],
   "source": []
  },
  {
   "cell_type": "code",
   "execution_count": null,
   "id": "9974e2a3-b776-446c-9542-5918847aa412",
   "metadata": {},
   "outputs": [],
   "source": []
  },
  {
   "cell_type": "code",
   "execution_count": null,
   "id": "9777c052-33d7-4ad9-a3c1-f010665c38d1",
   "metadata": {},
   "outputs": [],
   "source": []
  },
  {
   "cell_type": "code",
   "execution_count": null,
   "id": "54592b26-d441-4d46-9c18-d58d840fbe7e",
   "metadata": {},
   "outputs": [
    {
     "name": "stdout",
     "output_type": "stream",
     "text": [
      "100 130 160 190 220 250 280 310 "
     ]
    }
   ],
   "source": [
    "for i in range(100,311,30):\n",
    "    print(i,end=' ')"
   ]
  },
  {
   "cell_type": "code",
   "execution_count": null,
   "id": "fcf306ce-e759-434a-a449-f682f89f8901",
   "metadata": {},
   "outputs": [],
   "source": [
    "### Entities on which we can iterate\n",
    "Strings,List,tuple,set,dict,range()"
   ]
  },
  {
   "cell_type": "markdown",
   "id": "829c7ea1-f326-4cbe-8886-be2637f6a3e6",
   "metadata": {},
   "source": [
    "#### For loop on strings"
   ]
  },
  {
   "cell_type": "code",
   "execution_count": null,
   "id": "67005781-f450-4e02-a4e3-84361db7ca96",
   "metadata": {},
   "outputs": [],
   "source": [
    "# Pos  0  1  2  3  4\n",
    "# Str  T  O  D  A  Y\n",
    "# neg -5 -4 -3 -2 -1"
   ]
  },
  {
   "cell_type": "code",
   "execution_count": null,
   "id": "feb48273-d530-4fcc-868f-be4ffd462a92",
   "metadata": {},
   "outputs": [],
   "source": [
    "# str, list, tuple\n",
    "# 1) elmenets wise iteration\n",
    "# 2) index wise iteration"
   ]
  },
  {
   "cell_type": "code",
   "execution_count": null,
   "id": "4edc0916-3305-423b-86e0-c0087ce3d249",
   "metadata": {},
   "outputs": [
    {
     "name": "stdout",
     "output_type": "stream",
     "text": [
      "T o d a y\n",
      "y a d o T\n"
     ]
    }
   ],
   "source": [
    "s = \"Today\"\n",
    "print(s[0],s[1],s[2],s[3],s[4])  # pos index\n",
    "print(s[-1],s[-2],s[-3],s[-4],s[-5]) # neg index"
   ]
  },
  {
   "cell_type": "code",
   "execution_count": null,
   "id": "d14e9d75-72f1-4d86-b6d6-ac057713c589",
   "metadata": {},
   "outputs": [
    {
     "name": "stdout",
     "output_type": "stream",
     "text": [
      "T\n",
      "o\n",
      "d\n",
      "a\n",
      "y\n"
     ]
    }
   ],
   "source": [
    "s = \"Today\"\n",
    "# Element wise Iteration\n",
    "# i corresposnds to each and every element of string\n",
    "for i in s:\n",
    "    print(i)"
   ]
  },
  {
   "cell_type": "code",
   "execution_count": null,
   "id": "3b88579a-a4e5-4694-bcc1-3731b039b77e",
   "metadata": {},
   "outputs": [
    {
     "name": "stdout",
     "output_type": "stream",
     "text": [
      "0 T\n",
      "1 o\n",
      "2 d\n",
      "3 a\n",
      "4 y\n"
     ]
    }
   ],
   "source": [
    "s = 'Today'\n",
    "# Index wise Iteration\n",
    "for i in range(len(s)):  # start=0, end=len(s) =5,step=+1 \n",
    "    print(i,s[i])"
   ]
  },
  {
   "cell_type": "code",
   "execution_count": null,
   "id": "20663ef1-2f8f-4204-bdac-c054b4b75cb4",
   "metadata": {},
   "outputs": [],
   "source": [
    "# Pos  0  1  2  3  4\n",
    "# Str  T  O  D  A  Y\n",
    "# neg -5 -4 -3 -2 -1"
   ]
  },
  {
   "cell_type": "code",
   "execution_count": null,
   "id": "18b60168-1f4e-471f-bb8e-784036c9b07b",
   "metadata": {},
   "outputs": [
    {
     "name": "stdout",
     "output_type": "stream",
     "text": [
      "-5 y\n",
      "-4 a\n",
      "-3 d\n",
      "-2 o\n",
      "-1 T\n"
     ]
    }
   ],
   "source": [
    "# iterate str from left to right with neg index\n",
    "s = \"yadoT\"\n",
    "for i in range(-len(s),0):  # step = +1  => end-1\n",
    "    print(i,s[i])"
   ]
  },
  {
   "cell_type": "code",
   "execution_count": null,
   "id": "f010c06d-0316-42b1-81e4-e8e42c6c0060",
   "metadata": {},
   "outputs": [
    {
     "name": "stdout",
     "output_type": "stream",
     "text": [
      "Sum 55\n"
     ]
    }
   ],
   "source": [
    "# Find sum of num from 1 to 10 using for loop\n",
    "add = 0\n",
    "for i in range(1,11):   # start=1,end=11,step=+1\n",
    "    add += i            # add = add + i\n",
    "print('Sum',add)\n",
    "# add = 0\n",
    "# i = 1 => add = 0 + 1 = 1\n",
    "# i = 2 => add = 1 + 2 = 3\n",
    "# i = 3 => add = 3 + 3 = 6\n",
    "# i = 4 => add = 6 + 4 = 10\n",
    "# ...."
   ]
  },
  {
   "cell_type": "code",
   "execution_count": null,
   "id": "2210b89a-ca5f-43d7-83f1-7de9d1a29b84",
   "metadata": {},
   "outputs": [
    {
     "name": "stdout",
     "output_type": "stream",
     "text": [
      "Sum 440\n"
     ]
    }
   ],
   "source": [
    "# Find sum of all even numbers from 30 to 50\n",
    "a = 0\n",
    "for i in range(30,51): # start=30,end=51,step=+1\n",
    "    if i%2==0 :\n",
    "        a += i\n",
    "        \n",
    "print('Sum',a)"
   ]
  },
  {
   "cell_type": "code",
   "execution_count": null,
   "id": "d4dc03e1-f128-476b-996b-7a426b1f24f9",
   "metadata": {},
   "outputs": [
    {
     "name": "stdout",
     "output_type": "stream",
     "text": [
      "Sum 400\n"
     ]
    }
   ],
   "source": [
    "a = 0\n",
    "for i in range(30,51): # start=30,end=51,step=+1\n",
    "    if i%2!=0 :\n",
    "        a += i\n",
    "print('Sum',a)"
   ]
  },
  {
   "cell_type": "code",
   "execution_count": null,
   "id": "1225bdaf-5e4d-4dde-8aed-22af99605e06",
   "metadata": {},
   "outputs": [
    {
     "name": "stdout",
     "output_type": "stream",
     "text": [
      "4 16 36 64 100 144 196 256 324 400 484 576 676 784 900 1024 1156 1296 1444 1600 1764 1936 2116 2304 2500 2704 2916 3136 3364 3600 3844 4096 4356 4624 4900 5184 5476 5776 6084 6400 6724 7056 7396 7744 8100 8464 8836 9216 9604 "
     ]
    }
   ],
   "source": [
    "lts = [x**2 for x in range(1,100) if x%2==0]\n",
    "for i in lts:\n",
    "    print(i,end =' ')"
   ]
  },
  {
   "cell_type": "code",
   "execution_count": null,
   "id": "65f0816d-9d67-4dd2-82c5-cc257a93869c",
   "metadata": {},
   "outputs": [
    {
     "name": "stdout",
     "output_type": "stream",
     "text": [
      "odd value  1  -5 from odd value -4\n",
      "odd value  3  -5 from odd value -2\n",
      "odd value  5  -5 from odd value 0\n",
      "odd value  7  -5 from odd value 2\n",
      "odd value  9  -5 from odd value 4\n",
      "odd value  11  -5 from odd value 6\n",
      "odd value  13  -5 from odd value 8\n",
      "odd value  15  -5 from odd value 10\n",
      "odd value  17  -5 from odd value 12\n",
      "odd value  19  -5 from odd value 14\n",
      "odd value  21  -5 from odd value 16\n",
      "odd value  23  -5 from odd value 18\n",
      "odd value  25  -5 from odd value 20\n",
      "odd value  27  -5 from odd value 22\n",
      "odd value  29  -5 from odd value 24\n",
      "odd value  31  -5 from odd value 26\n",
      "odd value  33  -5 from odd value 28\n",
      "odd value  35  -5 from odd value 30\n",
      "odd value  37  -5 from odd value 32\n",
      "odd value  39  -5 from odd value 34\n",
      "odd value  41  -5 from odd value 36\n",
      "odd value  43  -5 from odd value 38\n",
      "odd value  45  -5 from odd value 40\n",
      "odd value  47  -5 from odd value 42\n",
      "odd value  49  -5 from odd value 44\n"
     ]
    }
   ],
   "source": [
    "a = 0\n",
    "for i in range(1, 51):\n",
    "    if i % 2 != 0:  # Check if the number is odd\n",
    "        a = i-5\n",
    "        print('odd value ',i,' -5 from odd value',a)"
   ]
  },
  {
   "cell_type": "code",
   "execution_count": null,
   "id": "fdbffb45-60e1-4ab5-aee3-c14a1037f15f",
   "metadata": {},
   "outputs": [],
   "source": [
    "lts = [10,20,30,40,50,60,70]\n",
    "lts1 = [\"python\",\"java\",\"c++\",\".net\",\"Ruby\",\"Mysql\",\"PHP\"]"
   ]
  },
  {
   "cell_type": "code",
   "execution_count": null,
   "id": "049baf24-eb7d-4a90-864a-b2111d142795",
   "metadata": {},
   "outputs": [
    {
     "name": "stdout",
     "output_type": "stream",
     "text": [
      "10 python 10 java 10 c++ 10 .net 10 Ruby 10 Mysql 10 PHP 20 python 20 java 20 c++ 20 .net 20 Ruby 20 Mysql 20 PHP 30 python 30 java 30 c++ 30 .net 30 Ruby 30 Mysql 30 PHP 40 python 40 java 40 c++ 40 .net 40 Ruby 40 Mysql 40 PHP 50 python 50 java 50 c++ 50 .net 50 Ruby 50 Mysql 50 PHP 60 python 60 java 60 c++ 60 .net 60 Ruby 60 Mysql 60 PHP 70 python 70 java 70 c++ 70 .net 70 Ruby 70 Mysql 70 PHP "
     ]
    }
   ],
   "source": [
    "lt =[]\n",
    "for i in lts:\n",
    "    for j in lts1:\n",
    "        print(i,j, end = ' ')"
   ]
  },
  {
   "cell_type": "code",
   "execution_count": null,
   "id": "cf803d3f-0e27-403c-917b-a0214943c61f",
   "metadata": {},
   "outputs": [
    {
     "name": "stdout",
     "output_type": "stream",
     "text": [
      "1\n",
      "2\n",
      "3\n",
      "4\n",
      "5\n"
     ]
    }
   ],
   "source": [
    "for i in range(1,5+1):\n",
    "        print(i)"
   ]
  },
  {
   "cell_type": "code",
   "execution_count": null,
   "id": "dbb506fe-2efc-4b60-807b-320e39c6a0c4",
   "metadata": {},
   "outputs": [],
   "source": []
  },
  {
   "cell_type": "code",
   "execution_count": null,
   "id": "da8ab98b-e8b6-4da2-a390-2d94ff792f18",
   "metadata": {},
   "outputs": [
    {
     "name": "stdout",
     "output_type": "stream",
     "text": [
      "5 5 5 5 5 \n",
      "4 4 4 4 \n",
      "3 3 3 \n",
      "2 2 \n",
      "1 \n",
      "\n"
     ]
    }
   ],
   "source": [
    "n = 5\n",
    "k = 5\n",
    "for i in range(0,n+1):\n",
    "    for j in range(k-i,0,-1):\n",
    "        print(k-i,end = ' ')\n",
    "    print()"
   ]
  },
  {
   "cell_type": "code",
   "execution_count": null,
   "id": "41c97e14-0226-4fe5-9f5d-115d24a9a9c7",
   "metadata": {},
   "outputs": [],
   "source": [
    "for i in range(10,3,-1):  # start=10,end=3,step=-1  => desc order => end+1\n",
    "    print(i,end=' ')"
   ]
  },
  {
   "cell_type": "code",
   "execution_count": null,
   "id": "8728db3a-b5d7-4946-8165-166c225081af",
   "metadata": {},
   "outputs": [
    {
     "name": "stdout",
     "output_type": "stream",
     "text": [
      "Fibonacci sequence:\n",
      "0  1  1  2  3  5  8  13  21  34  "
     ]
    }
   ],
   "source": [
    "# first two numbers\n",
    "num1, num2 = 0, 1\n",
    "\n",
    "print(\"Fibonacci sequence:\")\n",
    "# run loop 10 times\n",
    "for i in range(10):\n",
    "    # print next number of a series\n",
    "    print(num1, end=\"  \")\n",
    "    # add last two numbers to get next number\n",
    "    res = num1 + num2\n",
    "\n",
    "    # update values\n",
    "    num1 = num2\n",
    "    num2 = res"
   ]
  },
  {
   "cell_type": "code",
   "execution_count": null,
   "id": "ab184e04-0cd5-49c0-814e-370d2dfaeff7",
   "metadata": {},
   "outputs": [],
   "source": []
  },
  {
   "cell_type": "markdown",
   "id": "342ce7b9-ac68-4a0e-8b64-ca7a18b5e686",
   "metadata": {},
   "source": [
    "### While loop\n",
    "A loop that runs a single statement or a set of statements for a given true condition. This loop is represented by the keyword \"while\". When the number of iterations is unknown, a while loop is used. The statement is repeated until the Boolean value is false. Because the condition is tested at the beginning of a while loop, it is also known as the pre-test loop."
   ]
  },
  {
   "cell_type": "code",
   "execution_count": null,
   "id": "6747eadf-ac7d-4369-aca8-3ffec3cc74f3",
   "metadata": {},
   "outputs": [
    {
     "name": "stdout",
     "output_type": "stream",
     "text": [
      "0 1 2 3 4 5 6 7 8 9 "
     ]
    }
   ],
   "source": [
    "i = 0        # start\n",
    "while i < 10 :   # end\n",
    "    print(i,end=' ')\n",
    "    i += 1  # step"
   ]
  },
  {
   "cell_type": "code",
   "execution_count": null,
   "id": "b37efb10-306d-47bf-b905-75e8cc127450",
   "metadata": {},
   "outputs": [
    {
     "name": "stdout",
     "output_type": "stream",
     "text": [
      "1 2 3 4 5 "
     ]
    }
   ],
   "source": [
    "i = 0         # start\n",
    "while i < 5 :   # end\n",
    "    i += 1     # step\n",
    "    print(i,end=' ')"
   ]
  },
  {
   "cell_type": "code",
   "execution_count": null,
   "id": "14f67dde-82f2-4293-8ef4-99bcda225652",
   "metadata": {},
   "outputs": [
    {
     "name": "stdout",
     "output_type": "stream",
     "text": [
      "18 16 14 12 10 8 6 4 "
     ]
    }
   ],
   "source": [
    "i = 20        # start=20\n",
    "while i>=5:    # end=5\n",
    "    i -= 2    # step = -2\n",
    "    print(i,end=' ')\n",
    "    #i -=2"
   ]
  },
  {
   "cell_type": "code",
   "execution_count": null,
   "id": "83a7faff-b4a6-4baf-8fd9-c11ba6e6fd66",
   "metadata": {},
   "outputs": [
    {
     "name": "stdout",
     "output_type": "stream",
     "text": [
      "21 23 25 27 29 31 33 35 \n",
      "Sum of odd 224\n"
     ]
    }
   ],
   "source": [
    "# Find sum of odd num between 20 to 35 using while loop\n",
    "odd =  0\n",
    "i = 20\n",
    "while i<=35 :\n",
    "    i =i+1\n",
    "    if i%2!=0:\n",
    "        print(i,end  = ' ')\n",
    "        odd = odd + i\n",
    "print('\\nSum of odd',odd)    "
   ]
  },
  {
   "cell_type": "code",
   "execution_count": null,
   "id": "cc07a109-18a5-40e6-b169-963e673b6c8a",
   "metadata": {},
   "outputs": [
    {
     "name": "stdout",
     "output_type": "stream",
     "text": [
      "0 m\n",
      "1 o\n",
      "2 b\n",
      "3 i\n",
      "4 l\n",
      "5 e\n"
     ]
    }
   ],
   "source": [
    "# iterate on string using while loop\n",
    "# index based iteration \n",
    "\n",
    "w = \"mobile\"\n",
    "i = 0   # start\n",
    "while i < len(w):  #  end\n",
    "    print(i,w[i]) \n",
    "    i += 1         #  step"
   ]
  },
  {
   "cell_type": "code",
   "execution_count": null,
   "id": "a4f4e273-1920-413c-936f-c4156ef6a062",
   "metadata": {},
   "outputs": [],
   "source": [
    "# for  \n",
    "# a) range is used\n",
    "# b) condition is not used at starting\n",
    "\n",
    "# while \n",
    "# a) range is not used\n",
    "# b) condition can be used at starting"
   ]
  },
  {
   "cell_type": "markdown",
   "id": "6727da46-1988-414b-b3d7-6acba3eeccbf",
   "metadata": {},
   "source": [
    "#### Note\n",
    "break - Returns the program control out of the loop<br>\n",
    "continue - Returns the program control at the beginning of the loop"
   ]
  },
  {
   "cell_type": "code",
   "execution_count": null,
   "id": "2e4cfabb-9813-4956-927b-b39e89c46046",
   "metadata": {},
   "outputs": [
    {
     "name": "stdout",
     "output_type": "stream",
     "text": [
      "1 2 3 4 "
     ]
    }
   ],
   "source": [
    "for i in range(1,100):  # start=10,end=20,step=+1\n",
    "    if i%5==0:  # 12 \n",
    "        break\n",
    "    else:\n",
    "        print(i,end = ' ')  # 10, 11,"
   ]
  },
  {
   "cell_type": "code",
   "execution_count": null,
   "id": "68bf2a0c-4fbb-49d1-8381-6137bc2b65a6",
   "metadata": {},
   "outputs": [
    {
     "name": "stdout",
     "output_type": "stream",
     "text": [
      "1 2 3 4 5 6 7 8 9 10 11 12 13 14 "
     ]
    }
   ],
   "source": [
    "for i in range(1,100):\n",
    "    if i == 15:\n",
    "        break\n",
    "    else:\n",
    "        print(i, end = ' ')"
   ]
  },
  {
   "cell_type": "code",
   "execution_count": null,
   "id": "b8a7ae6f-139f-40f7-96fd-b348999a5494",
   "metadata": {},
   "outputs": [
    {
     "name": "stdout",
     "output_type": "stream",
     "text": [
      "I m a r t i "
     ]
    }
   ],
   "source": [
    "a = \"Imarticcus\"\n",
    "for i in a:\n",
    "    if i ==\"c\":\n",
    "        break\n",
    "    else:\n",
    "        print(i,end = ' ')"
   ]
  },
  {
   "cell_type": "code",
   "execution_count": null,
   "id": "96038886-88cd-485b-890c-c7866c15abb7",
   "metadata": {},
   "outputs": [
    {
     "name": "stdout",
     "output_type": "stream",
     "text": [
      "1 2 3 4 "
     ]
    }
   ],
   "source": [
    "i = 0\n",
    "while i <= 10:\n",
    "    i += 1\n",
    "    if i%5==0 :\n",
    "        break\n",
    "    else:\n",
    "        print(i,end = ' ')"
   ]
  },
  {
   "cell_type": "code",
   "execution_count": null,
   "id": "1059b201-1792-4dfd-ab25-4757afb17f55",
   "metadata": {},
   "outputs": [
    {
     "name": "stdout",
     "output_type": "stream",
     "text": [
      "1\n",
      "2\n",
      "3\n",
      "4\n"
     ]
    }
   ],
   "source": [
    "i = 1\n",
    "while i <= 10:\n",
    "    if i%5==0 :\n",
    "        break\n",
    "    else:\n",
    "        print(i)\n",
    "    i += 1"
   ]
  },
  {
   "cell_type": "markdown",
   "id": "6984f760-d93f-4862-b906-de0d3fa3c2a7",
   "metadata": {},
   "source": [
    "#### continue\n",
    "Returns the program control at the beginning of the loop.<br>\n",
    "If the condition is True, those value will be skipped."
   ]
  },
  {
   "cell_type": "code",
   "execution_count": null,
   "id": "62063554-a063-4527-be8d-7f4e141394d0",
   "metadata": {},
   "outputs": [
    {
     "name": "stdout",
     "output_type": "stream",
     "text": [
      "10 11 13 14 16 17 19 "
     ]
    }
   ],
   "source": [
    "for i in range(10,20):  # start=10,end=20,step=+1\n",
    "    if i%3==0:    # 12 \n",
    "        continue\n",
    "    else:\n",
    "        print(i,end=' ')  # 10, 11,"
   ]
  },
  {
   "cell_type": "code",
   "execution_count": null,
   "id": "17e89c98-bcaa-4dbd-abc7-e4b7a884411b",
   "metadata": {},
   "outputs": [
    {
     "name": "stdout",
     "output_type": "stream",
     "text": [
      "11 13 14 16 17 19 20 "
     ]
    }
   ],
   "source": [
    "i = 10\n",
    "while i < 20:\n",
    "    i += 1\n",
    "    if i%3==0:\n",
    "        continue\n",
    "    else:\n",
    "        print(i,end=' ')"
   ]
  },
  {
   "cell_type": "code",
   "execution_count": null,
   "id": "4154b3f5-cf9d-4a2e-8a4f-801c716c7129",
   "metadata": {},
   "outputs": [
    {
     "name": "stdout",
     "output_type": "stream",
     "text": [
      "10\n"
     ]
    }
   ],
   "source": [
    "x = 10\n",
    "\n",
    "if x > 15:\n",
    "    pass  # Placeholder for future logic\n",
    "else:\n",
    "    print(x)"
   ]
  },
  {
   "cell_type": "code",
   "execution_count": null,
   "id": "27fea8ee-4f8b-4be5-bb43-4730376b398b",
   "metadata": {},
   "outputs": [
    {
     "name": "stdout",
     "output_type": "stream",
     "text": [
      "0\n",
      "1\n",
      "2\n",
      "3\n",
      "4\n",
      "5\n",
      "6\n",
      "7\n",
      "8\n",
      "9\n"
     ]
    }
   ],
   "source": [
    "for i in range(10):\n",
    "    if i == 3:\n",
    "        pass\n",
    "        print(i) # Skip this iteration for now\n",
    "    else:\n",
    "        print(i)"
   ]
  },
  {
   "cell_type": "code",
   "execution_count": null,
   "id": "13e2478c-aa5e-4333-bf5b-11f543c061c3",
   "metadata": {},
   "outputs": [
    {
     "name": "stdout",
     "output_type": "stream",
     "text": [
      "1\n",
      "2\n",
      "3\n",
      "4\n",
      "5\n"
     ]
    }
   ],
   "source": [
    "# pass\n",
    "i = 1\n",
    "while i < 6:\n",
    "    if i % 2 == 0:\n",
    "        pass\n",
    "        print(i)# Placeholder, does nothing for now\n",
    "    else:\n",
    "        print(i)  # Prints only odd numbers\n",
    "    i += 1"
   ]
  },
  {
   "cell_type": "code",
   "execution_count": null,
   "id": "d8bbc669-9740-4821-aade-beeef30a3037",
   "metadata": {},
   "outputs": [
    {
     "name": "stdout",
     "output_type": "stream",
     "text": [
      "1\n",
      "2\n",
      "3\n",
      "4\n",
      "5\n",
      "6\n",
      "7\n",
      "8\n",
      "9\n"
     ]
    }
   ],
   "source": [
    "for i in range(1,10):\n",
    "    if i%2==0:\n",
    "        pass\n",
    "    print(i)"
   ]
  },
  {
   "cell_type": "markdown",
   "id": "9ca20969-e6f6-48b8-9d6e-56c71117f3b6",
   "metadata": {},
   "source": [
    "1. Write a Python program to find those numbers which are divisible by 7 and multiply of 5, between 1500 and 2700 (both included).\n",
    "\n",
    "\n",
    "2. Write a Python program to guess a number between 1 and 9.\n",
    "Note : User is prompted to enter a guess. If the user guesses wrong then the prompt appears again until the guess is correct, on successful guess, user will get a \"Well guessed!\" message, and the program will exit\n",
    "\n",
    "3. Write a Python program to count the number of even and odd numbers in a series of numbers\n",
    "Sample numbers : numbers = (1, 2, 3, 4, 5, 6, 7, 8, ... 59\n",
    "ex) \n",
    "Expected Output :\n",
    "Number of even numbers : 5\n",
    "Number of odd num\n",
    "\n",
    "4. Write a Python program to get the Fibonacci series between 0 and 50.\n",
    "Note : The Fibonacci Sequence is the series of numbers :\n",
    "0, 1, 1, 2, 3, 5, 8, 13, 21, ....\n",
    "Every next number is found by adding up the two numbers before it.\n",
    "Expected Output : 1 1 2 3 5 8 13 2\n",
    "\n",
    "\n",
    "5. Write a Python program to check the validity of passwords input by users.\n",
    "Validation :\n",
    "\n",
    "At least 1 letter between [a-z] and 1 letter between [A-Z].\n",
    "At least 1 number between [0-9].\n",
    "At least 1 character from [$#@].\n",
    "Minimum length 6 characters.\n",
    "Maximum length 16 characters.1 34bers : 4."
   ]
  },
  {
   "cell_type": "markdown",
   "id": "75f8ead7-c8e6-4f84-9430-ccea309b6d5c",
   "metadata": {},
   "source": [
    "\n",
    "\n",
    "\n",
    "1. Write a program that takes an integer N and prints numbers from 1 to N using a while loop.\n",
    "Sum of first N natural numbers\n",
    "\n",
    "2. Write a program to find the sum of the first N natural numbers using a while loop.\n",
    "Factorial of a number\n",
    "\n",
    "3. Write a program to(10 to 50) Reverse a number using a while loop.\n",
    "\n",
    "\n",
    "4. Write a program to reverse a given string( Python ) using a while loop .\n",
    "Count the number of strings\n",
    "\n",
    "5. Write a program to count the number of digits in a given number using a while loop.\n",
    "\n",
    "6. Given a number, repeatedly sum its digits until you get a single-digit number using a while loop.\n",
    "\n",
    "7. Write a program to calculate the sum of all even digits in a given number using a while loop.\n"
   ]
  },
  {
   "cell_type": "code",
   "execution_count": 1,
   "id": "164b519a-6fa8-4965-bfb1-58dc999e802c",
   "metadata": {},
   "outputs": [
    {
     "name": "stdin",
     "output_type": "stream",
     "text": [
      "Enter the number 5\n"
     ]
    },
    {
     "name": "stdout",
     "output_type": "stream",
     "text": [
      "15\n"
     ]
    }
   ],
   "source": [
    "# 1. Write a program that takes an integer N and prints numbers from 1 to N using a while loop.\n",
    "# Sum of first N natural numbers\n",
    "\n",
    "num=int(input(\"Enter the number\"))\n",
    "i=1\n",
    "sum=0\n",
    "while i<num+1:\n",
    "    sum=sum+i\n",
    "    i=i+1\n",
    "    \n",
    "print(sum)\n"
   ]
  },
  {
   "cell_type": "code",
   "execution_count": 8,
   "id": "4fbf60d9-1583-401b-b416-63964f42582b",
   "metadata": {},
   "outputs": [
    {
     "name": "stdin",
     "output_type": "stream",
     "text": [
      "Enter the the number 5\n"
     ]
    },
    {
     "name": "stdout",
     "output_type": "stream",
     "text": [
      "120\n"
     ]
    }
   ],
   "source": [
    "#Write a program to find the sum of the first N natural numbers using a while loop. Factorial of a number\n",
    "num=int(input(\"Enter the the number\"))\n",
    "i=1\n",
    "fact=1\n",
    "while i<num+1:\n",
    "    fact=fact*i\n",
    "    i=i+1\n",
    "\n",
    "print(fact)"
   ]
  },
  {
   "cell_type": "code",
   "execution_count": 13,
   "id": "48ee1163-6315-4382-aa03-7ab9b37c665f",
   "metadata": {},
   "outputs": [
    {
     "name": "stdout",
     "output_type": "stream",
     "text": [
      "50 49 48 47 46 45 44 43 42 41 40 39 38 37 36 35 34 33 32 31 30 29 28 27 26 25 24 23 22 21 20 19 18 17 16 15 14 13 12 11 10 "
     ]
    }
   ],
   "source": [
    "i=50\n",
    "while i >=10:\n",
    "    print(i,end=\" \")\n",
    "    i=i-1"
   ]
  },
  {
   "cell_type": "code",
   "execution_count": 26,
   "id": "636b2967-add2-4885-b4ba-b316b0188263",
   "metadata": {},
   "outputs": [
    {
     "name": "stdout",
     "output_type": "stream",
     "text": [
      "N\n",
      "O\n",
      "H\n",
      "T\n",
      "Y\n",
      "P\n"
     ]
    }
   ],
   "source": [
    "str1=\"PYTHON\"\n",
    "length=len(str1)\n",
    "\n",
    "for i in range(length ,0,-1):\n",
    "    print(str1[i-1])\n",
    "\n"
   ]
  },
  {
   "cell_type": "code",
   "execution_count": 35,
   "id": "a0f332a3-6a5e-4b45-ac21-8ea93e481a04",
   "metadata": {},
   "outputs": [
    {
     "name": "stdin",
     "output_type": "stream",
     "text": [
      "Enter the number 12345\n"
     ]
    },
    {
     "name": "stdout",
     "output_type": "stream",
     "text": [
      "5\n"
     ]
    }
   ],
   "source": [
    "\n",
    "# Write a program to count the number of digits in a given number using a while loop.\n",
    "num=int(input(\"Enter the number\"))\n",
    "num=abs(num)\n",
    "count=0\n",
    "sum=0\n",
    "if num==0:\n",
    "   print(1)\n",
    "   \n",
    "else:\n",
    "    while num>0:\n",
    "      num//=10\n",
    "      count+=1\n",
    "print(count)\n",
    "\n"
   ]
  },
  {
   "cell_type": "code",
   "execution_count": 18,
   "id": "6a3ac040-f1b1-4db9-9e1d-074257329c4c",
   "metadata": {},
   "outputs": [
    {
     "name": "stdin",
     "output_type": "stream",
     "text": [
      "Enter the number 2223\n"
     ]
    },
    {
     "name": "stdout",
     "output_type": "stream",
     "text": [
      "9\n"
     ]
    }
   ],
   "source": [
    "#Given a number, repeatedly sum its digits until you get a single-digit number using a while loop.\n",
    "\n",
    "num=int(input(\"Enter the number\"))\n",
    "num=abs(num)\n",
    "count=0\n",
    "sum=0\n",
    "if num==0:\n",
    "    sum==0\n",
    "    print(sum)\n",
    "\n",
    "else:\n",
    "    while num>0:\n",
    "           rem=num%10 # 123%10=3\n",
    "           sum=sum+rem # sum=3\n",
    "           num=int(num/10)\n",
    "    print(sum)\n"
   ]
  },
  {
   "cell_type": "code",
   "execution_count": 19,
   "id": "2479143a-6eca-470e-ba76-bb3ed815bec1",
   "metadata": {},
   "outputs": [
    {
     "name": "stdin",
     "output_type": "stream",
     "text": [
      "Enter the number 2223\n"
     ]
    },
    {
     "name": "stdout",
     "output_type": "stream",
     "text": [
      "6\n"
     ]
    }
   ],
   "source": [
    "#Given a number, repeatedly sum its  even digits until you get a single-digit number using a while loop.\n",
    "num=int(input(\"Enter the number\"))\n",
    "num=abs(num)\n",
    "count=0\n",
    "sum=0\n",
    "if num==0:\n",
    "    sum==0\n",
    "    print(sum)\n",
    "\n",
    "else:\n",
    "    while num>0:\n",
    "           rem=num%10 # 123%10=3\n",
    "           if rem%2==0:\n",
    "              sum=sum+rem # sum=3\n",
    "           num=int(num/10)\n",
    "    print(sum)"
   ]
  }
 ],
 "metadata": {
  "kernelspec": {
   "display_name": "Python 3 (ipykernel)",
   "language": "python",
   "name": "python3"
  },
  "language_info": {
   "codemirror_mode": {
    "name": "ipython",
    "version": 3
   },
   "file_extension": ".py",
   "mimetype": "text/x-python",
   "name": "python",
   "nbconvert_exporter": "python",
   "pygments_lexer": "ipython3",
   "version": "3.12.2"
  }
 },
 "nbformat": 4,
 "nbformat_minor": 5
}
