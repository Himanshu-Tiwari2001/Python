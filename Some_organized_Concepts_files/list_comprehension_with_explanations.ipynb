{
 "cells": [
  {
   "cell_type": "markdown",
   "id": "e485aaa4",
   "metadata": {},
   "source": [
    "### 1. Generate a list of squares from 1 to 20"
   ]
  },
  {
   "cell_type": "markdown",
   "id": "dc796bab",
   "metadata": {},
   "source": [
    "**Explanation:** This creates a list of squares of numbers from 1 to 20 using list comprehension."
   ]
  },
  {
   "cell_type": "code",
   "execution_count": 1,
   "id": "f0a5d495",
   "metadata": {},
   "outputs": [
    {
     "data": {
      "text/plain": [
       "[1,\n",
       " 4,\n",
       " 9,\n",
       " 16,\n",
       " 25,\n",
       " 36,\n",
       " 49,\n",
       " 64,\n",
       " 81,\n",
       " 100,\n",
       " 121,\n",
       " 144,\n",
       " 169,\n",
       " 196,\n",
       " 225,\n",
       " 256,\n",
       " 289,\n",
       " 324,\n",
       " 361,\n",
       " 400]"
      ]
     },
     "execution_count": 1,
     "metadata": {},
     "output_type": "execute_result"
    }
   ],
   "source": [
    "[x**2 for x in range(1, 21)]"
   ]
  },
  {
   "cell_type": "markdown",
   "id": "b1e18608",
   "metadata": {},
   "source": [
    "### 2. Generate a list of cubes from 1 to 10"
   ]
  },
  {
   "cell_type": "markdown",
   "id": "de2c328b",
   "metadata": {},
   "source": [
    "**Explanation:** This generates a list of cubes of numbers from 1 to 10."
   ]
  },
  {
   "cell_type": "code",
   "execution_count": 2,
   "id": "ef3e3d5d",
   "metadata": {},
   "outputs": [
    {
     "data": {
      "text/plain": [
       "[1, 8, 27, 64, 125, 216, 343, 512, 729, 1000]"
      ]
     },
     "execution_count": 2,
     "metadata": {},
     "output_type": "execute_result"
    }
   ],
   "source": [
    "[x**3 for x in range(1, 11)]"
   ]
  },
  {
   "cell_type": "markdown",
   "id": "2082bc55",
   "metadata": {},
   "source": [
    "### 3. Extract even numbers from 1 to 50"
   ]
  },
  {
   "cell_type": "markdown",
   "id": "545d2229",
   "metadata": {},
   "source": [
    "**Explanation:** Extracts only even numbers from 1 to 50 using an if condition."
   ]
  },
  {
   "cell_type": "code",
   "execution_count": 3,
   "id": "7dce73af",
   "metadata": {},
   "outputs": [
    {
     "data": {
      "text/plain": [
       "[2,\n",
       " 4,\n",
       " 6,\n",
       " 8,\n",
       " 10,\n",
       " 12,\n",
       " 14,\n",
       " 16,\n",
       " 18,\n",
       " 20,\n",
       " 22,\n",
       " 24,\n",
       " 26,\n",
       " 28,\n",
       " 30,\n",
       " 32,\n",
       " 34,\n",
       " 36,\n",
       " 38,\n",
       " 40,\n",
       " 42,\n",
       " 44,\n",
       " 46,\n",
       " 48,\n",
       " 50]"
      ]
     },
     "execution_count": 3,
     "metadata": {},
     "output_type": "execute_result"
    }
   ],
   "source": [
    "[x for x in range(1, 51) if x % 2 == 0]"
   ]
  },
  {
   "cell_type": "markdown",
   "id": "7ecc3a5b",
   "metadata": {},
   "source": [
    "### 4. Extract odd numbers from 1 to 50"
   ]
  },
  {
   "cell_type": "markdown",
   "id": "9e764ea3",
   "metadata": {},
   "source": [
    "**Explanation:** Extracts only odd numbers from 1 to 50 using an if condition."
   ]
  },
  {
   "cell_type": "code",
   "execution_count": 5,
   "id": "89402852",
   "metadata": {},
   "outputs": [
    {
     "data": {
      "text/plain": [
       "[1,\n",
       " 3,\n",
       " 5,\n",
       " 7,\n",
       " 9,\n",
       " 11,\n",
       " 13,\n",
       " 15,\n",
       " 17,\n",
       " 19,\n",
       " 21,\n",
       " 23,\n",
       " 25,\n",
       " 27,\n",
       " 29,\n",
       " 31,\n",
       " 33,\n",
       " 35,\n",
       " 37,\n",
       " 39,\n",
       " 41,\n",
       " 43,\n",
       " 45,\n",
       " 47,\n",
       " 49]"
      ]
     },
     "execution_count": 5,
     "metadata": {},
     "output_type": "execute_result"
    }
   ],
   "source": [
    "[x for x in range(1, 51) if x % 2 != 0]"
   ]
  },
  {
   "cell_type": "markdown",
   "id": "c7a608c4",
   "metadata": {},
   "source": [
    "### 5. Convert a list of Celsius temperatures to Fahrenheit"
   ]
  },
  {
   "cell_type": "markdown",
   "id": "2d018eae",
   "metadata": {},
   "source": [
    "**Explanation:** Converts Celsius temperatures (0°C to 100°C in steps of 10) to Fahrenheit using formula: (C × 9/5) + 32."
   ]
  },
  {
   "cell_type": "code",
   "execution_count": 6,
   "id": "cb979e9f",
   "metadata": {},
   "outputs": [
    {
     "data": {
      "text/plain": [
       "[32.0, 50.0, 68.0, 86.0, 104.0, 122.0, 140.0, 158.0, 176.0, 194.0, 212.0]"
      ]
     },
     "execution_count": 6,
     "metadata": {},
     "output_type": "execute_result"
    }
   ],
   "source": [
    "[(c * 9/5) + 32 for c in range(0, 101, 10)]"
   ]
  },
  {
   "cell_type": "markdown",
   "id": "1b715884",
   "metadata": {},
   "source": [
    "### 6. Get the length of each word in a sentence"
   ]
  },
  {
   "cell_type": "markdown",
   "id": "9d3e7dcf",
   "metadata": {},
   "source": [
    "**Explanation:** Splits a sentence into words and calculates the length of each word."
   ]
  },
  {
   "cell_type": "code",
   "execution_count": null,
   "id": "e1418a3c",
   "metadata": {},
   "outputs": [],
   "source": [
    "[len(word) for word in 'Python is awesome'.split()]"
   ]
  },
  {
   "cell_type": "markdown",
   "id": "3ad3d019",
   "metadata": {},
   "source": [
    "### 7. Create a list of first 10 multiples of 5"
   ]
  },
  {
   "cell_type": "markdown",
   "id": "2d1a9e92",
   "metadata": {},
   "source": [
    "**Explanation:** Generates first 10 multiples of 5."
   ]
  },
  {
   "cell_type": "code",
   "execution_count": 7,
   "id": "c7d45e27",
   "metadata": {},
   "outputs": [
    {
     "data": {
      "text/plain": [
       "[5, 10, 15, 20, 25, 30, 35, 40, 45, 50]"
      ]
     },
     "execution_count": 7,
     "metadata": {},
     "output_type": "execute_result"
    }
   ],
   "source": [
    "[x * 5 for x in range(1, 11)]"
   ]
  },
  {
   "cell_type": "markdown",
   "id": "37944a2f",
   "metadata": {},
   "source": [
    "### 8. Reverse each word in a sentence"
   ]
  },
  {
   "cell_type": "markdown",
   "id": "b4ce2cef",
   "metadata": {},
   "source": [
    "**Explanation:** Reverses each word in a given sentence."
   ]
  },
  {
   "cell_type": "code",
   "execution_count": 8,
   "id": "bf212872",
   "metadata": {},
   "outputs": [
    {
     "data": {
      "text/plain": [
       "['olleH', 'dlroW', 'nohtyP']"
      ]
     },
     "execution_count": 8,
     "metadata": {},
     "output_type": "execute_result"
    }
   ],
   "source": [
    "[word[::-1] for word in 'Hello World Python'.split()]"
   ]
  },
  {
   "cell_type": "markdown",
   "id": "58da4325",
   "metadata": {},
   "source": [
    "### 9. Extract vowels from a string"
   ]
  },
  {
   "cell_type": "markdown",
   "id": "dcd1d5ec",
   "metadata": {},
   "source": [
    "**Explanation:** Extracts vowels from a given string."
   ]
  },
  {
   "cell_type": "code",
   "execution_count": 9,
   "id": "9b79ec75",
   "metadata": {},
   "outputs": [
    {
     "data": {
      "text/plain": [
       "['i', 'o', 'e', 'e', 'i', 'o', 'i', 'o']"
      ]
     },
     "execution_count": 9,
     "metadata": {},
     "output_type": "execute_result"
    }
   ],
   "source": [
    "[ch for ch in 'List Comprehension in Python' if ch.lower() in 'aeiou']"
   ]
  },
  {
   "cell_type": "markdown",
   "id": "ffb47845",
   "metadata": {},
   "source": [
    "### 10. Flatten a nested list"
   ]
  },
  {
   "cell_type": "markdown",
   "id": "5aa47d76",
   "metadata": {},
   "source": [
    "**Explanation:** Flattens a nested list (converts 2D list into a single list)."
   ]
  },
  {
   "cell_type": "code",
   "execution_count": 10,
   "id": "f3443058",
   "metadata": {},
   "outputs": [
    {
     "data": {
      "text/plain": [
       "[1, 2, 3, 4, 5, 6, 7, 8, 9]"
      ]
     },
     "execution_count": 10,
     "metadata": {},
     "output_type": "execute_result"
    }
   ],
   "source": [
    "[num for sublist in [[1,2,3], [4,5,6], [7,8,9]] for num in sublist]"
   ]
  },
  {
   "cell_type": "markdown",
   "id": "7489c432",
   "metadata": {},
   "source": [
    "### 11. Create a list of squares of only even numbers"
   ]
  },
  {
   "cell_type": "markdown",
   "id": "7d316dae",
   "metadata": {},
   "source": [
    "**Explanation:** Creates a list of squares but only for even numbers."
   ]
  },
  {
   "cell_type": "code",
   "execution_count": 11,
   "id": "b72a0bf2",
   "metadata": {},
   "outputs": [
    {
     "data": {
      "text/plain": [
       "[4, 16, 36, 64, 100, 144, 196, 256, 324, 400]"
      ]
     },
     "execution_count": 11,
     "metadata": {},
     "output_type": "execute_result"
    }
   ],
   "source": [
    "[x**2 for x in range(1, 21) if x % 2 == 0]"
   ]
  },
  {
   "cell_type": "markdown",
   "id": "3f53caf4",
   "metadata": {},
   "source": [
    "### 12. Convert a list of strings to uppercase"
   ]
  },
  {
   "cell_type": "markdown",
   "id": "4f15a08f",
   "metadata": {},
   "source": [
    "**Explanation:** Converts all words in a list to uppercase."
   ]
  },
  {
   "cell_type": "code",
   "execution_count": 12,
   "id": "8f4303a0",
   "metadata": {},
   "outputs": [
    {
     "data": {
      "text/plain": [
       "['PYTHON', 'JAVA', 'C++']"
      ]
     },
     "execution_count": 12,
     "metadata": {},
     "output_type": "execute_result"
    }
   ],
   "source": [
    "[word.upper() for word in ['python', 'java', 'c++']]"
   ]
  },
  {
   "cell_type": "markdown",
   "id": "cd6709c8",
   "metadata": {},
   "source": [
    "### 13. Generate a list of numbers divisible by 3 and 5"
   ]
  },
  {
   "cell_type": "markdown",
   "id": "a7556758",
   "metadata": {},
   "source": [
    "**Explanation:** Finds numbers between 1-100 that are divisible by both 3 and 5."
   ]
  },
  {
   "cell_type": "code",
   "execution_count": 13,
   "id": "085edb56",
   "metadata": {},
   "outputs": [
    {
     "data": {
      "text/plain": [
       "[15, 30, 45, 60, 75, 90]"
      ]
     },
     "execution_count": 13,
     "metadata": {},
     "output_type": "execute_result"
    }
   ],
   "source": [
    "[x for x in range(1, 101) if x % 3 == 0 and x % 5 == 0]"
   ]
  },
  {
   "cell_type": "markdown",
   "id": "77483d0b",
   "metadata": {},
   "source": [
    "### 14. Generate a list of factorials from 1 to 5"
   ]
  },
  {
   "cell_type": "markdown",
   "id": "08c2ba9d",
   "metadata": {},
   "source": [
    "**Explanation:** Generates a list of factorial values for numbers from 1 to 5."
   ]
  },
  {
   "cell_type": "code",
   "execution_count": 22,
   "id": "04656e8f",
   "metadata": {},
   "outputs": [
    {
     "name": "stdout",
     "output_type": "stream",
     "text": [
      "[1, 2, 6, 24, 120]\n"
     ]
    }
   ],
   "source": [
    "\n",
    "def factorial(n):\n",
    "    return 1 if n == 0 else n * factorial(n - 1)\n",
    "\n",
    "factorials = [factorial(x) for x in range(1, 6)]\n",
    "print(factorials)\n"
   ]
  },
  {
   "cell_type": "markdown",
   "id": "1c6bae81",
   "metadata": {},
   "source": [
    "### 15. Create a list of tuples with numbers and their squares"
   ]
  },
  {
   "cell_type": "markdown",
   "id": "3f0c325a",
   "metadata": {},
   "source": [
    "**Explanation:** Creates a list of tuples where each tuple contains a number and its square."
   ]
  },
  {
   "cell_type": "code",
   "execution_count": null,
   "id": "5daaf1a3",
   "metadata": {},
   "outputs": [],
   "source": [
    "[(x, x**2) for x in range(1, 11)]"
   ]
  },
  {
   "cell_type": "markdown",
   "id": "8613a043",
   "metadata": {},
   "source": [
    "### 16. Replace even numbers with 'Even' and odd with 'Odd'"
   ]
  },
  {
   "cell_type": "markdown",
   "id": "d34e8c4d",
   "metadata": {},
   "source": [
    "**Explanation:** Replaces even numbers with 'Even' and odd numbers with 'Odd'."
   ]
  },
  {
   "cell_type": "code",
   "execution_count": 23,
   "id": "348539aa",
   "metadata": {},
   "outputs": [
    {
     "data": {
      "text/plain": [
       "['Odd',\n",
       " 'Even',\n",
       " 'Odd',\n",
       " 'Even',\n",
       " 'Odd',\n",
       " 'Even',\n",
       " 'Odd',\n",
       " 'Even',\n",
       " 'Odd',\n",
       " 'Even',\n",
       " 'Odd',\n",
       " 'Even',\n",
       " 'Odd',\n",
       " 'Even',\n",
       " 'Odd',\n",
       " 'Even',\n",
       " 'Odd',\n",
       " 'Even',\n",
       " 'Odd',\n",
       " 'Even']"
      ]
     },
     "execution_count": 23,
     "metadata": {},
     "output_type": "execute_result"
    }
   ],
   "source": [
    "['Even' if x % 2 == 0 else 'Odd' for x in range(1, 21)]"
   ]
  },
  {
   "cell_type": "markdown",
   "id": "9e803447",
   "metadata": {},
   "source": [
    "### 17. Generate a list of prime numbers up to 50"
   ]
  },
  {
   "cell_type": "code",
   "execution_count": 86,
   "id": "1200474b",
   "metadata": {},
   "outputs": [
    {
     "data": {
      "text/plain": [
       "[2, 3, 5, 7, 11, 13, 17, 19, 23, 29, 31, 37, 41, 43, 47]"
      ]
     },
     "execution_count": 86,
     "metadata": {},
     "output_type": "execute_result"
    }
   ],
   "source": [
    "[x for x in range(2, 51) if all(x % i != 0 for i in range(2, int(x**0.5) + 1))]"
   ]
  },
  {
   "cell_type": "markdown",
   "id": "d762f379",
   "metadata": {},
   "source": [
    "**Explanation:** Finds prime numbers up to 50 using the all() function."
   ]
  },
  {
   "cell_type": "code",
   "execution_count": 87,
   "id": "0e68aced-0a6d-4be2-821b-a0b47f822c89",
   "metadata": {},
   "outputs": [
    {
     "name": "stdout",
     "output_type": "stream",
     "text": [
      "[2, 3, 5, 7, 11, 13, 17, 19, 23, 29, 31, 37, 41, 43, 47]\n"
     ]
    }
   ],
   "source": [
    "def is_prime(n):\n",
    "    if n < 2:\n",
    "        return False\n",
    "    for i in range(2, int(n**0.5) + 1):\n",
    "        if n % i == 0:\n",
    "            return False\n",
    "    return True\n",
    "\n",
    "def prime_numbers_up_to(n):\n",
    "    prime_list = []  # List to store prime numbers\n",
    "    for num in range(2, n + 1):\n",
    "        if is_prime(num):  # Check if number is prime\n",
    "            prime_list.append(num)\n",
    "    return prime_list\n",
    "\n",
    "# Example usage:\n",
    "print(prime_numbers_up_to(50))\n"
   ]
  },
  {
   "cell_type": "markdown",
   "id": "e0014ec8",
   "metadata": {},
   "source": [
    "### 18. Find common elements in two lists"
   ]
  },
  {
   "cell_type": "markdown",
   "id": "d0ebf470",
   "metadata": {},
   "source": [
    "**Explanation:** Finds common elements between two lists."
   ]
  },
  {
   "cell_type": "code",
   "execution_count": null,
   "id": "9a97eafe",
   "metadata": {},
   "outputs": [],
   "source": [
    "[x for x in [1, 2, 3, 4, 5] if x in [3, 4, 5, 6, 7]]"
   ]
  },
  {
   "cell_type": "markdown",
   "id": "19be6e75",
   "metadata": {},
   "source": [
    "### 19. Generate a list of random integers"
   ]
  },
  {
   "cell_type": "markdown",
   "id": "00b7ce73",
   "metadata": {},
   "source": [
    "**Explanation:** Generates a list of random numbers using modulo operation."
   ]
  },
  {
   "cell_type": "code",
   "execution_count": 85,
   "id": "81a8c75c",
   "metadata": {},
   "outputs": [
    {
     "data": {
      "text/plain": [
       "[3, 6, 9, 12, 15, 18, 21, 24, 27, 30, 33, 36, 39, 42, 45, 48, 1, 4, 7, 10]"
      ]
     },
     "execution_count": 85,
     "metadata": {},
     "output_type": "execute_result"
    }
   ],
   "source": [
    "[(x * 3) % 50 for x in range(1, 21)]"
   ]
  },
  {
   "cell_type": "markdown",
   "id": "5ded9dc1",
   "metadata": {},
   "source": [
    "### 20. Count occurrences of each letter in a string"
   ]
  },
  {
   "cell_type": "markdown",
   "id": "7aceb627",
   "metadata": {},
   "source": [
    "**Explanation:** Counts occurrences of each letter in a string using dictionary comprehension."
   ]
  },
  {
   "cell_type": "code",
   "execution_count": 71,
   "id": "3f70bde7",
   "metadata": {},
   "outputs": [
    {
     "data": {
      "text/plain": [
       "{'l': 3, 'd': 1, ' ': 1, 'e': 1, 'r': 1, 'o': 2, 'w': 1, 'h': 1}"
      ]
     },
     "execution_count": 71,
     "metadata": {},
     "output_type": "execute_result"
    }
   ],
   "source": [
    "{ch: 'hello world'.count(ch) for ch in set('hello world')}"
   ]
  },
  {
   "cell_type": "code",
   "execution_count": 77,
   "id": "6a87d1c6-e519-4d3a-b143-27075cd4ae75",
   "metadata": {
    "scrolled": true
   },
   "outputs": [
    {
     "name": "stdout",
     "output_type": "stream",
     "text": [
      "{'h': 1, 'e': 1, 'l': 3, 'o': 2, 'w': 1, 'r': 1, 'd': 1}\n",
      "1\n",
      "1\n",
      "3\n",
      "2\n",
      "1\n",
      "1\n",
      "1\n"
     ]
    }
   ],
   "source": [
    "string=\"Hello World\"\n",
    "string=string.lower().split()\n",
    "\n",
    "counts_char={}\n",
    "\n",
    "for words in string:\n",
    "    for i in words:\n",
    "        if i in counts_char:\n",
    "            counts_char[i]+=1\n",
    "        else:\n",
    "            counts_char[i]=1\n",
    "    \n",
    "print(counts_char)\n",
    "\n",
    "\n"
   ]
  },
  {
   "cell_type": "markdown",
   "id": "defa1c2f",
   "metadata": {},
   "source": [
    "### 21. Generate a list of words starting with 'P'"
   ]
  },
  {
   "cell_type": "markdown",
   "id": "fd26ec20",
   "metadata": {},
   "source": [
    "**Explanation:** Filters words that start with 'P' from a given list."
   ]
  },
  {
   "cell_type": "code",
   "execution_count": null,
   "id": "097ab128",
   "metadata": {},
   "outputs": [],
   "source": [
    "[word for word in ['Python', 'Java', 'PHP', 'C++'] if word.startswith('P')]"
   ]
  },
  {
   "cell_type": "markdown",
   "id": "a2aa31bb",
   "metadata": {},
   "source": [
    "### 22. Remove duplicates from a list"
   ]
  },
  {
   "cell_type": "markdown",
   "id": "96810bfb",
   "metadata": {},
   "source": [
    "**Explanation:** Removes duplicate values from a list using set()."
   ]
  },
  {
   "cell_type": "code",
   "execution_count": null,
   "id": "05a30836",
   "metadata": {},
   "outputs": [],
   "source": [
    "list({x for x in [1, 2, 2, 3, 4, 4, 5]})"
   ]
  },
  {
   "cell_type": "markdown",
   "id": "daf59315",
   "metadata": {},
   "source": [
    "### 23. Create a dictionary of numbers and their squares"
   ]
  },
  {
   "cell_type": "markdown",
   "id": "074b7440",
   "metadata": {},
   "source": [
    "**Explanation:** Creates a dictionary mapping numbers to their squares."
   ]
  },
  {
   "cell_type": "code",
   "execution_count": null,
   "id": "3fdba9cc",
   "metadata": {},
   "outputs": [],
   "source": [
    "{x: x**2 for x in range(1, 11)}"
   ]
  },
  {
   "cell_type": "markdown",
   "id": "d1cb4e5e",
   "metadata": {},
   "source": [
    "### 24. Extract digits from a string"
   ]
  },
  {
   "cell_type": "markdown",
   "id": "2ca9ea7d",
   "metadata": {},
   "source": [
    "**Explanation:** Extracts digits from a string."
   ]
  },
  {
   "cell_type": "code",
   "execution_count": null,
   "id": "58640fb0",
   "metadata": {},
   "outputs": [],
   "source": [
    "[int(ch) for ch in 'a1b2c3d4' if ch.isdigit()]"
   ]
  },
  {
   "cell_type": "markdown",
   "id": "78ec737e",
   "metadata": {},
   "source": [
    "### 25. Convert a list of numbers to strings"
   ]
  },
  {
   "cell_type": "markdown",
   "id": "3dc8b3bb",
   "metadata": {},
   "source": [
    "**Explanation:** Converts a list of numbers to their string representation."
   ]
  },
  {
   "cell_type": "code",
   "execution_count": null,
   "id": "35159bfe",
   "metadata": {},
   "outputs": [],
   "source": [
    "[str(x) for x in range(10)]"
   ]
  },
  {
   "cell_type": "markdown",
   "id": "ba89378c",
   "metadata": {},
   "source": [
    "### 26. Get ASCII values of characters in a string"
   ]
  },
  {
   "cell_type": "markdown",
   "id": "bda8dde5",
   "metadata": {},
   "source": [
    "**Explanation:** Finds ASCII values for each character in a string."
   ]
  },
  {
   "cell_type": "code",
   "execution_count": null,
   "id": "ed2f7c48",
   "metadata": {},
   "outputs": [],
   "source": [
    "[ord(ch) for ch in 'Hello']"
   ]
  },
  {
   "cell_type": "markdown",
   "id": "0506ef91",
   "metadata": {},
   "source": [
    "### 27. Create a list of booleans indicating if a number is even"
   ]
  },
  {
   "cell_type": "markdown",
   "id": "2f1cc635",
   "metadata": {},
   "source": [
    "**Explanation:** Creates a boolean list indicating whether each number is even."
   ]
  },
  {
   "cell_type": "code",
   "execution_count": 68,
   "id": "df754227",
   "metadata": {},
   "outputs": [
    {
     "data": {
      "text/plain": [
       "[False, True, False, True, False, True, False, True, False, True]"
      ]
     },
     "execution_count": 68,
     "metadata": {},
     "output_type": "execute_result"
    }
   ],
   "source": [
    "[x % 2 == 0 for x in range(1, 11)]"
   ]
  },
  {
   "cell_type": "code",
   "execution_count": 70,
   "id": "b3f9ee4d-4bcb-49f9-b19a-3ff36974eed5",
   "metadata": {},
   "outputs": [
    {
     "data": {
      "text/plain": [
       "[False, True, False, True, False, True, False, True, False, True]"
      ]
     },
     "execution_count": 70,
     "metadata": {},
     "output_type": "execute_result"
    }
   ],
   "source": [
    "# another way \n",
    "[True if x %2==0 else False for x in range(1,11)]"
   ]
  },
  {
   "cell_type": "markdown",
   "id": "4f654bcd",
   "metadata": {},
   "source": [
    "### 28. Create a matrix using list comprehension"
   ]
  },
  {
   "cell_type": "markdown",
   "id": "5bc5f7cf",
   "metadata": {},
   "source": [
    "**Explanation:** Generates a 3x3 matrix using nested list comprehension."
   ]
  },
  {
   "cell_type": "code",
   "execution_count": 67,
   "id": "4daf9824",
   "metadata": {},
   "outputs": [
    {
     "data": {
      "text/plain": [
       "[[0, 1, 2], [1, 2, 3], [2, 3, 4]]"
      ]
     },
     "execution_count": 67,
     "metadata": {},
     "output_type": "execute_result"
    }
   ],
   "source": [
    "[[x+y for y in range(3)] for x in range(3)]"
   ]
  },
  {
   "cell_type": "markdown",
   "id": "5605b167",
   "metadata": {},
   "source": [
    "### 29. Extract uppercase letters from a string"
   ]
  },
  {
   "cell_type": "markdown",
   "id": "006e2096",
   "metadata": {},
   "source": [
    "**Explanation:** Extracts uppercase letters from a string."
   ]
  },
  {
   "cell_type": "code",
   "execution_count": 66,
   "id": "c3659437",
   "metadata": {},
   "outputs": [
    {
     "data": {
      "text/plain": [
       "['H', 'P']"
      ]
     },
     "execution_count": 66,
     "metadata": {},
     "output_type": "execute_result"
    }
   ],
   "source": [
    "[ch for ch in 'Hello Python' if ch.isupper()]"
   ]
  },
  {
   "cell_type": "markdown",
   "id": "ada35208",
   "metadata": {},
   "source": [
    "### 30. Generate Fibonacci series up to 10 terms"
   ]
  },
  {
   "cell_type": "markdown",
   "id": "349e7ccc",
   "metadata": {},
   "source": [
    "**Explanation:** Generates Fibonacci series up to 10 terms using lambda functions."
   ]
  },
  {
   "cell_type": "code",
   "execution_count": null,
   "id": "de64b031",
   "metadata": {},
   "outputs": [],
   "source": [
    "[(lambda n: (n if n <= 1 else (lambda a, b: [a] + b(a + b, b))[0])(n))(i) for i in range(10)]"
   ]
  },
  {
   "cell_type": "markdown",
   "id": "ec69c6cc",
   "metadata": {},
   "source": [
    "### 31. Generate a list of words with more than 3 letters"
   ]
  },
  {
   "cell_type": "markdown",
   "id": "b85ae99f",
   "metadata": {},
   "source": [
    "**Explanation:** Finds words with more than 3 letters in a sentence."
   ]
  },
  {
   "cell_type": "code",
   "execution_count": 65,
   "id": "9fc0ca24",
   "metadata": {},
   "outputs": [
    {
     "data": {
      "text/plain": [
       "['quick', 'brown']"
      ]
     },
     "execution_count": 65,
     "metadata": {},
     "output_type": "execute_result"
    }
   ],
   "source": [
    "[word for word in 'The quick brown fox'.split() if len(word) > 3]"
   ]
  },
  {
   "cell_type": "markdown",
   "id": "f2d35a2f",
   "metadata": {},
   "source": [
    "### 32. Check if numbers are perfect squares"
   ]
  },
  {
   "cell_type": "markdown",
   "id": "c24cf5bc",
   "metadata": {},
   "source": [
    "**Explanation:** Checks if numbers up to 50 are perfect squares."
   ]
  },
  {
   "cell_type": "code",
   "execution_count": 64,
   "id": "2f1db978",
   "metadata": {},
   "outputs": [
    {
     "data": {
      "text/plain": [
       "[1,\n",
       " None,\n",
       " None,\n",
       " 4,\n",
       " None,\n",
       " None,\n",
       " None,\n",
       " None,\n",
       " 9,\n",
       " None,\n",
       " None,\n",
       " None,\n",
       " None,\n",
       " None,\n",
       " None,\n",
       " 16,\n",
       " None,\n",
       " None,\n",
       " None,\n",
       " None,\n",
       " None,\n",
       " None,\n",
       " None,\n",
       " None,\n",
       " 25,\n",
       " None,\n",
       " None,\n",
       " None,\n",
       " None,\n",
       " None,\n",
       " None,\n",
       " None,\n",
       " None,\n",
       " None,\n",
       " None,\n",
       " 36,\n",
       " None,\n",
       " None,\n",
       " None,\n",
       " None,\n",
       " None,\n",
       " None,\n",
       " None,\n",
       " None,\n",
       " None,\n",
       " None,\n",
       " None,\n",
       " None,\n",
       " 49,\n",
       " None]"
      ]
     },
     "execution_count": 64,
     "metadata": {},
     "output_type": "execute_result"
    }
   ],
   "source": [
    "perfect_sq=[x if (x**0.5).is_integer() else None for x in range(1, 51)]\n",
    "perfect_sq\n",
    "# for printing all sq no \n",
    "# [num for num in perfect_sq if num != None] "
   ]
  },
  {
   "cell_type": "markdown",
   "id": "fe019471",
   "metadata": {},
   "source": [
    "### 33. Generate list of alternating 0s and 1s"
   ]
  },
  {
   "cell_type": "markdown",
   "id": "fd6d1f82",
   "metadata": {},
   "source": [
    "**Explanation:** Generates a pattern of alternating 0s and 1s."
   ]
  },
  {
   "cell_type": "code",
   "execution_count": null,
   "id": "ca4c4e82",
   "metadata": {},
   "outputs": [],
   "source": [
    "[0 if x % 2 == 0 else 1 for x in range(10)]"
   ]
  },
  {
   "cell_type": "markdown",
   "id": "e0e00257",
   "metadata": {},
   "source": [
    "### 34. Filter palindromes from a list"
   ]
  },
  {
   "cell_type": "markdown",
   "id": "92e57c3a",
   "metadata": {},
   "source": [
    "**Explanation:** Filters palindromes (words that read the same forward and backward)."
   ]
  },
  {
   "cell_type": "code",
   "execution_count": 55,
   "id": "917761e3",
   "metadata": {},
   "outputs": [
    {
     "data": {
      "text/plain": [
       "['madam', 'racecar', 'radar', 'nun']"
      ]
     },
     "execution_count": 55,
     "metadata": {},
     "output_type": "execute_result"
    }
   ],
   "source": [
    "[word for word in ['madam', 'racecar', 'python',\"radar\",\"filter\",\"nun\"] if word == word[::-1]]"
   ]
  },
  {
   "cell_type": "markdown",
   "id": "936ccee1",
   "metadata": {},
   "source": [
    "### 35. Find all substrings of a string"
   ]
  },
  {
   "cell_type": "markdown",
   "id": "4fabb570",
   "metadata": {},
   "source": [
    "**Explanation:** Finds all substrings of a given string."
   ]
  },
  {
   "cell_type": "code",
   "execution_count": 48,
   "id": "2aa90936",
   "metadata": {},
   "outputs": [
    {
     "data": {
      "text/plain": [
       "['a', 'ab', 'abc', 'b', 'bc', 'c']"
      ]
     },
     "execution_count": 48,
     "metadata": {},
     "output_type": "execute_result"
    }
   ],
   "source": [
    "string=\"abc\"\n",
    "[string[i:j] for i in range(len(string)) for j in range(i+1, len(string)+1)]"
   ]
  },
  {
   "cell_type": "code",
   "execution_count": 51,
   "id": "551c5465-1504-47f1-af3c-dc0f30419ef6",
   "metadata": {},
   "outputs": [
    {
     "name": "stdout",
     "output_type": "stream",
     "text": [
      "['a', 'ab', 'abc', 'b', 'bc', 'c']\n"
     ]
    }
   ],
   "source": [
    "def generate_substrings(string):\n",
    "    substrings = []  # Initialize an empty list to store substrings\n",
    "    \n",
    "    # Outer loop: Start index of substring\n",
    "    for i in range(len(string)):\n",
    "        # Inner loop: End index of substring (exclusive)\n",
    "        for j in range(i+1, len(string) + 1):\n",
    "            substrings.append(string[i:j])  # Append substring to the list\n",
    "    \n",
    "    return substrings\n",
    "\n",
    "# Example usage:\n",
    "string = \"abc\"\n",
    "print(generate_substrings(string))\n"
   ]
  },
  {
   "cell_type": "markdown",
   "id": "2b556026",
   "metadata": {},
   "source": [
    "### 36. Create a 3x3 identity matrix"
   ]
  },
  {
   "cell_type": "markdown",
   "id": "d02c465e",
   "metadata": {},
   "source": [
    "**Explanation:** Creates a 3x3 identity matrix (diagonal elements are 1, others are 0)."
   ]
  },
  {
   "cell_type": "code",
   "execution_count": 25,
   "id": "0212ad33",
   "metadata": {},
   "outputs": [
    {
     "data": {
      "text/plain": [
       "[[1, 0, 0], [0, 1, 0], [0, 0, 1]]"
      ]
     },
     "execution_count": 25,
     "metadata": {},
     "output_type": "execute_result"
    }
   ],
   "source": [
    "[[1 if i == j else 0 for j in range(3)] for i in range(3)]"
   ]
  },
  {
   "cell_type": "markdown",
   "id": "953e4549",
   "metadata": {},
   "source": [
    "### 37. Find perfect numbers up to 100"
   ]
  },
  {
   "cell_type": "markdown",
   "id": "b9eb0733",
   "metadata": {},
   "source": [
    "**Explanation:** Finds perfect numbers (numbers whose sum of divisors equals themselves)."
   ]
  },
  {
   "cell_type": "code",
   "execution_count": 22,
   "id": "21081319",
   "metadata": {},
   "outputs": [
    {
     "data": {
      "text/plain": [
       "[6, 28]"
      ]
     },
     "execution_count": 22,
     "metadata": {},
     "output_type": "execute_result"
    }
   ],
   "source": [
    "[x for x in range(1, 101) if sum([i for i in range(1, x) if x % i == 0]) == x]"
   ]
  },
  {
   "cell_type": "code",
   "execution_count": 24,
   "id": "7b00c994-e71d-4407-804b-23321defbcb2",
   "metadata": {},
   "outputs": [
    {
     "name": "stdout",
     "output_type": "stream",
     "text": [
      "[6, 28, 496]\n"
     ]
    }
   ],
   "source": [
    "def perfect_numbers(start, end):\n",
    "    perfect_nums = []  # Store perfect numbers\n",
    "\n",
    "    for x in range(start, end + 1):\n",
    "        sum_of_divisors = 0  # Initialize sum of divisors\n",
    "\n",
    "        # Find proper divisors and sum them\n",
    "        for i in range(1, x):\n",
    "            if x % i == 0:\n",
    "                sum_of_divisors += i\n",
    "\n",
    "        # Check if the number is perfect\n",
    "        if sum_of_divisors == x:\n",
    "            perfect_nums.append(x)\n",
    "\n",
    "    return perfect_nums\n",
    "\n",
    "# Example usage:\n",
    "print(perfect_numbers(1, 1000))\n"
   ]
  },
  {
   "cell_type": "code",
   "execution_count": 41,
   "id": "fafad32f-ec07-42c4-a355-d43f629807c1",
   "metadata": {},
   "outputs": [
    {
     "name": "stdout",
     "output_type": "stream",
     "text": [
      "[6, 28, 496, 8128]\n"
     ]
    }
   ],
   "source": [
    "def perfect_number(start,end):\n",
    "    perfect_no=[]\n",
    "\n",
    "    for x in range(start,end+1):\n",
    "\n",
    "        sum_of_factors=0\n",
    "        for i in range(1,x):\n",
    "            if x%i==0:\n",
    "                sum_of_factors+=i\n",
    "        if sum_of_factors == x:\n",
    "            perfect_no.append(x)\n",
    "            \n",
    "    return perfect_no\n",
    "            \n",
    "print(perfect_number(1,10000))              \n",
    "        "
   ]
  },
  {
   "cell_type": "code",
   "execution_count": null,
   "id": "048e91a3-2e43-476f-af5e-80e2d6495ffa",
   "metadata": {},
   "outputs": [],
   "source": [
    "100\n",
    "\n",
    "for x in range(1,101):\n",
    "      for i in range(1,x):\n",
    "          if x%i==0:\n",
    "              "
   ]
  },
  {
   "cell_type": "markdown",
   "id": "29f69c70",
   "metadata": {},
   "source": [
    "### 38. Find factorial using list comprehension"
   ]
  },
  {
   "cell_type": "markdown",
   "id": "a2479404",
   "metadata": {},
   "source": [
    "**Explanation:** Computes factorials using list comprehension."
   ]
  },
  {
   "cell_type": "code",
   "execution_count": 21,
   "id": "9453c9d3",
   "metadata": {},
   "outputs": [
    {
     "data": {
      "text/plain": [
       "[1, 1, 4, 9, 16, 25]"
      ]
     },
     "execution_count": 21,
     "metadata": {},
     "output_type": "execute_result"
    }
   ],
   "source": [
    "[1 if x == 0 else x * [1 if y == 0 else y for y in range(1, x+1)][-1] for x in range(6)]"
   ]
  },
  {
   "cell_type": "markdown",
   "id": "87c790e2",
   "metadata": {},
   "source": [
    "### 39. Count the frequency of each word in a sentence"
   ]
  },
  {
   "cell_type": "markdown",
   "id": "9cc008f3",
   "metadata": {},
   "source": [
    "**Explanation:** Counts the frequency of each word in a given sentence."
   ]
  },
  {
   "cell_type": "code",
   "execution_count": 15,
   "id": "9f7ecba4",
   "metadata": {},
   "outputs": [
    {
     "data": {
      "text/plain": [
       "{'hlw': 1,\n",
       " 'Himanshu': 1,\n",
       " 'my': 1,\n",
       " 'your': 1,\n",
       " 'and': 1,\n",
       " 'what': 1,\n",
       " 'name': 2,\n",
       " 'is': 2}"
      ]
     },
     "execution_count": 15,
     "metadata": {},
     "output_type": "execute_result"
    }
   ],
   "source": [
    "{word: 'hlw my name is Himanshu and what is your name'.split().count(word) for word in set('hlw my name is Himanshu and what is your name'.split())}"
   ]
  },
  {
   "cell_type": "code",
   "execution_count": 19,
   "id": "ac840ec3-7648-40af-94d5-ac1143f0e382",
   "metadata": {},
   "outputs": [
    {
     "name": "stdout",
     "output_type": "stream",
     "text": [
      "{'hlw': 1, 'my': 1, 'name': 2, 'is': 2, 'himanshu': 1, 'and': 1, 'what': 1, 'your': 1}\n"
     ]
    }
   ],
   "source": [
    "sentence = \"hlw my Name is Himanshu and what is your name\"\n",
    "\n",
    "# Convert to lowercase and split into words\n",
    "words = sentence.lower().split()\n",
    "\n",
    "# Initialize an empty dictionary\n",
    "word_count = {}\n",
    "\n",
    "# Loop through each word and count occurrences\n",
    "for word in words:\n",
    "    if word in word_count:\n",
    "        word_count[word] += 1\n",
    "    else:\n",
    "        word_count[word] = 1\n",
    "\n",
    "print(word_count)\n"
   ]
  },
  {
   "cell_type": "markdown",
   "id": "7458922e",
   "metadata": {},
   "source": [
    "### 40. Create a list of alternating signs"
   ]
  },
  {
   "cell_type": "markdown",
   "id": "20197bd1",
   "metadata": {},
   "source": [
    "**Explanation:** Creates a list where odd numbers are negative, and even numbers remain the same."
   ]
  },
  {
   "cell_type": "code",
   "execution_count": 20,
   "id": "01a2f587",
   "metadata": {},
   "outputs": [
    {
     "data": {
      "text/plain": [
       "[-1, 2, -3, 4, -5, 6, -7, 8, -9, 10]"
      ]
     },
     "execution_count": 20,
     "metadata": {},
     "output_type": "execute_result"
    }
   ],
   "source": [
    "[x if x % 2 == 0 else -x for x in range(1, 11)]"
   ]
  },
  {
   "cell_type": "code",
   "execution_count": 1,
   "id": "22345033-a430-4054-9bfc-bcd1c774e916",
   "metadata": {},
   "outputs": [
    {
     "data": {
      "text/plain": [
       "[-1, 2, -3, 4, -5, 6, -7, 8, -9, 10, -11, 12, -13, 14, -15, 16, -17, 18, -19]"
      ]
     },
     "execution_count": 1,
     "metadata": {},
     "output_type": "execute_result"
    }
   ],
   "source": [
    "[ x if x%2==0 else -x for x in range(1,20) ]"
   ]
  }
 ],
 "metadata": {
  "kernelspec": {
   "display_name": "Python 3 (ipykernel)",
   "language": "python",
   "name": "python3"
  },
  "language_info": {
   "codemirror_mode": {
    "name": "ipython",
    "version": 3
   },
   "file_extension": ".py",
   "mimetype": "text/x-python",
   "name": "python",
   "nbconvert_exporter": "python",
   "pygments_lexer": "ipython3",
   "version": "3.12.2"
  }
 },
 "nbformat": 4,
 "nbformat_minor": 5
}
