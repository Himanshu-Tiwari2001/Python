{
 "cells": [
  {
   "cell_type": "markdown",
   "id": "f5edba22",
   "metadata": {
    "id": "f5edba22"
   },
   "source": [
    "### Dictionary\n",
    "\n",
    "1) Dictionary elements are stored in key:value pair format.<br>\n",
    "2) Dictionary elements are enclosed in {} and are separated by comma<br>\n",
    "3) Dictionary is ordered.<br>\n",
    "4) All the keys in the dictionary must be unique. Values may be duplicate<br>\n",
    "5) Dictionary is mutable (It can be changed)<br>\n",
    "6) The key,value pair is called item in dictionary and each item is stored in form of tuple<br>"
   ]
  },
  {
   "cell_type": "markdown",
   "id": "ccbabe93",
   "metadata": {
    "id": "ccbabe93"
   },
   "source": [
    "#### Empty Dictionary"
   ]
  },
  {
   "cell_type": "code",
   "execution_count": null,
   "id": "6e402493",
   "metadata": {
    "id": "6e402493",
    "outputId": "739f3f38-cbcd-4da1-9738-7daf6f580adb"
   },
   "outputs": [
    {
     "name": "stdout",
     "output_type": "stream",
     "text": [
      "{} <class 'dict'>\n",
      "{} <class 'dict'>\n"
     ]
    }
   ],
   "source": [
    "d1,d2 = {},dict()\n",
    "print(d1,type(d1))\n",
    "print(d2,type(d2))"
   ]
  },
  {
   "cell_type": "markdown",
   "id": "3dced1fa",
   "metadata": {
    "id": "3dced1fa"
   },
   "source": [
    "#### Examples of Dictionary"
   ]
  },
  {
   "cell_type": "code",
   "execution_count": null,
   "id": "1128c8f3",
   "metadata": {
    "id": "1128c8f3",
    "outputId": "74cc5217-90a2-4a22-a522-3623b0845f08"
   },
   "outputs": [
    {
     "name": "stdout",
     "output_type": "stream",
     "text": [
      "{'Name': 'Harsh', 'Age': 20, 'City': 'Mumbai'}\n",
      "3\n",
      "<class 'dict'>\n"
     ]
    }
   ],
   "source": [
    "# key : Name, Age, City\n",
    "# values : Harsh, 20, Mumbai\n",
    "w1 = {'Name':'Harsh','Age':20,'City':'Mumbai'}\n",
    "print(w1)\n",
    "print(len(w1))  # each key:value pair is contributing +1 to the length\n",
    "print(type(w1))"
   ]
  },
  {
   "cell_type": "markdown",
   "id": "48886737",
   "metadata": {
    "id": "48886737"
   },
   "source": [
    "#### Fetch values for a given key(Dictionary can be indexed based on its keys)"
   ]
  },
  {
   "cell_type": "code",
   "execution_count": null,
   "id": "582d10c1",
   "metadata": {
    "id": "582d10c1",
    "outputId": "58567e5e-e574-4bcf-d6ba-69393461a2ca"
   },
   "outputs": [
    {
     "name": "stdout",
     "output_type": "stream",
     "text": [
      "12 10\n",
      "25\n",
      "Python\n"
     ]
    }
   ],
   "source": [
    "# Keys = k1,k2,k3,k4,56,59\n",
    "# values = 10,15...'SQL'\n",
    "d1 =  {'k1':10,'k2':15,'k3':12,'k4':25, 56:'Python',59:'SQL'}\n",
    "print(d1['k3'],d1['k1'])\n",
    "print(d1['k4'])\n",
    "print(d1[56])                "
   ]
  },
  {
   "cell_type": "markdown",
   "id": "0fce49bf",
   "metadata": {
    "id": "0fce49bf"
   },
   "source": [
    "#### Note\n",
    "1) How to add a new key:value pair to an existing dict<br>\n",
    "2) Change value for a given key"
   ]
  },
  {
   "cell_type": "code",
   "execution_count": null,
   "id": "3ce92fe2",
   "metadata": {
    "id": "3ce92fe2",
    "outputId": "338e31bd-da18-420c-992a-55327a52469e"
   },
   "outputs": [
    {
     "name": "stdout",
     "output_type": "stream",
     "text": [
      "{'Name': 'Harsh', 'Age': 20, 'City': 'Mumbai'}\n",
      "{'Name': 'Dhruv', 'Age': 20, 'City': 'Mumbai'}\n",
      "{'Name': 'Dhruv', 'Age': 20, 'City': 'Mumbai', 'Dept': 'IT'}\n"
     ]
    }
   ],
   "source": [
    "w = {'Name':'Harsh','Age':20,'City':'Mumbai'}\n",
    "print(w)\n",
    "# Change value for a given key\n",
    "w['Name'] = 'Dhruv'\n",
    "print(w)\n",
    "# How to add a new key:value pair to an existing dict\n",
    "w['Dept'] = 'IT'\n",
    "print(w)"
   ]
  },
  {
   "cell_type": "markdown",
   "id": "0e8a0800",
   "metadata": {
    "id": "0e8a0800"
   },
   "source": [
    "#### All the keys in the dictionary must be unique. Values may be duplicate"
   ]
  },
  {
   "cell_type": "code",
   "execution_count": null,
   "id": "184296e9",
   "metadata": {
    "id": "184296e9",
    "outputId": "a66f7903-8e5a-41ae-cd24-2fe6140199d3"
   },
   "outputs": [
    {
     "name": "stdout",
     "output_type": "stream",
     "text": [
      "{'a1': 45, 'a2': 30, 'a4': 'Python', 'a5': 30}\n"
     ]
    }
   ],
   "source": [
    "d2 = {'a1':10,'a2':30,'a1':45,'a4':'Python','a5':30}\n",
    "print(d2)  # value retained in right to left order"
   ]
  },
  {
   "cell_type": "markdown",
   "id": "f26f6883",
   "metadata": {
    "id": "f26f6883"
   },
   "source": [
    "\n",
    "### Dictionary Methods/Functions\n",
    "\n",
    "get,pop,popitem, keys,values,items, update, clear"
   ]
  },
  {
   "cell_type": "markdown",
   "id": "6d5d8a5e",
   "metadata": {
    "id": "6d5d8a5e"
   },
   "source": [
    "#### 1) get()\n",
    "Used to fetch value for a given key"
   ]
  },
  {
   "cell_type": "code",
   "execution_count": null,
   "id": "fb80829f",
   "metadata": {
    "id": "fb80829f",
    "outputId": "aafdb510-3fdd-45e8-9014-83af2763d9f2"
   },
   "outputs": [
    {
     "name": "stdout",
     "output_type": "stream",
     "text": [
      "10\n",
      "12\n",
      "25\n",
      "None\n"
     ]
    },
    {
     "ename": "KeyError",
     "evalue": "'k7'",
     "output_type": "error",
     "traceback": [
      "\u001b[1;31m---------------------------------------------------------------------------\u001b[0m",
      "\u001b[1;31mKeyError\u001b[0m                                  Traceback (most recent call last)",
      "Cell \u001b[1;32mIn[7], line 6\u001b[0m\n\u001b[0;32m      4\u001b[0m \u001b[38;5;28mprint\u001b[39m(d1\u001b[38;5;241m.\u001b[39mget(\u001b[38;5;124m'\u001b[39m\u001b[38;5;124mk4\u001b[39m\u001b[38;5;124m'\u001b[39m))\n\u001b[0;32m      5\u001b[0m \u001b[38;5;28mprint\u001b[39m(d1\u001b[38;5;241m.\u001b[39mget(\u001b[38;5;124m'\u001b[39m\u001b[38;5;124mk7\u001b[39m\u001b[38;5;124m'\u001b[39m))  \u001b[38;5;66;03m# None\u001b[39;00m\n\u001b[1;32m----> 6\u001b[0m \u001b[38;5;28mprint\u001b[39m(d1[\u001b[38;5;124m'\u001b[39m\u001b[38;5;124mk7\u001b[39m\u001b[38;5;124m'\u001b[39m])\n",
      "\u001b[1;31mKeyError\u001b[0m: 'k7'"
     ]
    }
   ],
   "source": [
    "d1 =  {'k1':10,'k2':15,1024:12,'k4':25}\n",
    "print(d1.get('k1'))\n",
    "print(d1.get(1024))\n",
    "print(d1.get('k4'))\n",
    "print(d1.get('k7'))  # None\n",
    "print(d1['k7'])     # err"
   ]
  },
  {
   "cell_type": "markdown",
   "id": "7e45be4f",
   "metadata": {
    "id": "7e45be4f"
   },
   "source": [
    "#### 2) pop(key)\n",
    "Used to remove a key:value pair from the dict where key is passed as an argument"
   ]
  },
  {
   "cell_type": "code",
   "execution_count": null,
   "id": "7ff1ec5a",
   "metadata": {
    "id": "7ff1ec5a",
    "outputId": "87980de6-2e7c-434d-89ba-c7a49b2bc454"
   },
   "outputs": [
    {
     "name": "stdout",
     "output_type": "stream",
     "text": [
      "{'k1': 10, 'k2': 15, 'k3': 12, 'k4': 25}\n",
      "{'k1': 10, 'k3': 12, 'k4': 25}\n",
      "{'k1': 10, 'k3': 12}\n"
     ]
    }
   ],
   "source": [
    "d1 =  {'k1':10,'k2':15,'k3':12,'k4':25}\n",
    "print(d1)\n",
    "d1.pop('k2')\n",
    "print(d1)\n",
    "d1.pop('k4')\n",
    "print(d1)\n",
    "# d1.pop('K8')  # err\n",
    "# d1.pop()  # err"
   ]
  },
  {
   "cell_type": "markdown",
   "id": "2bd423d8",
   "metadata": {
    "id": "2bd423d8"
   },
   "source": [
    "#### 3) popitem()\n",
    "It is used to remove a key-value pair from the dict in LIFO(Last In First Out) order(right to left order)"
   ]
  },
  {
   "cell_type": "code",
   "execution_count": null,
   "id": "9e95d6fb",
   "metadata": {
    "id": "9e95d6fb",
    "outputId": "e789ac61-eea7-421e-9d66-61d32db63805"
   },
   "outputs": [
    {
     "name": "stdout",
     "output_type": "stream",
     "text": [
      "{'k1': 10, 'k2': 15, 'k3': 12, 'k4': 25}\n",
      "{'k1': 10, 'k2': 15, 'k3': 12}\n",
      "{'k1': 10, 'k2': 15}\n"
     ]
    }
   ],
   "source": [
    "d1 =  {'k1':10,'k2':15,'k3':12,'k4':25}\n",
    "print(d1)\n",
    "d1.popitem()\n",
    "print(d1)\n",
    "d1.popitem()\n",
    "print(d1)"
   ]
  },
  {
   "cell_type": "markdown",
   "id": "8248d75b",
   "metadata": {
    "id": "8248d75b"
   },
   "source": [
    "#### 4) clear()\n",
    "Empties the dict"
   ]
  },
  {
   "cell_type": "code",
   "execution_count": null,
   "id": "bba60e9b",
   "metadata": {
    "id": "bba60e9b",
    "outputId": "4e796b00-ff25-4af2-838e-d9a2851b4ca9"
   },
   "outputs": [
    {
     "name": "stdout",
     "output_type": "stream",
     "text": [
      "{'a1': 20, 'a2': 30}\n",
      "{}\n"
     ]
    }
   ],
   "source": [
    "d1 = {'a1':20,'a2':30}\n",
    "print(d1)\n",
    "d1.clear()\n",
    "print(d1)"
   ]
  },
  {
   "cell_type": "markdown",
   "id": "39cda479",
   "metadata": {
    "id": "39cda479"
   },
   "source": [
    "#### 5) update(dict)\n",
    "Updates(performs union operation) a dictionary with other dictionary. Only one dict can be passed as an argument."
   ]
  },
  {
   "cell_type": "code",
   "execution_count": null,
   "id": "db7e2ea5",
   "metadata": {
    "id": "db7e2ea5",
    "outputId": "36079a9b-ad7c-4dc0-9ce4-4456d1760290"
   },
   "outputs": [
    {
     "name": "stdout",
     "output_type": "stream",
     "text": [
      "{'g1': 10, 'g2': 30, 'g3': 15}\n",
      "{'g4': 25, 'g5': 40, 'g2': 30, 'g1': 18}\n",
      "{'g1': 18, 'g2': 30, 'g3': 15, 'g4': 25, 'g5': 40}\n",
      "{'g4': 25, 'g5': 40, 'g2': 30, 'g1': 18}\n"
     ]
    }
   ],
   "source": [
    "w1 = {'g1':10,'g2':30,'g3':15}\n",
    "w2 = {'g4':25,'g5':40,'g2':30,'g1':18}\n",
    "print(w1)\n",
    "print(w2)\n",
    "w1.update(w2)\n",
    "print(w1)\n",
    "print(w2)"
   ]
  },
  {
   "cell_type": "code",
   "execution_count": null,
   "id": "7a9e0560",
   "metadata": {
    "id": "7a9e0560",
    "outputId": "1c9dabc0-1342-44ad-8c08-cc95d865a571"
   },
   "outputs": [
    {
     "name": "stdout",
     "output_type": "stream",
     "text": [
      "{'g1': 10, 'g2': 30, 'g3': 15}\n",
      "{'g4': 25, 'g5': 40, 'g2': 30, 'g1': 18}\n",
      "{'g1': 10, 'g2': 30, 'g3': 15}\n",
      "{'g4': 25, 'g5': 40, 'g2': 30, 'g1': 10, 'g3': 15}\n"
     ]
    }
   ],
   "source": [
    "w1 = {'g1':10,'g2':30,'g3':15}\n",
    "w2 = {'g4':25,'g5':40,'g2':30,'g1':18}\n",
    "print(w1)\n",
    "print(w2)\n",
    "w2.update(w1)\n",
    "print(w1)\n",
    "print(w2)"
   ]
  },
  {
   "cell_type": "markdown",
   "id": "a2388e09",
   "metadata": {
    "id": "a2388e09"
   },
   "source": [
    "#### 6) setdefault()\n",
    "Used to add a new key-value pair to the dictionary, with the default value of None"
   ]
  },
  {
   "cell_type": "code",
   "execution_count": null,
   "id": "af7c35fe",
   "metadata": {
    "id": "af7c35fe",
    "outputId": "dcc4a4bb-f3cf-4ced-a42b-f027878132ce"
   },
   "outputs": [
    {
     "name": "stdout",
     "output_type": "stream",
     "text": [
      "{'h1': 10, 'h2': 20, 'h3': 30}\n",
      "{'h1': 10, 'h2': 20, 'h3': 30, 'Python': None}\n"
     ]
    }
   ],
   "source": [
    "d = {'h1':10,'h2':20,'h3':30}\n",
    "print(d)\n",
    "d.setdefault('Python')  # key added is Python, value added is None\n",
    "print(d)\n"
   ]
  },
  {
   "cell_type": "code",
   "execution_count": null,
   "id": "5ff9f280-2261-4d1a-8550-19591ba2fad8",
   "metadata": {
    "id": "5ff9f280-2261-4d1a-8550-19591ba2fad8",
    "outputId": "682cffdd-3d36-4ff6-954b-05e0173a5d7d"
   },
   "outputs": [
    {
     "name": "stdout",
     "output_type": "stream",
     "text": [
      "{'h1': 10, 'h2': 20, 'h3': 30}\n",
      "{'h1': 10, 'h2': 20, 'h3': 30, 'SQL': 'Joins'}\n"
     ]
    }
   ],
   "source": [
    "d = {'h1':10,'h2':20,'h3':30}\n",
    "print(d)\n",
    "d.setdefault('SQL','Joins') # key added is SQL, value added is Joins\n",
    "print(d)"
   ]
  },
  {
   "cell_type": "markdown",
   "id": "69fb9d86",
   "metadata": {
    "id": "69fb9d86"
   },
   "source": [
    "#### 7,8,9) keys(),values(),items()\n",
    "\n",
    "keys() - Returns keys of the dict<br>\n",
    "values() - Returns values of the dict<br>\n",
    "items() - Returns items(key:value) of the dict"
   ]
  },
  {
   "cell_type": "code",
   "execution_count": null,
   "id": "23beb1e1",
   "metadata": {
    "id": "23beb1e1",
    "outputId": "30746933-a420-4c5b-acc4-93e0ff576fcc"
   },
   "outputs": [
    {
     "name": "stdout",
     "output_type": "stream",
     "text": [
      "dict_keys(['a1', 'a2', 'a3'])\n",
      "dict_values([5, 10, 7])\n",
      "dict_items([('a1', 5), ('a2', 10), ('a3', 7)])\n"
     ]
    }
   ],
   "source": [
    "d1 = {'a1':5,'a2':10,'a3':7}\n",
    "print(d1.keys())\n",
    "print(d1.values())\n",
    "print(d1.items())"
   ]
  },
  {
   "cell_type": "markdown",
   "id": "8c3e236d",
   "metadata": {
    "id": "8c3e236d"
   },
   "source": [
    "#### Iteration  in Dictionary"
   ]
  },
  {
   "cell_type": "code",
   "execution_count": null,
   "id": "139afad4",
   "metadata": {
    "id": "139afad4",
    "outputId": "8f11ee3e-3fd4-48db-e589-3ed4c95865ec"
   },
   "outputs": [
    {
     "name": "stdout",
     "output_type": "stream",
     "text": [
      "a1 10 10\n",
      "a2 15 15\n",
      "a3 45 45\n"
     ]
    }
   ],
   "source": [
    "# By default dict allows iteration only on its keys\n",
    "d1 = {'a1':10,'a2':15,'a3':45}\n",
    "for i in d1:  # i corresponds to each and every key of the dict\n",
    "    print(i,d1[i],d1.get(i))"
   ]
  },
  {
   "cell_type": "code",
   "execution_count": null,
   "id": "2e3666c5",
   "metadata": {
    "id": "2e3666c5",
    "outputId": "6a2ed422-05f9-4c9d-c7df-dc455208bf2d"
   },
   "outputs": [
    {
     "name": "stdout",
     "output_type": "stream",
     "text": [
      "a1 10 10\n",
      "a2 15 15\n",
      "a3 45 45\n"
     ]
    }
   ],
   "source": [
    "d1 = {'a1':10,'a2':15,'a3':45}\n",
    "for i in d1.keys():\n",
    "    print(i,d1[i],d1.get(i))"
   ]
  },
  {
   "cell_type": "code",
   "execution_count": 2,
   "id": "ec39ce12",
   "metadata": {
    "colab": {
     "base_uri": "https://localhost:8080/"
    },
    "executionInfo": {
     "elapsed": 49,
     "status": "ok",
     "timestamp": 1742724833437,
     "user": {
      "displayName": "Prashant Upadhyay",
      "userId": "06490182023507045091"
     },
     "user_tz": -330
    },
    "id": "ec39ce12",
    "outputId": "c5788d12-5f16-4a05-8d7c-24caeb3f3adf"
   },
   "outputs": [
    {
     "name": "stdout",
     "output_type": "stream",
     "text": [
      "10 15 45 "
     ]
    }
   ],
   "source": [
    "d1 = {'a1':10,'a2':15,'a3':45}\n",
    "for i in d1.values():  # i corresponds to each and every value of the dict\n",
    "    print(i,end=' ')"
   ]
  },
  {
   "cell_type": "code",
   "execution_count": null,
   "id": "2237a98c",
   "metadata": {
    "id": "2237a98c",
    "outputId": "f02fe1df-2cfc-4e71-e0e1-26f81d69be89"
   },
   "outputs": [
    {
     "name": "stdout",
     "output_type": "stream",
     "text": [
      "('a1', 10)\n",
      "('a2', 15)\n",
      "('a3', 45)\n"
     ]
    }
   ],
   "source": [
    "d1 = {'a1':10,'a2':15,'a3':45}\n",
    "for i in d1.items():  # i corresponds to each and every item of the dict\n",
    "    print(i)"
   ]
  },
  {
   "cell_type": "code",
   "execution_count": null,
   "id": "e92c8a9e",
   "metadata": {
    "id": "e92c8a9e",
    "outputId": "6ade0db5-b43f-473f-894f-8bfa357cc88f"
   },
   "outputs": [
    {
     "name": "stdout",
     "output_type": "stream",
     "text": [
      "10 a1\n",
      "15 a2\n",
      "45 a3\n"
     ]
    }
   ],
   "source": [
    "for k,v in d1.items():  # k=key, v=value\n",
    "    print(v,k)"
   ]
  },
  {
   "cell_type": "code",
   "execution_count": 11,
   "id": "c4525796",
   "metadata": {
    "id": "c4525796",
    "outputId": "8ea07400-2288-4791-c586-7e172988f723"
   },
   "outputs": [
    {
     "name": "stdout",
     "output_type": "stream",
     "text": [
      "['a1', 'a2', 'a3', 'a4', 'a5']\n",
      "[20, 45, 40, 7, 32]\n"
     ]
    }
   ],
   "source": [
    "#### Find the difference between max value and min value in dict.\n",
    "# Also find corresponding keys for max value and min value\n",
    "d = {'a1':20,'a2':45,'a3':40,'a4':7,'a5':32}\n",
    "k = list(d.keys())\n",
    "v = list(d.values())\n",
    "print(k)\n",
    "print(v)"
   ]
  },
  {
   "cell_type": "code",
   "execution_count": 12,
   "id": "51ba0fa8-907e-4480-b45f-1542671aae89",
   "metadata": {
    "id": "51ba0fa8-907e-4480-b45f-1542671aae89",
    "outputId": "f3895eb0-3f3d-4245-891e-db6d7047a36e"
   },
   "outputs": [
    {
     "name": "stdout",
     "output_type": "stream",
     "text": [
      "38\n"
     ]
    }
   ],
   "source": [
    "diff = max(v) - min(v)\n",
    "print(diff)"
   ]
  },
  {
   "cell_type": "code",
   "execution_count": 18,
   "id": "676b7d83-7861-4f18-91de-97a864f85c4a",
   "metadata": {},
   "outputs": [
    {
     "data": {
      "text/plain": [
       "'a2'"
      ]
     },
     "execution_count": 18,
     "metadata": {},
     "output_type": "execute_result"
    }
   ],
   "source": [
    "max(v)\n",
    "v.index(45)\n",
    "k[v.index(max(v))]"
   ]
  },
  {
   "cell_type": "code",
   "execution_count": null,
   "id": "08a6806d-29b4-4ef8-a8b5-1f1747c737a0",
   "metadata": {
    "id": "08a6806d-29b4-4ef8-a8b5-1f1747c737a0",
    "outputId": "3fef3b6d-b638-4f4b-9926-9fb0d863fad7"
   },
   "outputs": [
    {
     "name": "stdout",
     "output_type": "stream",
     "text": [
      "1 3\n",
      "45 7\n",
      "MaxValue_Key a2 MinValue_Key a4\n"
     ]
    }
   ],
   "source": [
    "max_val_idx,min_val_idx = v.index(max(v)), v.index(min(v))\n",
    "max_val_val,min_val_val = max(v), min(v)\n",
    "print(max_val_idx,min_val_idx)\n",
    "print(max_val_val,min_val_val)\n",
    "print('MaxValue_Key',k[max_val_idx],'MinValue_Key',k[min_val_idx])"
   ]
  },
  {
   "cell_type": "markdown",
   "id": "463eecde",
   "metadata": {
    "id": "463eecde"
   },
   "source": [
    "#### Dict keys cant be mutable data types (list,set, dict cant be used as keys)"
   ]
  },
  {
   "cell_type": "code",
   "execution_count": null,
   "id": "cc2605cf",
   "metadata": {
    "id": "cc2605cf",
    "outputId": "e8ac43fb-2cb7-4359-ce65-7f55736b2ed4"
   },
   "outputs": [
    {
     "name": "stdout",
     "output_type": "stream",
     "text": [
      "{'A1': 10, 11: 12, 4.5: 'Hello', True: 'Python', None: 'SQL', (5, 7): 'Strings'}\n"
     ]
    }
   ],
   "source": [
    "d1 = {'A1':10,11:12,4.5:'Hello',True:'Python',None:'SQL',(5,7):'Strings'}\n",
    "print(d1)"
   ]
  },
  {
   "cell_type": "code",
   "execution_count": null,
   "id": "db9246a6",
   "metadata": {
    "id": "db9246a6",
    "outputId": "d7359951-3134-4d12-e3bd-069d575e0d2d"
   },
   "outputs": [
    {
     "data": {
      "text/plain": [
       "'Strings'"
      ]
     },
     "execution_count": 22,
     "metadata": {},
     "output_type": "execute_result"
    }
   ],
   "source": [
    "dictn = {'name':[\"vikas\",\"amit\",\"sumit\"]}\n",
    "d1[(5,7)]"
   ]
  },
  {
   "cell_type": "code",
   "execution_count": null,
   "id": "546e6e75",
   "metadata": {
    "id": "546e6e75",
    "outputId": "ede28237-ded1-4e3b-c60b-af1f1c3fe432"
   },
   "outputs": [
    {
     "data": {
      "text/plain": [
       "dict"
      ]
     },
     "execution_count": 17,
     "metadata": {},
     "output_type": "execute_result"
    }
   ],
   "source": [
    "type(dictn)"
   ]
  },
  {
   "cell_type": "markdown",
   "id": "d7131112",
   "metadata": {
    "id": "d7131112"
   },
   "source": [
    "### Set\n",
    "1) It is unordered collection of elements of same or different data types<br>\n",
    "2) Set elements are represented in {} and are separated by comma<br>\n",
    "3) Set does not support indexing or slicing (as it is unordered)<br>\n",
    "4) Set does not allow duplicate elements<br>\n",
    "5) Set is mutable(it can be changed)"
   ]
  },
  {
   "cell_type": "markdown",
   "id": "d65cc807",
   "metadata": {
    "id": "d65cc807"
   },
   "source": [
    "#### Empty Set"
   ]
  },
  {
   "cell_type": "code",
   "execution_count": null,
   "id": "7d9142a6",
   "metadata": {
    "id": "7d9142a6",
    "outputId": "447ee3c0-3750-486c-a359-04677df63f3d"
   },
   "outputs": [
    {
     "name": "stdout",
     "output_type": "stream",
     "text": [
      "set()\n",
      "<class 'set'>\n"
     ]
    }
   ],
   "source": [
    "s1 = set()\n",
    "print(s1)\n",
    "print(type(s1))"
   ]
  },
  {
   "cell_type": "code",
   "execution_count": null,
   "id": "786e0246",
   "metadata": {
    "id": "786e0246",
    "outputId": "decf5d41-38c0-4963-9fa4-4b4deccb1456"
   },
   "outputs": [
    {
     "name": "stdout",
     "output_type": "stream",
     "text": [
      "<class 'dict'>\n"
     ]
    }
   ],
   "source": [
    "s2 = {}\n",
    "print(type(s2))"
   ]
  },
  {
   "cell_type": "markdown",
   "id": "28453568",
   "metadata": {
    "id": "28453568"
   },
   "source": [
    "#### Sets cant have duplicate elements"
   ]
  },
  {
   "cell_type": "code",
   "execution_count": null,
   "id": "01f831f9",
   "metadata": {
    "id": "01f831f9",
    "outputId": "0858a67c-af9d-45aa-8315-ac561414c9ea"
   },
   "outputs": [
    {
     "name": "stdout",
     "output_type": "stream",
     "text": [
      "{35, 7, 8, 10, 12, 15, 16, 20}\n",
      "<class 'set'>\n"
     ]
    }
   ],
   "source": [
    "s1 = {10,12,16,15,7,8,10,16,15,20,35}\n",
    "print(s1)\n",
    "print(type(s1))"
   ]
  },
  {
   "cell_type": "code",
   "execution_count": null,
   "id": "f3fdeea1",
   "metadata": {
    "id": "f3fdeea1",
    "outputId": "06d9a5bd-1d89-4253-e146-09948fd156b7"
   },
   "outputs": [
    {
     "name": "stdout",
     "output_type": "stream",
     "text": [
      "[35, 7, 8, 10, 12, 16, 20]\n",
      "[35, 20, 16, 12, 10, 8, 7]\n"
     ]
    }
   ],
   "source": [
    "# Remove duplicates from the list\n",
    "w = [10,12,16,7,8,10,16,20,35]\n",
    "w1 = list(set(w))\n",
    "print(w1)\n",
    "w1.sort(reverse=True)  # desc order\n",
    "print(w1)"
   ]
  },
  {
   "cell_type": "markdown",
   "id": "e4cd1fa9",
   "metadata": {
    "id": "e4cd1fa9"
   },
   "source": [
    "### Set Functions\n",
    "\n",
    "union, intersection, difference, update, symmetric_difference"
   ]
  },
  {
   "cell_type": "code",
   "execution_count": null,
   "id": "27f83b25",
   "metadata": {
    "id": "27f83b25",
    "outputId": "a5739905-5e6f-4fbb-a2e7-03da93391ce0"
   },
   "outputs": [
    {
     "name": "stdout",
     "output_type": "stream",
     "text": [
      "{1, 2, 4, 5, 6, 7, 8, 9, 10, 15}\n"
     ]
    }
   ],
   "source": [
    "s1 = {1,4,7,15,10}\n",
    "s2 = {2,4,5,6,7,8,9,10}\n",
    "print(s1.union(s2))          # combines all elements of s1 and s2"
   ]
  },
  {
   "cell_type": "code",
   "execution_count": null,
   "id": "6b453af1-ab5e-4b31-bdef-548464dc0398",
   "metadata": {
    "id": "6b453af1-ab5e-4b31-bdef-548464dc0398",
    "outputId": "a1fdfa68-7395-43cd-9c8e-919f57a59167"
   },
   "outputs": [
    {
     "name": "stdout",
     "output_type": "stream",
     "text": [
      "{10, 4, 7}\n"
     ]
    }
   ],
   "source": [
    "s1 = {1,4,7,15,10}\n",
    "s2 = {2,4,5,6,7,8,9,10}\n",
    "print(s1.intersection(s2))   # returns common elements from s1 and s2"
   ]
  },
  {
   "cell_type": "code",
   "execution_count": null,
   "id": "a44d50cf-28c2-4d3e-9dff-4b7d5b30cf63",
   "metadata": {
    "id": "a44d50cf-28c2-4d3e-9dff-4b7d5b30cf63",
    "outputId": "f78e1c35-43ad-43af-d966-726878d11e8a"
   },
   "outputs": [
    {
     "name": "stdout",
     "output_type": "stream",
     "text": [
      "{1, 15}\n",
      "{2, 5, 6, 8, 9}\n"
     ]
    }
   ],
   "source": [
    "s1 = {1,4,7,15,10}\n",
    "s2 = {2,4,5,6,7,8,9,10}\n",
    "print(s1.difference(s2))     # returns elements from s1 which are not in s2\n",
    "print(s2.difference(s1))     # returns elements from s2 which are not in s1"
   ]
  },
  {
   "cell_type": "code",
   "execution_count": null,
   "id": "bf565379-ad9a-40c0-aed9-192f8c2f40c4",
   "metadata": {
    "id": "bf565379-ad9a-40c0-aed9-192f8c2f40c4",
    "outputId": "523bd457-2cb3-400a-9401-e10d3d5dc349"
   },
   "outputs": [
    {
     "name": "stdout",
     "output_type": "stream",
     "text": [
      "s1 {1, 4, 7, 10, 15}\n",
      "s2 {2, 4, 5, 6, 7, 8, 9, 10}\n",
      "{1, 2, 5, 6, 8, 9, 15}\n"
     ]
    }
   ],
   "source": [
    "s1 = {1,4,7,15,10}\n",
    "s2 = {2,4,5,6,7,8,9,10}\n",
    "print('s1',s1)\n",
    "print('s2',s2)\n",
    "print(s1.symmetric_difference(s2))\n",
    "# It Removes Common values from set\n",
    "# difference between union and intersection"
   ]
  },
  {
   "cell_type": "code",
   "execution_count": null,
   "id": "17168747",
   "metadata": {
    "id": "17168747",
    "outputId": "1b3b9724-d31b-4ef8-d171-25ceeaa4b4fe"
   },
   "outputs": [
    {
     "name": "stdout",
     "output_type": "stream",
     "text": [
      "s1 {1, 4, 7, 10, 15}\n",
      "s2 {2, 4, 5, 6, 7, 8, 9, 10}\n",
      "s1 {1, 2, 4, 5, 6, 7, 8, 9, 10, 15}\n"
     ]
    }
   ],
   "source": [
    "s1 = {1,4,7,15,10}\n",
    "s2 = {2,4,5,6,7,8,9,10}\n",
    "print('s1',s1)\n",
    "print('s2',s2)\n",
    "s1.update(s2)       # updates s1 with union of s1 and s2\n",
    "print('s1',s1)      # set is mutable"
   ]
  },
  {
   "cell_type": "markdown",
   "id": "c34fa0a4",
   "metadata": {
    "id": "c34fa0a4"
   },
   "source": [
    "#### clear, remove, add"
   ]
  },
  {
   "cell_type": "code",
   "execution_count": null,
   "id": "47ac9012",
   "metadata": {
    "id": "47ac9012",
    "outputId": "c68a5d2b-325e-4051-cd4f-342f3a30fbb2"
   },
   "outputs": [
    {
     "name": "stdout",
     "output_type": "stream",
     "text": [
      "{32, 20, 25, 10, 13, 30}\n",
      "{32, 'Python', 20, 25, 10, 13, 30}\n"
     ]
    }
   ],
   "source": [
    "q1 = {10,13,20,30,25,32}\n",
    "print(q1)\n",
    "q1.add('Python')\n",
    "print(q1)"
   ]
  },
  {
   "cell_type": "code",
   "execution_count": null,
   "id": "6e5c1381-bccf-4060-be54-3119bc668fd3",
   "metadata": {
    "id": "6e5c1381-bccf-4060-be54-3119bc668fd3",
    "outputId": "1df551b6-48c8-49c1-fd2f-32beaf9a579d"
   },
   "outputs": [
    {
     "name": "stdout",
     "output_type": "stream",
     "text": [
      "{32, 20, 7.6, 25, 10, 13, 30}\n"
     ]
    }
   ],
   "source": [
    "q1 = {10,13,20,30,25,32}\n",
    "q1.add(7.6)  # elements can be added anywhere as set is unordered\n",
    "print(q1)\n"
   ]
  },
  {
   "cell_type": "code",
   "execution_count": null,
   "id": "313be678-1d04-4556-9fe3-faa325b0d2a8",
   "metadata": {
    "id": "313be678-1d04-4556-9fe3-faa325b0d2a8"
   },
   "outputs": [],
   "source": [
    "q1 = {10,13,20,30,25,32}\n",
    "q1.remove(30)  # removes the element\n",
    "print(q1)\n",
    "q1.clear()   # empties the set\n",
    "print(q1)"
   ]
  },
  {
   "cell_type": "markdown",
   "id": "cd1ea654",
   "metadata": {
    "id": "cd1ea654"
   },
   "source": [
    "#### Nested Data Types(Dict,List,tuple)"
   ]
  },
  {
   "cell_type": "code",
   "execution_count": null,
   "id": "53674120",
   "metadata": {
    "id": "53674120",
    "outputId": "9ab23c01-50cf-4e07-8277-23b0aa49ff24"
   },
   "outputs": [
    {
     "name": "stdout",
     "output_type": "stream",
     "text": [
      "<class 'list'>\n",
      "[[10, 13, (25, 38, 74, 80), 16, 19], ('Str', 'Python', 'Slicing', 'Indexing', 'List'), {'a1': 4, 'a2': 14, 'a3': [51, 52, 53, 54, 60, 65, 70], 'a4': {'Name': ['Amit', 'Karan', 'Piyush'], 'City': ['Delhi', 'Pune', 'Noida'], 'Course': {'C1': ('Python', 'DS', 'Tableau', 'Excel'), 'C2': ('ML', 'DL', 'R', 'SQL')}}}]\n"
     ]
    }
   ],
   "source": [
    "w = [[10,13,(25,38,74,80),16,19],('Str','Python','Slicing','Indexing','List'),\n",
    "    {'a1':4,'a2':14,'a3':[51,52,53,54,60,65,70],\n",
    "     'a4':{'Name':['Amit','Karan','Piyush'],'City':['Delhi','Pune','Noida'],\n",
    "          'Course':{'C1':('Python','DS','Tableau','Excel'),\n",
    "                   'C2':('ML','DL','R','SQL')}}}]\n",
    "print(type(w))\n",
    "print(w)"
   ]
  },
  {
   "cell_type": "code",
   "execution_count": null,
   "id": "94931bef",
   "metadata": {
    "id": "94931bef",
    "outputId": "eca88157-f156-43fb-8e5c-ffd24d8efb6d"
   },
   "outputs": [
    {
     "name": "stdout",
     "output_type": "stream",
     "text": [
      "['Piyush']\n"
     ]
    }
   ],
   "source": [
    "print(w[2]['a4']['Name'][2:3])\n"
   ]
  },
  {
   "cell_type": "code",
   "execution_count": null,
   "id": "323fbe3b-5f4d-42b6-8ed3-4ac5101af7a3",
   "metadata": {
    "id": "323fbe3b-5f4d-42b6-8ed3-4ac5101af7a3",
    "outputId": "5c7c9966-f5b3-484c-99dd-fd2933409feb"
   },
   "outputs": [
    {
     "data": {
      "text/plain": [
       "['nitin', 'mahesh', 'rahul']"
      ]
     },
     "execution_count": 82,
     "metadata": {},
     "output_type": "execute_result"
    }
   ],
   "source": [
    "lts = [\"vikas\",\"amit\",\"nitin\",\"karan\",\"mahesh\",\"rajesh\",\"rahul\",\"Mohan\"]\n",
    "lts[2::2]"
   ]
  },
  {
   "cell_type": "code",
   "execution_count": null,
   "id": "e37e335f-6470-4bd1-b064-b195cac91d37",
   "metadata": {
    "id": "e37e335f-6470-4bd1-b064-b195cac91d37",
    "outputId": "88b12baa-468d-4f4b-f634-137c7934dc7f"
   },
   "outputs": [
    {
     "name": "stdout",
     "output_type": "stream",
     "text": [
      "['Pune', 'Noida']\n",
      "('Python', 'Excel')\n",
      "('R', 'DL', 'ML')\n"
     ]
    }
   ],
   "source": [
    "print(w[2]['a4']['City'][1:])\n",
    "print(w[2]['a4']['Course']['C1'][::3])\n",
    "print(w[2]['a4']['Course']['C2'][2::-1])"
   ]
  },
  {
   "cell_type": "code",
   "execution_count": null,
   "id": "ecf6dc40",
   "metadata": {
    "id": "ecf6dc40",
    "outputId": "fd921bc1-fd43-41f1-d052-374f5a8dea40"
   },
   "outputs": [
    {
     "name": "stdout",
     "output_type": "stream",
     "text": [
      "13\n",
      "(25, 74)\n",
      "('Slicing', 'Indexing')\n",
      "14\n",
      "14\n",
      "[52, 54, 65]\n"
     ]
    }
   ],
   "source": [
    "print(w[0][1])\n",
    "print(w[0][2][::2])\n",
    "print(w[1][2:4])\n",
    "print(w[2]['a2'])\n",
    "print(w[2].get('a2'))\n",
    "print(w[2]['a3'][1::2])\n"
   ]
  },
  {
   "cell_type": "markdown",
   "id": "8634e34c",
   "metadata": {
    "id": "8634e34c"
   },
   "source": [
    "#### Exercise\n",
    "\n",
    "Q1) Accept a num as user input. Find all its factors.<br>\n",
    "Q2) Accept a num as user input. Check is num is prime.<br>\n",
    "Q3) Accpet a string as user input<br>\n",
    "a) Print string from left to right using positive index<br>\n",
    "b) Print string from left to right using negative index<br>\n",
    "c) Print string from right to left using positive index<br>\n",
    "d) Print string from right to left using negative index<br>\n",
    "\n",
    "Q4) Print words that start and end with same character. Find words that are palindromes<br>\n",
    "words = ['radar','finite','school','radar','fortunate','racecar']\n",
    "\n",
    "Q5) Print words that start and end with same character<br>\n",
    "words = ['India','Australia','Europe','Argentina','Chile','Japan']\n",
    "\n",
    "Q6) Accept a number. Find sum and product digits of a number<br>\n",
    "\n",
    "Q7) Find factorial of a number<br>\n"
   ]
  },
  {
   "cell_type": "code",
   "execution_count": null,
   "id": "712cd904",
   "metadata": {
    "id": "712cd904",
    "outputId": "4aae1ff3-5e91-4dfc-df24-531b1523d5f7"
   },
   "outputs": [
    {
     "name": "stdout",
     "output_type": "stream",
     "text": [
      "10 20 15 25 35 40 "
     ]
    }
   ],
   "source": [
    "# Iterate - str, list, tuple, set, dict\n",
    "\n",
    "w = [10,20,15,25,35,40]\n",
    "# element wise iteration\n",
    "for i in w:  # i is element of list\n",
    "    print(i,end=' ')"
   ]
  },
  {
   "cell_type": "code",
   "execution_count": null,
   "id": "e9783d89",
   "metadata": {
    "id": "e9783d89",
    "outputId": "9100e345-6b10-4a2d-b310-e98bfa0e2f15"
   },
   "outputs": [
    {
     "name": "stdout",
     "output_type": "stream",
     "text": [
      "0 10\n",
      "1 20\n",
      "2 15\n",
      "3 25\n",
      "4 35\n",
      "5 40\n"
     ]
    }
   ],
   "source": [
    "# Index wise iteration\n",
    "for i in range(len(w)):  # i is the index\n",
    "    print(i,w[i])"
   ]
  },
  {
   "cell_type": "code",
   "execution_count": null,
   "id": "c4015a77",
   "metadata": {
    "id": "c4015a77",
    "outputId": "6c8f5f46-ff3d-47c2-e053-f43fd78acb5c"
   },
   "outputs": [
    {
     "name": "stdout",
     "output_type": "stream",
     "text": [
      "a1 10\n",
      "a2 20\n",
      "a3 15\n"
     ]
    }
   ],
   "source": [
    "w1 = {'a1':10,'a2':20,'a3':15}\n",
    "# w1, w1.keys(), w1.value(), w1.items()\n",
    "for i in w1:\n",
    "    print(i,w1[i])  # i = keys, w1[i] = values"
   ]
  },
  {
   "cell_type": "code",
   "execution_count": null,
   "id": "e30b4d12",
   "metadata": {
    "id": "e30b4d12"
   },
   "outputs": [],
   "source": []
  },
  {
   "cell_type": "code",
   "execution_count": null,
   "id": "4aa03ab5",
   "metadata": {
    "id": "4aa03ab5"
   },
   "outputs": [],
   "source": []
  },
  {
   "cell_type": "markdown",
   "id": "21c56a2f",
   "metadata": {
    "id": "21c56a2f"
   },
   "source": [
    "### Comprehensions\n",
    "1) It is short-hand syntax to create a list,set or dict\n",
    "\n",
    "\n",
    "List Comprehension\n",
    "\n",
    "Syntax\n",
    "ex1 = [i for i in range(start,end,step)]\n",
    "\n",
    "ex2 = [i for i in range(start,end,step) if condition]\n",
    "\n",
    "ex3 = [i if con1 else something_else for i in range(start,end,step)]\n",
    "\n",
    "Indentataion, colon and  assignment operators are not used inside comprehensions"
   ]
  },
  {
   "cell_type": "code",
   "execution_count": null,
   "id": "3ce045f8",
   "metadata": {
    "id": "3ce045f8",
    "outputId": "7f501d2c-6f7d-4769-8e36-fceeeaff2cd8"
   },
   "outputs": [
    {
     "name": "stdout",
     "output_type": "stream",
     "text": [
      "[10, 11, 12, 13, 14, 15, 16, 17, 18, 19]\n"
     ]
    }
   ],
   "source": [
    "r1 = []\n",
    "for i in range(10,20):  # start=10,end=20,step=+1\n",
    "    r1.append(i)\n",
    "print(r1)"
   ]
  },
  {
   "cell_type": "code",
   "execution_count": null,
   "id": "66ce8df8",
   "metadata": {
    "id": "66ce8df8",
    "outputId": "cb1733c8-43ba-481e-d20b-32d1d4ab6e17"
   },
   "outputs": [
    {
     "name": "stdout",
     "output_type": "stream",
     "text": [
      "[10, 11, 12, 13, 14, 15, 16, 17, 18, 19]\n"
     ]
    }
   ],
   "source": [
    "r2 = [i for i in range(10,20)]   # list comprehension\n",
    "print(r2)"
   ]
  },
  {
   "cell_type": "markdown",
   "id": "335266d3",
   "metadata": {
    "id": "335266d3"
   },
   "source": [
    "#### Using if in list comprehension"
   ]
  },
  {
   "cell_type": "code",
   "execution_count": null,
   "id": "93736791",
   "metadata": {
    "id": "93736791",
    "outputId": "aadc89ea-0def-49ca-9d2d-58e7a5ccd155"
   },
   "outputs": [
    {
     "name": "stdout",
     "output_type": "stream",
     "text": [
      "[12, 15, 18]\n"
     ]
    }
   ],
   "source": [
    "r3 = []\n",
    "for i in range(10,20):  # start=10,end=20,step=+1\n",
    "    if i%3==0:\n",
    "        r3.append(i)\n",
    "print(r3)"
   ]
  },
  {
   "cell_type": "code",
   "execution_count": null,
   "id": "5466fc21",
   "metadata": {
    "id": "5466fc21",
    "outputId": "b090121f-1fc3-4215-d361-1571d7619f62"
   },
   "outputs": [
    {
     "name": "stdout",
     "output_type": "stream",
     "text": [
      "[12, 15, 18]\n"
     ]
    }
   ],
   "source": [
    "r4 = [i for i in range(10,20) if i%3==0]\n",
    "print(r4)"
   ]
  },
  {
   "cell_type": "markdown",
   "id": "fc521337",
   "metadata": {
    "id": "fc521337"
   },
   "source": [
    "#### if-else in list comprehension"
   ]
  },
  {
   "cell_type": "code",
   "execution_count": null,
   "id": "5d56b893",
   "metadata": {
    "id": "5d56b893",
    "outputId": "6970ce81-5590-4b06-e8fa-0acc059df09b"
   },
   "outputs": [
    {
     "name": "stdout",
     "output_type": "stream",
     "text": [
      "[0, 0, 12, 0, 0, 15, 0, 0, 18, 0]\n"
     ]
    }
   ],
   "source": [
    "r5 = []\n",
    "for i in range(10,20):  # start=10,end=20,step=+1\n",
    "    if i%3==0:\n",
    "        r5.append(i)\n",
    "    else:\n",
    "        r5.append(0)\n",
    "print(r5)"
   ]
  },
  {
   "cell_type": "code",
   "execution_count": null,
   "id": "402af45b",
   "metadata": {
    "id": "402af45b",
    "outputId": "4f51c06c-d9e1-4620-c886-859c6e509262"
   },
   "outputs": [
    {
     "name": "stdout",
     "output_type": "stream",
     "text": [
      "[0, 0, 12, 0, 0, 15, 0, 0, 18, 0]\n"
     ]
    }
   ],
   "source": [
    "r6 = [i if i%3==0 else 0 for i in range(10,20)]\n",
    "print(r6)"
   ]
  },
  {
   "cell_type": "code",
   "execution_count": null,
   "id": "3ce6840d",
   "metadata": {
    "id": "3ce6840d",
    "outputId": "f98b6a5a-26cc-41a6-ae4e-fa08114fb6df"
   },
   "outputs": [
    {
     "name": "stdout",
     "output_type": "stream",
     "text": [
      "[50, 0, 3, 0, 0, 3, 0, 0, 3, 0, 50]\n"
     ]
    }
   ],
   "source": [
    "r7 = []\n",
    "for i in range(10,21):  # start=10,end=20,step=+1\n",
    "    if i%3==0:\n",
    "        r7.append(3)\n",
    "    elif i%5==0:\n",
    "        r7.append(50)\n",
    "    else:\n",
    "        r7.append(0)\n",
    "print(r7)"
   ]
  },
  {
   "cell_type": "code",
   "execution_count": null,
   "id": "1a17caac",
   "metadata": {
    "id": "1a17caac",
    "outputId": "728d98cb-0977-4959-8e42-f85e7e5779f9"
   },
   "outputs": [
    {
     "name": "stdout",
     "output_type": "stream",
     "text": [
      "[50, 0, 3, 0, 0, 3, 0, 0, 3, 0, 50]\n"
     ]
    }
   ],
   "source": [
    "r8 = [3 if i%3==0 else (50 if i%5==0 else 0) for i in range(10,21)]\n",
    "print(r8)"
   ]
  },
  {
   "cell_type": "code",
   "execution_count": null,
   "id": "85ed5c49",
   "metadata": {
    "id": "85ed5c49",
    "outputId": "73ca51cb-813c-4a3e-a28a-1d2ca5d74030"
   },
   "outputs": [
    {
     "name": "stdout",
     "output_type": "stream",
     "text": [
      "[1, 4, 9, 16]\n",
      "{16, 1, 4, 9}\n"
     ]
    }
   ],
   "source": [
    "s1 = [i**2 for i in range(1,5)]  # list comp\n",
    "print(s1)\n",
    "s2 = {i**2 for i in range(1,5)}  # set comp\n",
    "print(s2)"
   ]
  },
  {
   "cell_type": "markdown",
   "id": "8aa5aaa6",
   "metadata": {
    "id": "8aa5aaa6"
   },
   "source": [
    "#### Dict Comprehension"
   ]
  },
  {
   "cell_type": "code",
   "execution_count": null,
   "id": "e2ccfc30",
   "metadata": {
    "id": "e2ccfc30",
    "outputId": "0cd8d48a-72cb-48c5-9212-25df20b5677f"
   },
   "outputs": [
    {
     "name": "stdout",
     "output_type": "stream",
     "text": [
      "{1: 1, 2: 4, 3: 9, 4: 16, 5: 25}\n"
     ]
    }
   ],
   "source": [
    "d1 = {}  # emp dict\n",
    "for i in range(1,6):  # i =1,2,3,4,5\n",
    "    d1[i] = i**2\n",
    "print(d1)"
   ]
  },
  {
   "cell_type": "code",
   "execution_count": null,
   "id": "599fe57f",
   "metadata": {
    "id": "599fe57f",
    "outputId": "7683328f-0650-45e1-cb54-a2df6ea961fd"
   },
   "outputs": [
    {
     "name": "stdout",
     "output_type": "stream",
     "text": [
      "{1: 1, 2: 4, 3: 9, 4: 16, 5: 25}\n"
     ]
    }
   ],
   "source": [
    "d2 = {i : i**2 for i in range(1,6)}\n",
    "print(d2)"
   ]
  },
  {
   "cell_type": "code",
   "execution_count": null,
   "id": "15d540f0",
   "metadata": {
    "id": "15d540f0",
    "outputId": "52762898-8a92-4e7a-b50d-0ba5a4edf941"
   },
   "outputs": [
    {
     "name": "stdout",
     "output_type": "stream",
     "text": [
      "{3: 9, 6: 36}\n"
     ]
    }
   ],
   "source": [
    "d3 = {i : i**2 for i in range(1,7) if i%3==0}\n",
    "print(d3)"
   ]
  },
  {
   "cell_type": "code",
   "execution_count": null,
   "id": "079b293c",
   "metadata": {
    "id": "079b293c",
    "outputId": "97494186-8180-4106-a442-20770cce5e71"
   },
   "outputs": [
    {
     "name": "stdout",
     "output_type": "stream",
     "text": [
      "['radar', 'madam', 'racecar']\n",
      "['radar', 'madam', 'racecar']\n"
     ]
    }
   ],
   "source": [
    "# Q4) Palindromes\n",
    "words = ['radar','finite','school','madam','fortunate','racecar']\n",
    "\n",
    "p = [i for i in words if i==i[::-1]]\n",
    "print(p)\n",
    "\n",
    "p1 = []\n",
    "for i in words:\n",
    "    if i==i[::-1]:\n",
    "        p1.append(i)\n",
    "print(p1)"
   ]
  },
  {
   "cell_type": "code",
   "execution_count": 22,
   "id": "6ed7dddf-f016-4459-b09d-f3b50ee77ee3",
   "metadata": {},
   "outputs": [
    {
     "name": "stdout",
     "output_type": "stream",
     "text": [
      "the palindrome words are  ['radar', 'madam', 'racecar']\n",
      "['radar', 'madam', 'racecar']\n"
     ]
    }
   ],
   "source": [
    "words = ['radar','finite','school','madam','fortunate','racecar']\n",
    "palindrome=[]\n",
    "for i in words:\n",
    "    if i==i[::-1]:\n",
    "        palindrome.append(i)\n",
    "print(\"the palindrome words are \",palindrome)\n",
    "\n",
    "palindrome=[i for i in words if i==i[::-1]]\n",
    "print(palindrome)"
   ]
  },
  {
   "cell_type": "code",
   "execution_count": null,
   "id": "571be8ff",
   "metadata": {
    "id": "571be8ff",
    "outputId": "8f3d063a-19b2-4ce0-f317-a0a0de09604b"
   },
   "outputs": [
    {
     "name": "stdout",
     "output_type": "stream",
     "text": [
      "['Australia', 'Europe', 'Argentina']\n",
      "['Australia', 'Europe', 'Argentina']\n",
      "['Australia', 'Europe', 'Argentina']\n"
     ]
    }
   ],
   "source": [
    "# Q5) Find words that start and end with same char\n",
    "words = ['India','Australia','Europe','Argentina','Chile','Japan']\n",
    "\n",
    "w1 = [i for i in words if i[0].lower()==i[-1].lower()]\n",
    "print(w1)\n",
    "\n",
    "w2 = [words[i] for i in range(len(words)) if words[i][0].lower() == words[i][-1].lower()]\n",
    "\n",
    "# for i in range(len(words)) # index wise iteration\n",
    "# for i in words element wise iteration\n",
    "print(w1)\n",
    "print(w2)"
   ]
  },
  {
   "cell_type": "code",
   "execution_count": null,
   "id": "b297a485",
   "metadata": {
    "id": "b297a485"
   },
   "outputs": [],
   "source": [
    "# Q6) Accept a number. Find sum and product digits of a number"
   ]
  },
  {
   "cell_type": "code",
   "execution_count": null,
   "id": "dac9e3fe",
   "metadata": {
    "id": "dac9e3fe",
    "outputId": "fb6b796e-7d0d-4ee8-c36a-c5754cb7d10f"
   },
   "outputs": [
    {
     "name": "stdout",
     "output_type": "stream",
     "text": [
      "1257\n",
      "Sum 15 Prod 70\n"
     ]
    }
   ],
   "source": [
    "n = int(input())  # 1257\n",
    "s = 0\n",
    "p = 1\n",
    "for i in range(len(str(n))):  # str(1257) = len('1257') = 4 => i = 0,1,2,3\n",
    "    s += int(str(n)[i])\n",
    "    p *= int(str(n)[i])\n",
    "print('Sum',s,'Prod',p)"
   ]
  },
  {
   "cell_type": "code",
   "execution_count": null,
   "id": "ba86b43f",
   "metadata": {
    "id": "ba86b43f",
    "outputId": "b345c80a-cb5e-4334-bb91-9069763312cc"
   },
   "outputs": [
    {
     "name": "stdout",
     "output_type": "stream",
     "text": [
      "8543\n",
      "Sum 20 Prod 480\n"
     ]
    }
   ],
   "source": [
    "n = int(input())  # 1257\n",
    "s,p = 0, 1\n",
    "temp  = n\n",
    "while temp > 0:\n",
    "    rem = temp%10  # rem = remainder\n",
    "    s += rem\n",
    "    p *= rem\n",
    "    temp //= 10\n",
    "print('Sum',s,'Prod',p)\n",
    "# temp = n = 1257\n",
    "# S1 => temp>0 => T, rem=1257%10=7, s=0+7=7, p=1*7=7, temp=1257//10=125\n",
    "# S2 => temp>0=> T, rem = 125%10=5,  s=7+5=12, p=7*5=35, temp=125//10= 12\n",
    "# S3 => temp>0=> T, rem = 12%10=2,  s=12+2=14, p=35*2=70, temp=12//10= 1\n",
    "# S4 => temp>0=> T, rem = 1%10=1,  s=14+1=15, p=70*1=70, temp=1//10= 0"
   ]
  },
  {
   "cell_type": "code",
   "execution_count": null,
   "id": "fd6348ff",
   "metadata": {
    "id": "fd6348ff"
   },
   "outputs": [],
   "source": [
    "# Q6) Factorial\n",
    "# 5! = 5*4*3*2*1"
   ]
  },
  {
   "cell_type": "code",
   "execution_count": null,
   "id": "6fbf5023",
   "metadata": {
    "id": "6fbf5023"
   },
   "outputs": [],
   "source": [
    "def fact(n):  # n = 5\n",
    "    f = 1\n",
    "    for i in range(n,0,-1):  # start=5,end=0,step=-1\n",
    "        f = f*i\n",
    "    print('Factorial of',n,'is',f)\n",
    "# i = 1 , f = 1*1 = 1\n",
    "# i = 2 , f = 1*2 = 2\n",
    "# i = 3 , f = 2*3 = 6\n",
    "# i = 4 , f = 6*4 = 24\n",
    "# i = 5 , f = 24*5 = 120"
   ]
  },
  {
   "cell_type": "code",
   "execution_count": null,
   "id": "4570d5b5",
   "metadata": {
    "id": "4570d5b5",
    "outputId": "dad61988-a1ec-4537-da30-03681be88850"
   },
   "outputs": [
    {
     "name": "stdout",
     "output_type": "stream",
     "text": [
      "Factorial of 5 is 120\n"
     ]
    }
   ],
   "source": [
    "fact(5)"
   ]
  },
  {
   "cell_type": "code",
   "execution_count": null,
   "id": "0357f14e",
   "metadata": {
    "id": "0357f14e"
   },
   "outputs": [],
   "source": []
  }
 ],
 "metadata": {
  "colab": {
   "provenance": []
  },
  "kernelspec": {
   "display_name": "Python 3 (ipykernel)",
   "language": "python",
   "name": "python3"
  },
  "language_info": {
   "codemirror_mode": {
    "name": "ipython",
    "version": 3
   },
   "file_extension": ".py",
   "mimetype": "text/x-python",
   "name": "python",
   "nbconvert_exporter": "python",
   "pygments_lexer": "ipython3",
   "version": "3.12.2"
  }
 },
 "nbformat": 4,
 "nbformat_minor": 5
}
