{
 "cells": [
  {
   "cell_type": "code",
   "execution_count": 2,
   "id": "be834ea9-d938-424d-ab34-3d591fecd2e9",
   "metadata": {},
   "outputs": [
    {
     "name": "stdin",
     "output_type": "stream",
     "text": [
      "Enter the number 5\n"
     ]
    },
    {
     "name": "stdout",
     "output_type": "stream",
     "text": [
      "5 Is div By 5\n"
     ]
    }
   ],
   "source": [
    "n=int(input(\"Enter the number\"))\n",
    "if n%5==0:\n",
    "    print(n,\"Is div By 5\")\n",
    "else:\n",
    "    print(n,\"not div by 5\")\n",
    "   "
   ]
  },
  {
   "cell_type": "code",
   "execution_count": 6,
   "id": "5557f36a-f77d-4133-8ac4-6ba69d409efb",
   "metadata": {},
   "outputs": [
    {
     "name": "stdin",
     "output_type": "stream",
     "text": [
      "Enter the the age 40\n",
      "Enter the grad status grad\n"
     ]
    },
    {
     "name": "stdout",
     "output_type": "stream",
     "text": [
      "Person is eligible\n"
     ]
    }
   ],
   "source": [
    "n=int(input(\"Enter the the age\"))\n",
    "edu=input(\"Enter the grad status\")\n",
    "if n < 18 and edu == \"grad\":\n",
    "    print(\"person is not eligible \")\n",
    "else:\n",
    "    print(\"Person is eligible\")\n",
    "    "
   ]
  },
  {
   "cell_type": "code",
   "execution_count": 11,
   "id": "b8542e94-7108-4a1f-9c93-66eaf2509c24",
   "metadata": {},
   "outputs": [
    {
     "name": "stdin",
     "output_type": "stream",
     "text": [
      "enter your company 12\n",
      "Enter your Id 21\n",
      "Enter Password 556\n",
      "Enter your Department 566\n"
     ]
    },
    {
     "name": "stdout",
     "output_type": "stream",
     "text": [
      "Check your credential\n"
     ]
    }
   ],
   "source": [
    "company=input(\"enter your company\")\n",
    "id=int(input(\"Enter your Id\"))\n",
    "password=int(input(\"Enter Password\"))\n",
    "dept=input(\"Enter your Department\")\n",
    "\n",
    "if company==\"imarticus\" and id==121 and password==2323 and dept==\"IT\":\n",
    "    print(\"Login\")\n",
    "else:\n",
    "    print(\"Check your credential\")"
   ]
  },
  {
   "cell_type": "code",
   "execution_count": 17,
   "id": "3ad25c95-3e6d-41d6-a14d-06636387a3c7",
   "metadata": {},
   "outputs": [
    {
     "name": "stdin",
     "output_type": "stream",
     "text": [
      "Enter your age 20\n"
     ]
    },
    {
     "name": "stdout",
     "output_type": "stream",
     "text": [
      "bus fare is 30\n"
     ]
    }
   ],
   "source": [
    "age=int(input(\"Enter your age\"))\n",
    "if(0<age<=3):\n",
    "     print(\"No fare\")\n",
    "elif(3<age <5):\n",
    "     print(\"bus fare is 15\")\n",
    "else:\n",
    "    print(\"bus fare is 30\")"
   ]
  },
  {
   "cell_type": "code",
   "execution_count": 22,
   "id": "e4db2a88-964d-4f2b-903a-0f6f7624984d",
   "metadata": {},
   "outputs": [
    {
     "name": "stdin",
     "output_type": "stream",
     "text": [
      "Enter name Himanshu\n",
      "enter password 256545\n"
     ]
    },
    {
     "name": "stdout",
     "output_type": "stream",
     "text": [
      "Invalid credential \n"
     ]
    }
   ],
   "source": [
    "list1=[122,53545,89979,12312]\n",
    "username=input(\"Enter name\")\n",
    "password=int(input(\"enter password\"))\n",
    "\n",
    "if password in list1 and username==\"Himanshu\":\n",
    "   print(\"Login\")\n",
    "else:\n",
    "    print(\"Invalid credential \")"
   ]
  },
  {
   "cell_type": "code",
   "execution_count": 23,
   "id": "d54958c1-1820-4a1e-a76b-6e2939ba09ce",
   "metadata": {},
   "outputs": [
    {
     "name": "stdin",
     "output_type": "stream",
     "text": [
      "Enter account number 7656631641\n"
     ]
    },
    {
     "name": "stdout",
     "output_type": "stream",
     "text": [
      "invalid\n"
     ]
    }
   ],
   "source": [
    "list2=[768455432342,577982143546,58769852,56662256222]\n",
    "accountno=int(input(\"Enter account number\"))\n",
    "\n",
    "if accountno in list2:\n",
    "    print(\"valid\")\n",
    "else:\n",
    "    print(\"invalid\")"
   ]
  },
  {
   "cell_type": "markdown",
   "id": "d840586c-e5df-40ec-b857-7da62adcbbbf",
   "metadata": {},
   "source": [
    "### ternary operator "
   ]
  },
  {
   "cell_type": "code",
   "execution_count": 24,
   "id": "0abbfed0-7685-406d-864b-55256658af95",
   "metadata": {},
   "outputs": [
    {
     "name": "stdin",
     "output_type": "stream",
     "text": [
      "Enter the value 21\n"
     ]
    },
    {
     "name": "stdout",
     "output_type": "stream",
     "text": [
      "odd\n"
     ]
    }
   ],
   "source": [
    "x=int(input(\"Enter the value\"))\n",
    "res=\"even\" if x%2==0 else \"odd\"\n",
    "print(res)"
   ]
  },
  {
   "cell_type": "code",
   "execution_count": 4,
   "id": "a5d267c5-fbed-480c-bcb1-aaf502f0f3c4",
   "metadata": {},
   "outputs": [
    {
     "ename": "SyntaxError",
     "evalue": "invalid syntax (3079249139.py, line 2)",
     "output_type": "error",
     "traceback": [
      "\u001b[1;36m  Cell \u001b[1;32mIn[4], line 2\u001b[1;36m\u001b[0m\n\u001b[1;33m    if score between 0 and 40:\u001b[0m\n\u001b[1;37m             ^\u001b[0m\n\u001b[1;31mSyntaxError\u001b[0m\u001b[1;31m:\u001b[0m invalid syntax\n"
     ]
    }
   ],
   "source": [
    "score= int(input(\"Enter the score \"))\n",
    "if score between 0 and 40:  \n",
    "     print(\"Poor\")\n",
    "elif score between 41 and 60:  \n",
    "     print(\"Average\")\n",
    "elif score between 61 and 80:  \n",
    "     print(\"Good\")\n",
    "elif score between 81 and 90:  \n",
    "     print(\"Excellemt\")\n",
    "elif score between 91 and 100:\n",
    "     print(\"Outstanding\")\n",
    "else:\n",
    "     print(\"invad Score\")\n",
    "\n",
    "  \n",
    "\n"
   ]
  },
  {
   "cell_type": "code",
   "execution_count": null,
   "id": "1b7452ca-aca4-4d7c-906a-73f6f17c0a31",
   "metadata": {},
   "outputs": [
    {
     "name": "stdin",
     "output_type": "stream",
     "text": [
      "Enter the size 3\n",
      "Enter the number 0:  5\n"
     ]
    }
   ],
   "source": [
    "# list1=[]\n",
    "number=int(input(\"Enter the size\"))\n",
    "for i in range (number):\n",
    "     num = int(input(f\"Enter the number {i}: \"))\n",
    "     list1.append(num)\n",
    "maximum =list1.max()\n",
    "minimum =list2.min()\n",
    "\n",
    "print(\"the max is \",maximum,\"/n The minimum is \", minimum)\n",
    "print(maximum-minimum)"
   ]
  },
  {
   "cell_type": "code",
   "execution_count": 14,
   "id": "4bae76c2-c1da-4c1c-96e2-ce09a8ed6db8",
   "metadata": {},
   "outputs": [
    {
     "name": "stdout",
     "output_type": "stream",
     "text": [
      "v_k\n"
     ]
    }
   ],
   "source": [
    "x=\"virat\"\n",
    "y=\"kohli\"\n",
    "print(x[0],y[0],sep=\"_\")"
   ]
  },
  {
   "cell_type": "code",
   "execution_count": 18,
   "id": "8c8d1f51-3358-4a07-aa57-639ebd89797c",
   "metadata": {},
   "outputs": [
    {
     "name": "stdin",
     "output_type": "stream",
     "text": [
      "Enter the string Himashh @\n"
     ]
    },
    {
     "name": "stdout",
     "output_type": "stream",
     "text": [
      "9\n"
     ]
    }
   ],
   "source": [
    "st=input(\"Enter the string\")\n",
    "print(len(st))"
   ]
  },
  {
   "cell_type": "code",
   "execution_count": 25,
   "id": "772d3a5c-b63e-4a8a-aa37-3605cf4b2350",
   "metadata": {},
   "outputs": [
    {
     "name": "stdout",
     "output_type": "stream",
     "text": [
      "HELLO\n",
      "hlw i am himanshu\n",
      "Hlw I Am Himanshu\n",
      "Hlw i am himanshu\n",
      "hELLO\n"
     ]
    }
   ],
   "source": [
    "S1=\"Hello\"\n",
    "S2=\"Hlw I am Himanshu\"\n",
    "print(S1.upper())\n",
    "print(S2.lower())\n",
    "print(S2.title())\n",
    "print(S2.capitalize())\n",
    "print(S1.swapcase())"
   ]
  },
  {
   "cell_type": "code",
   "execution_count": 27,
   "id": "37a390e2-3f55-4928-8270-cc299504aec8",
   "metadata": {},
   "outputs": [
    {
     "name": "stdout",
     "output_type": "stream",
     "text": [
      "HeLlO\n"
     ]
    }
   ],
   "source": [
    "S1=\"Hello\"\n",
    "S2=S1[0:2]+s1[2].upper()+S1[3]+S1[-1].upper()\n",
    "print(S2)\n"
   ]
  },
  {
   "cell_type": "code",
   "execution_count": 31,
   "id": "24964472-f489-477b-b704-8ad7825b592e",
   "metadata": {},
   "outputs": [
    {
     "name": "stdout",
     "output_type": "stream",
     "text": [
      "False\n",
      "False\n",
      "True\n"
     ]
    }
   ],
   "source": [
    "print(S1.isupper())\n",
    "print(S1.islower())\n",
    "S3=\"HELLO\"\n",
    "print(S3.isupper())"
   ]
  },
  {
   "cell_type": "markdown",
   "id": "f68bed63-0881-41a4-9759-9733519e59ce",
   "metadata": {},
   "source": [
    "### 1 ) isalpha() - only character or space is not in between words - True otherwise false (no special character)\n",
    "### 2) isalnum() -only character or only number or combination of both -True otherwise false ->special condition ,space between words -False, (no special character)\n",
    "\n",
    "### 3) isdigit() - all digit -True otherwise false\n",
    "### 4) isspace() - all space -True otherwise false"
   ]
  },
  {
   "cell_type": "code",
   "execution_count": 38,
   "id": "3dfdec37-7edd-49a3-af89-e76e01fca43a",
   "metadata": {},
   "outputs": [
    {
     "name": "stdout",
     "output_type": "stream",
     "text": [
      "True\n",
      "True\n",
      "True\n",
      "False\n"
     ]
    }
   ],
   "source": [
    "W1=\"Delhi\"\n",
    "print(W1.isalpha())\n",
    "print(W1.isalnum())\n",
    "W2=\"125Hlw\"\n",
    "print(W2.isalnum())\n",
    "w3=\"@#$123Num\"\n",
    "print(w3.isalnum())\n"
   ]
  },
  {
   "cell_type": "code",
   "execution_count": 40,
   "id": "6b3612a3-6bd1-4803-b273-eedd2337c4fd",
   "metadata": {},
   "outputs": [
    {
     "name": "stdout",
     "output_type": "stream",
     "text": [
      "False\n"
     ]
    }
   ],
   "source": [
    "print(W1.isdigit())"
   ]
  },
  {
   "cell_type": "code",
   "execution_count": 42,
   "id": "7f524756-96e1-47eb-a943-8bf38558075c",
   "metadata": {},
   "outputs": [
    {
     "data": {
      "text/plain": [
       "['learning', 'Python']"
      ]
     },
     "execution_count": 42,
     "metadata": {},
     "output_type": "execute_result"
    }
   ],
   "source": [
    "W=\"learning Python\"\n",
    "W.split()"
   ]
  },
  {
   "cell_type": "code",
   "execution_count": null,
   "id": "314413ec-ab51-44f4-9f0f-a13df61eae66",
   "metadata": {},
   "outputs": [],
   "source": [
    "W.split(\"n\")"
   ]
  },
  {
   "cell_type": "code",
   "execution_count": null,
   "id": "795c1de5-f143-40e0-89b9-d840bfd5a979",
   "metadata": {},
   "outputs": [],
   "source": [
    "w2,w3=\"Hello Python\",\"And SQL\"\n",
    "\n",
    "print(w2,w3,sep=\"-\",end=\"@\")"
   ]
  },
  {
   "cell_type": "code",
   "execution_count": 2,
   "id": "c4854852-c4f0-41ac-8498-cb0daf77e924",
   "metadata": {},
   "outputs": [
    {
     "name": "stdout",
     "output_type": "stream",
     "text": [
      "I   a m   H i m a n s h u "
     ]
    }
   ],
   "source": [
    "str1= \"I am Himanshu\"\n",
    "for i in str1:\n",
    "    print(i,end=\" \")\n",
    "  "
   ]
  },
  {
   "cell_type": "code",
   "execution_count": 3,
   "id": "26b1da2d-b35a-428e-8fed-158e2ca88e7a",
   "metadata": {},
   "outputs": [
    {
     "name": "stdout",
     "output_type": "stream",
     "text": [
      "52\n",
      "98\n",
      "46\n",
      "88\n",
      "54\n",
      "24\n",
      "66\n"
     ]
    }
   ],
   "source": [
    "list1=[11,52,85,98,46,88,54,24,65,66]\n",
    "for i in list1:\n",
    "    if i%2==0:\n",
    "      print(i)"
   ]
  },
  {
   "cell_type": "code",
   "execution_count": 12,
   "id": "167ef0ef-4af8-4a8c-bd23-e09d43189577",
   "metadata": {},
   "outputs": [
    {
     "name": "stdout",
     "output_type": "stream",
     "text": [
      "0 T\n",
      "1 O\n",
      "2 D\n",
      "3 A\n",
      "4 Y\n"
     ]
    }
   ],
   "source": [
    "s=\"TODAY\"\n",
    "for i in range(0,len(s)):\n",
    "    print(i,s[i])"
   ]
  },
  {
   "cell_type": "code",
   "execution_count": 16,
   "id": "bbb5287f-7184-4345-b442-a867501daa19",
   "metadata": {},
   "outputs": [
    {
     "name": "stdout",
     "output_type": "stream",
     "text": [
      "sum 19\n"
     ]
    }
   ],
   "source": [
    "for i in range(1,20):\n",
    "    sum+=i\n",
    "print(\"sum\",i)    \n",
    "    "
   ]
  },
  {
   "cell_type": "code",
   "execution_count": 17,
   "id": "9ab73ef5-4aad-4508-ac37-137136d03371",
   "metadata": {},
   "outputs": [
    {
     "name": "stdout",
     "output_type": "stream",
     "text": [
      "sum 19\n"
     ]
    }
   ],
   "source": [
    "for i in range(1,20):\n",
    "    if i%2==0:\n",
    "     sum+=i\n",
    "print(\"sum\",i)  "
   ]
  },
  {
   "cell_type": "code",
   "execution_count": 21,
   "id": "b50923a4-50e3-445a-97a0-ea7e1d5aa293",
   "metadata": {},
   "outputs": [
    {
     "ename": "SyntaxError",
     "evalue": "did you forget parentheses around the comprehension target? (249714684.py, line 1)",
     "output_type": "error",
     "traceback": [
      "\u001b[1;36m  Cell \u001b[1;32mIn[21], line 1\u001b[1;36m\u001b[0m\n\u001b[1;33m    list1 =[ (i**2), for i in range[1,20] ,i%2==0 ]\u001b[0m\n\u001b[1;37m              ^\u001b[0m\n\u001b[1;31mSyntaxError\u001b[0m\u001b[1;31m:\u001b[0m did you forget parentheses around the comprehension target?\n"
     ]
    }
   ],
   "source": [
    "list1 =[ (i**2), for i in range[1,20] ,i%2==0 ]\n",
    "for i in list1:\n",
    "    print(i)"
   ]
  }
 ],
 "metadata": {
  "kernelspec": {
   "display_name": "Python 3 (ipykernel)",
   "language": "python",
   "name": "python3"
  },
  "language_info": {
   "codemirror_mode": {
    "name": "ipython",
    "version": 3
   },
   "file_extension": ".py",
   "mimetype": "text/x-python",
   "name": "python",
   "nbconvert_exporter": "python",
   "pygments_lexer": "ipython3",
   "version": "3.12.2"
  }
 },
 "nbformat": 4,
 "nbformat_minor": 5
}
