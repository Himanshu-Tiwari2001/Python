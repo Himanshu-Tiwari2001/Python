{
 "cells": [
  {
   "cell_type": "code",
   "execution_count": 10,
   "id": "f8caff45-8937-4377-b4ac-d374a7a7cb3a",
   "metadata": {},
   "outputs": [
    {
     "name": "stdout",
     "output_type": "stream",
     "text": [
      "The result is  27\n"
     ]
    }
   ],
   "source": [
    "def power(a,b):\n",
    "    c=a**b\n",
    "    print(\"The result is \",c)\n",
    "\n",
    "power(3,3)"
   ]
  },
  {
   "cell_type": "code",
   "execution_count": 13,
   "id": "4ecd9cb6-dc22-42d1-b354-002157df5c54",
   "metadata": {},
   "outputs": [
    {
     "data": {
      "text/plain": [
       "4.166666666666667"
      ]
     },
     "execution_count": 13,
     "metadata": {},
     "output_type": "execute_result"
    }
   ],
   "source": [
    "def speed_cal(distance,time):\n",
    "    s=distance/time\n",
    "    return s\n",
    "    # print(f\"Your speed is {s} \")\n",
    "\n",
    "speed_cal(20,5)\n",
    "\n",
    "def time(distance,speed):\n",
    "    t=distance/speed\n",
    "    return t\n",
    "\n",
    "time(300,72)"
   ]
  },
  {
   "cell_type": "code",
   "execution_count": 25,
   "id": "46e4a9ce-2e28-4fdc-af68-400793337b15",
   "metadata": {},
   "outputs": [
    {
     "name": "stdin",
     "output_type": "stream",
     "text": [
      "Enter the radius 4\n"
     ]
    },
    {
     "data": {
      "text/plain": [
       "50.24"
      ]
     },
     "execution_count": 25,
     "metadata": {},
     "output_type": "execute_result"
    }
   ],
   "source": [
    "def circle_area():\n",
    "    radius=int(input(\"Enter the radius\"))\n",
    "    area=3.14*radius**2\n",
    "    return area\n",
    "    \n",
    "\n",
    "circle_area()"
   ]
  },
  {
   "cell_type": "code",
   "execution_count": 19,
   "id": "dd872bff-50e3-4c74-bece-b42c757390e1",
   "metadata": {},
   "outputs": [
    {
     "name": "stdout",
     "output_type": "stream",
     "text": [
      "the diagonal is 7.07\n"
     ]
    }
   ],
   "source": [
    "import math\n",
    "def rec(length,area):\n",
    "    breath=area/length\n",
    "    d=length**2 + breath**2\n",
    "    \n",
    "    diagonal= round(math.sqrt(d),2)\n",
    "    print(f\"the diagonal is { diagonal}\")\n",
    "\n",
    "rec(5,25)"
   ]
  },
  {
   "cell_type": "code",
   "execution_count": 20,
   "id": "a0c30c25-b9b8-4632-93f8-9e4d4ac74be3",
   "metadata": {},
   "outputs": [
    {
     "name": "stdout",
     "output_type": "stream",
     "text": [
      "['__doc__', '__loader__', '__name__', '__package__', '__spec__', 'acos', 'acosh', 'asin', 'asinh', 'atan', 'atan2', 'atanh', 'cbrt', 'ceil', 'comb', 'copysign', 'cos', 'cosh', 'degrees', 'dist', 'e', 'erf', 'erfc', 'exp', 'exp2', 'expm1', 'fabs', 'factorial', 'floor', 'fmod', 'frexp', 'fsum', 'gamma', 'gcd', 'hypot', 'inf', 'isclose', 'isfinite', 'isinf', 'isnan', 'isqrt', 'lcm', 'ldexp', 'lgamma', 'log', 'log10', 'log1p', 'log2', 'modf', 'nan', 'nextafter', 'perm', 'pi', 'pow', 'prod', 'radians', 'remainder', 'sin', 'sinh', 'sqrt', 'sumprod', 'tan', 'tanh', 'tau', 'trunc', 'ulp']\n"
     ]
    }
   ],
   "source": [
    "print(dir(math))"
   ]
  },
  {
   "cell_type": "code",
   "execution_count": 30,
   "id": "46b7fee7-ae21-4112-95fe-1c41db52fd4c",
   "metadata": {},
   "outputs": [
    {
     "name": "stdout",
     "output_type": "stream",
     "text": [
      "The factors of 10 are [1, 2, 3, 4, 5, 6, 7, 8, 9, 10]\n"
     ]
    }
   ],
   "source": [
    "def factors(num):\n",
    "    factors=[i for i in range(1,num+1) if num%2==0]\n",
    "    print(f\"The factors of {num} are {factors}\")\n",
    "\n",
    "factors(10)"
   ]
  },
  {
   "cell_type": "code",
   "execution_count": 73,
   "id": "286432df-cea6-4332-9f24-738af4c6a54e",
   "metadata": {},
   "outputs": [
    {
     "name": "stdout",
     "output_type": "stream",
     "text": [
      "[5, 5, 7, 7, 6, 8, 3]\n",
      " the maximum length of words is  8\n",
      "Counter({5: 2, 7: 2, 6: 1, 8: 1, 3: 1})\n",
      "The most repeated length  = 5\n",
      "Hello\n",
      "India\n",
      "The word having max length amongst the words list is -->  function\n"
     ]
    }
   ],
   "source": [
    "from collections import Counter\n",
    "words=[\"Hello\",\"India\",\"Anlysis\",\"Science\",\"laptop\",\"function\",\"sql\"]\n",
    "\n",
    "w_len=[ len(i) for i in words ]\n",
    "print(w_len)\n",
    "\n",
    "\n",
    "\n",
    " # print the word that has max length and and words of equal length \n",
    "max_length=max(w_len)\n",
    "print(\" the maximum length of words is \",max_length)\n",
    "# print(words)\n",
    "\n",
    "count_of_similarword_len=Counter(w_len)\n",
    "print(count_of_similarword_len)\n",
    "# it return the dictionary which contain the count of each occurence\n",
    "max_repeated_key = max(count_of_similarword, key=count_of_similarword.get)\n",
    "print(\"The most repeated length  =\", max_repeated_key)\n",
    "\n",
    "for i in words:\n",
    "    \n",
    "    if len(i)==max_length:\n",
    "        print(\"The word having max length amongst the words list is --> \",i)\n",
    "    if len(i)==max_repeated_key:\n",
    "        print(i)\n",
    "        "
   ]
  }
 ],
 "metadata": {
  "kernelspec": {
   "display_name": "Python 3 (ipykernel)",
   "language": "python",
   "name": "python3"
  },
  "language_info": {
   "codemirror_mode": {
    "name": "ipython",
    "version": 3
   },
   "file_extension": ".py",
   "mimetype": "text/x-python",
   "name": "python",
   "nbconvert_exporter": "python",
   "pygments_lexer": "ipython3",
   "version": "3.12.2"
  }
 },
 "nbformat": 4,
 "nbformat_minor": 5
}
