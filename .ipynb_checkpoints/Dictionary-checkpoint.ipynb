{
 "cells": [
  {
   "cell_type": "markdown",
   "id": "c160afd5-ed27-468c-9ff2-e8cf3d509d86",
   "metadata": {},
   "source": [
    "###  we store values in dictionary in the key:value pair\n",
    "### each particular element is seperated by \",\" \n",
    "### value may be duplicate or unique but key should be unique\n",
    "### keys= k1,k2,k3,k4,k5\n",
    "### value = 10,5,5,35,\"String\""
   ]
  },
  {
   "cell_type": "code",
   "execution_count": 1,
   "id": "be263b21-65b8-4332-b680-40bf2f3e0ebd",
   "metadata": {},
   "outputs": [
    {
     "name": "stdout",
     "output_type": "stream",
     "text": [
      "{} <class 'dict'>\n",
      "{} <class 'dict'>\n"
     ]
    }
   ],
   "source": [
    "d1,d2={}, dict()\n",
    "print(d1,type(d1))\n",
    "print(d2,type(d2))"
   ]
  },
  {
   "cell_type": "code",
   "execution_count": 4,
   "id": "ec72863b-f058-4a3a-add3-efee4b3a84d3",
   "metadata": {},
   "outputs": [
    {
     "name": "stdout",
     "output_type": "stream",
     "text": [
      "{'Name': 'Ram', 'Age': 30, 'city': 'Delhi'}\n"
     ]
    },
    {
     "data": {
      "text/plain": [
       "dict"
      ]
     },
     "execution_count": 4,
     "metadata": {},
     "output_type": "execute_result"
    }
   ],
   "source": [
    "w1={\"Name\":\"Ram\",\"Age\":30,\"city\":\"Delhi\"}\n",
    "print(w1)\n",
    "type(w1)"
   ]
  },
  {
   "cell_type": "code",
   "execution_count": 8,
   "id": "6755bf7f-cd1b-44ad-8f39-0d9a55eeccfc",
   "metadata": {
    "scrolled": true
   },
   "outputs": [
    {
     "name": "stdout",
     "output_type": "stream",
     "text": [
      "Ram\n",
      "Delhi\n"
     ]
    }
   ],
   "source": [
    "print(w1[\"Name\"])\n",
    "print(w1[\"city\"])"
   ]
  },
  {
   "cell_type": "code",
   "execution_count": 14,
   "id": "96891c30-0480-4bf9-88e6-f6f906355b9e",
   "metadata": {},
   "outputs": [
    {
     "name": "stdout",
     "output_type": "stream",
     "text": [
      "{'Name': 'mohan', 'Age': 25, 'city': 'Delhi', 'dept': 'it'}\n"
     ]
    }
   ],
   "source": [
    "w1[\"Name\"]=\"mohan\"\n",
    "w1[\"city\"]=\"Delhi\"\n",
    "w1[\"Age\"]=25\n",
    "w1[\"dept\"]=\"it\"\n",
    "print(w1)"
   ]
  },
  {
   "cell_type": "code",
   "execution_count": 17,
   "id": "983cc256-6506-44ee-80b0-f5110ad559b4",
   "metadata": {},
   "outputs": [
    {
     "name": "stdout",
     "output_type": "stream",
     "text": [
      "{'k1': 30, 'k2': 35, 'k3': 20, 'k5': 35}\n"
     ]
    }
   ],
   "source": [
    "w2={\"k1\":30,\"k2\":32,\"k3\":20,\"k2\":35,\"k5\":35}\n",
    "print(w2)"
   ]
  },
  {
   "cell_type": "markdown",
   "id": "fcfaa28b-1b75-449b-a0d0-7d3d3d5dfb23",
   "metadata": {},
   "source": [
    "## 1-> get()"
   ]
  },
  {
   "cell_type": "code",
   "execution_count": 20,
   "id": "9a7a3ddd-5a8b-453b-98b4-34f8ae8f880b",
   "metadata": {},
   "outputs": [
    {
     "name": "stdout",
     "output_type": "stream",
     "text": [
      "30\n",
      "35\n"
     ]
    }
   ],
   "source": [
    "print(w2.get(\"k1\"))\n",
    "print(w2.get(\"k5\"))\n"
   ]
  },
  {
   "cell_type": "code",
   "execution_count": 19,
   "id": "505659b5-b01e-41e6-b2f0-deefeee094a0",
   "metadata": {},
   "outputs": [
    {
     "name": "stdout",
     "output_type": "stream",
     "text": [
      "None\n"
     ]
    }
   ],
   "source": [
    "print(w2.get(\"k10\"))"
   ]
  },
  {
   "cell_type": "markdown",
   "id": "212a9b19-f3e6-4143-8bb7-1a5a8ce3b6ca",
   "metadata": {},
   "source": [
    "## Pop() function in dictionary\n",
    "## it takes key as an arguments\n",
    "## i fthe key is valid and if we do not pass key int it shows error"
   ]
  },
  {
   "cell_type": "code",
   "execution_count": 22,
   "id": "b3c1f1a5-b904-4c8d-a4e1-2a3bb15e8a0b",
   "metadata": {},
   "outputs": [
    {
     "name": "stdout",
     "output_type": "stream",
     "text": [
      "{'k1': 30, 'k2': 35, 'k3': 20}\n"
     ]
    }
   ],
   "source": [
    "w2.pop(\"k5\")\n",
    "print(w2)"
   ]
  },
  {
   "cell_type": "markdown",
   "id": "2c9ee091-1072-4c63-87f1-2c8dd3e59966",
   "metadata": {},
   "source": [
    "## pop items in dictionary it removes the items using LIFO Concept order right to left"
   ]
  },
  {
   "cell_type": "code",
   "execution_count": 24,
   "id": "a0931d0e-beeb-4a4e-89e0-ba97f4b6b51d",
   "metadata": {},
   "outputs": [
    {
     "name": "stdout",
     "output_type": "stream",
     "text": [
      "{'k1': 30, 'k2': 35}\n"
     ]
    }
   ],
   "source": [
    "w2.popitem()\n",
    "print(w2)"
   ]
  },
  {
   "cell_type": "markdown",
   "id": "dddc7af1-f079-4559-8e63-6fa2da751aad",
   "metadata": {},
   "source": [
    "## clear() it is used to clear the  whole dictionary\n",
    "## w2.clear()"
   ]
  },
  {
   "cell_type": "markdown",
   "id": "6740966b-c1de-49c5-80e4-0ca287a6f7f4",
   "metadata": {},
   "source": [
    "## update() method in python \n"
   ]
  },
  {
   "cell_type": "code",
   "execution_count": 27,
   "id": "eb7d977e-5cd1-4263-8dad-72284418ee27",
   "metadata": {},
   "outputs": [
    {
     "name": "stdout",
     "output_type": "stream",
     "text": [
      "{'k1': 30, 'k2': 35, 'k3': 20, 'k5': 35}\n",
      "{'k6': 30, 'k7': 32, 'k8': 20, 'k2': 40, 'k5': 35}\n",
      "None\n"
     ]
    }
   ],
   "source": [
    "w3={\"k1\":30,\"k2\":32,\"k3\":20,\"k2\":35,\"k5\":35}\n",
    "print(w3)\n",
    "w4={\"k6\":30,\"k7\":32,\"k8\":20,\"k2\":40,\"k5\":35}\n",
    "print(w4)\n",
    "\n",
    "print(w3.update(w4))\n"
   ]
  },
  {
   "cell_type": "markdown",
   "id": "8dea473c-8205-46cb-a3e4-3fc66a7a57c5",
   "metadata": {},
   "source": [
    "### setdefault() in dictionary "
   ]
  },
  {
   "cell_type": "markdown",
   "id": "cff5397c-8b24-438f-a302-f88cacd1367c",
   "metadata": {},
   "source": [
    "## items() and value()  and keys() in dict"
   ]
  },
  {
   "cell_type": "code",
   "execution_count": 30,
   "id": "9a34e468-c343-4139-8e8b-2e6f6b93e9fc",
   "metadata": {},
   "outputs": [
    {
     "data": {
      "text/plain": [
       "dict_values([30, 40, 20, 35, 30, 32, 20])"
      ]
     },
     "execution_count": 30,
     "metadata": {},
     "output_type": "execute_result"
    }
   ],
   "source": [
    "w3.values()"
   ]
  },
  {
   "cell_type": "code",
   "execution_count": 31,
   "id": "6ca413bf-5cb1-4842-b3b3-6b3f0cea5c47",
   "metadata": {},
   "outputs": [
    {
     "data": {
      "text/plain": [
       "dict_items([('k1', 30), ('k2', 40), ('k3', 20), ('k5', 35), ('k6', 30), ('k7', 32), ('k8', 20)])"
      ]
     },
     "execution_count": 31,
     "metadata": {},
     "output_type": "execute_result"
    }
   ],
   "source": [
    "w3.items()"
   ]
  },
  {
   "cell_type": "code",
   "execution_count": 32,
   "id": "b5a605ad-7609-4b98-be94-baa99fa2d01d",
   "metadata": {},
   "outputs": [
    {
     "data": {
      "text/plain": [
       "dict_keys(['k1', 'k2', 'k3', 'k5', 'k6', 'k7', 'k8'])"
      ]
     },
     "execution_count": 32,
     "metadata": {},
     "output_type": "execute_result"
    }
   ],
   "source": [
    "w3.keys()"
   ]
  },
  {
   "cell_type": "code",
   "execution_count": null,
   "id": "ceaf46ed-dbd7-4886-a25d-c7ea33eb737a",
   "metadata": {},
   "outputs": [],
   "source": []
  }
 ],
 "metadata": {
  "kernelspec": {
   "display_name": "Python 3 (ipykernel)",
   "language": "python",
   "name": "python3"
  },
  "language_info": {
   "codemirror_mode": {
    "name": "ipython",
    "version": 3
   },
   "file_extension": ".py",
   "mimetype": "text/x-python",
   "name": "python",
   "nbconvert_exporter": "python",
   "pygments_lexer": "ipython3",
   "version": "3.12.2"
  }
 },
 "nbformat": 4,
 "nbformat_minor": 5
}
