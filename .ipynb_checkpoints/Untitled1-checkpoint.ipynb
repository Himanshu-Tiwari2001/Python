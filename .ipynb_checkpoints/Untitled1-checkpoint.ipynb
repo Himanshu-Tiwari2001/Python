{
 "cells": [
  {
   "cell_type": "code",
   "execution_count": 5,
   "id": "74418f71-3801-492d-b1ac-c3db26e4ccc2",
   "metadata": {},
   "outputs": [
    {
     "name": "stdout",
     "output_type": "stream",
     "text": [
      "['2024', '2023', '2022', '2025']\n"
     ]
    }
   ],
   "source": [
    "# if the legth of the string is divided by 3 then print the number in reverse order otherwise just -1\n",
    "# S=[\"Table\",\"Laptop\",\"Mobile\",\"Charger\"]\n",
    "\n",
    "\n",
    "# list \n",
    "# words=[\"Hlw\",\"Mobile\",\"Charger\"]\n",
    "\n",
    "# lamda x:x**2  \n",
    "\n",
    "dates=[\"2024/04/11\",\"2023/10/24\",\"2022/03/30\",\"2025/04/25\"]\n",
    "w1=list(map(lambda z:z[:4],dates))\n",
    "print(w1)\n",
    "       \n",
    "\n"
   ]
  },
  {
   "cell_type": "code",
   "execution_count": 6,
   "id": "b98320bb-497c-46ae-a043-9d157acc259a",
   "metadata": {},
   "outputs": [
    {
     "name": "stdout",
     "output_type": "stream",
     "text": [
      "[4, 9, 16, 25, 36]\n"
     ]
    }
   ],
   "source": [
    "lts=[2,3,4,5,6]\n",
    "sqr=list(map(lambda a:a**2,lts))\n",
    "print(sqr)"
   ]
  },
  {
   "cell_type": "code",
   "execution_count": 13,
   "id": "29b0457c-1207-4795-a2be-4588df09d097",
   "metadata": {},
   "outputs": [
    {
     "name": "stdout",
     "output_type": "stream",
     "text": [
      "4 9 16 25 36 "
     ]
    }
   ],
   "source": [
    "lts=[2,3,4,5,6]\n",
    "[ i**2 for i in lts]\n",
    "\n",
    "for i in lts:\n",
    "    print(i**2,end=\" \")"
   ]
  },
  {
   "cell_type": "code",
   "execution_count": 14,
   "id": "e5dc8f76-5678-4e77-b5bf-20d9a36c27da",
   "metadata": {},
   "outputs": [
    {
     "name": "stdout",
     "output_type": "stream",
     "text": [
      "[20, 24, 38]\n"
     ]
    }
   ],
   "source": [
    "# filter\n",
    "r=[20,24,37,38,39,41]\n",
    "r2=list(filter(lambda x:x%2==0, r))\n",
    "print(r2)"
   ]
  },
  {
   "cell_type": "code",
   "execution_count": 15,
   "id": "7a05ac57-12ee-4c8c-95df-d31643aee0f2",
   "metadata": {},
   "outputs": [
    {
     "name": "stdout",
     "output_type": "stream",
     "text": [
      "[30, 34, 32, 48, 34, 36]\n"
     ]
    }
   ],
   "source": [
    "r=[20,24,37,38,39,41]\n",
    "r3=list(map(lambda x:x+10 if x%2==0 else x-5 , r))\n",
    "print(r3)"
   ]
  },
  {
   "cell_type": "code",
   "execution_count": 18,
   "id": "fad81c5d-df4f-44e4-997d-f70fbe66bfcb",
   "metadata": {},
   "outputs": [
    {
     "data": {
      "text/plain": [
       "100"
      ]
     },
     "execution_count": 18,
     "metadata": {},
     "output_type": "execute_result"
    }
   ],
   "source": [
    "from functools import reduce\n",
    "rng =list(range(10,50,10))\n",
    "rng\n",
    "\n",
    "reduce(lambda a,b:a+b,rng)\n"
   ]
  }
 ],
 "metadata": {
  "kernelspec": {
   "display_name": "Python 3 (ipykernel)",
   "language": "python",
   "name": "python3"
  },
  "language_info": {
   "codemirror_mode": {
    "name": "ipython",
    "version": 3
   },
   "file_extension": ".py",
   "mimetype": "text/x-python",
   "name": "python",
   "nbconvert_exporter": "python",
   "pygments_lexer": "ipython3",
   "version": "3.12.2"
  }
 },
 "nbformat": 4,
 "nbformat_minor": 5
}
